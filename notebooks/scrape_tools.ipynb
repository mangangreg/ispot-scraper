{
 "cells": [
  {
   "cell_type": "code",
   "execution_count": 2,
   "metadata": {
    "ExecuteTime": {
     "end_time": "2020-07-10T01:33:18.844118Z",
     "start_time": "2020-07-10T01:33:16.276617Z"
    }
   },
   "outputs": [],
   "source": [
    "import re\n",
    "import requests\n",
    "import time\n",
    "from bs4 import BeautifulSoup\n",
    "import pandas as pd\n",
    "from splinter import Browser"
   ]
  },
  {
   "cell_type": "code",
   "execution_count": 3,
   "metadata": {
    "ExecuteTime": {
     "end_time": "2020-07-10T01:33:18.860896Z",
     "start_time": "2020-07-10T01:33:18.851920Z"
    }
   },
   "outputs": [],
   "source": [
    "main_url = 'https://www.ispot.tv/browse'\n",
    "base_url = 'https://www.ispot.tv'"
   ]
  },
  {
   "cell_type": "code",
   "execution_count": null,
   "metadata": {
    "ExecuteTime": {
     "end_time": "2020-07-10T00:04:19.061451Z",
     "start_time": "2020-07-10T00:04:19.042502Z"
    }
   },
   "outputs": [],
   "source": [
    "test_ad = 'https://www.ispot.tv/ad/nrhg/rinvoq-your-mission-zip-line'"
   ]
  },
  {
   "cell_type": "markdown",
   "metadata": {
    "ExecuteTime": {
     "end_time": "2020-07-10T00:11:44.812461Z",
     "start_time": "2020-07-10T00:11:44.807473Z"
    }
   },
   "source": [
    "# Beautiful Soup"
   ]
  },
  {
   "cell_type": "code",
   "execution_count": 6,
   "metadata": {
    "ExecuteTime": {
     "end_time": "2020-07-10T00:05:14.776909Z",
     "start_time": "2020-07-10T00:05:14.225390Z"
    }
   },
   "outputs": [
    {
     "data": {
      "text/plain": [
       "b'\\n\\n<!DOCTYPE html>\\n<html lang=\"en\">\\n<head>\\n    <script src=\"https://www.googleoptimize.com/optimize.js?id=OPT-TRQ43KS\"></script>\\n\\n\\t<!-- START: Dynamically Added Above -->\\n\\n\\t<!-- START: Title Tag -->\\n\\t<title>RINVOQ TV Commercial, \\'Your Mission: Zip Line\\' - iSpot.tv</title>\\t<!-- START: Meta -->\\n\\t<meta name=\"description\" content=\"RINVOQ&#x20;is&#x20;a&#x20;prescription&#x20;oral&#x20;medication&#x20;intended&#x20;to&#x20;treat&#x20;those&#x20;who&#x20;suffer&#x20;from&#x20;moderate&#x20;to&#x20;severe&#x20;rheumatoid&#x20;arthritis&#x20;when&#x20;taken&#x20;as&#x20;directed.&#x20;For&#x20;those&#x20;who&#x20;have&#x20;been&#x20;financially&#x20;impacted&#x20;by&#x20;the&#x20;COVID-19&#x20;crisis,&#x20;the&#x20;pharmaceutical&#x20;company&#x20;may&#x20;be&#x20;able&#x20;to&#x20;provide&#x20;assistance.\">\\n<meta name=\"ad_shorturl\" content=\"https&#x3A;&#x2F;&#x2F;ispot.tv&#x2F;a&#x2F;nrhg\">\\n<meta name=\"ad_hash\" content=\"nrhg\">\\n<meta name=\"ad_id\" content=\"2884856\">\\n<meta name=\"ad_advertiser_id\" content=\"64878\">\\n<meta name=\"ad_subcategory_id\" content=\"283\">\\n<meta name=\"ad_rating\" content=\"0\">\\n<meta name=\"ad_firstoccur\" content=\"07&#x2F;06&#x2F;2020&#x20;18&#x3A;19&#x3A;13&#x20;GMT-0700&#x20;&#x28;PDT&#x29;\">\\n<meta name=\"ad_est_firstoccur\" content=\"07&#x2F;06&#x2F;2020&#x20;18&#x3A;49&#x3A;13&#x20;GMT-0700&#x20;&#x28;PDT&#x29;\">\\n<meta name=\"ad_lastoccur\" content=\"07&#x2F;09&#x2F;2020&#x20;17&#x3A;49&#x3A;58&#x20;GMT-0700&#x20;&#x28;PDT&#x29;\">\\n<meta name=\"ad_est_lastoccur\" content=\"07&#x2F;09&#x2F;2020&#x20;18&#x3A;49&#x3A;58&#x20;GMT-0700&#x20;&#x28;PDT&#x29;\">\\n<meta name=\"ad_time\" content=\"07&#x2F;09&#x2F;2020&#x20;17&#x3A;05&#x3A;14&#x20;GMT-0700&#x20;&#x28;PDT&#x29;\">\\n<meta name=\"ad_timestamp\" content=\"Thu&#x20;Jul&#x20;09&#x20;2020&#x20;17&#x3A;05&#x3A;14&#x20;GMT-0700&#x20;&#x28;PDT&#x29;\">\\n<meta name=\"user_voted\" content=\"false\">\\n<meta name=\"user_clientip\" content=\"68.175.94.155\">\\n<meta name=\"user_searchterm\" content=\"\">\\n<meta name=\"hostname\" content=\"vpe-web-www-001.vpe.ispot.tv\">\\n<meta name=\"trans_recentlyaired\" content=\"Recently&#x20;Aired\">\\n<meta name=\"trans_lastaired\" content=\"Last&#x20;Aired\">\\n<meta name=\"trans_on\" content=\"On\">\\n<meta name=\"trans_during\" content=\"During\">\\n<meta name=\"trans_tobeaired\" content=\"To&#x20;Be&#x20;Aired\">\\n<meta name=\"ad_metrics_registered\" content=\"\">\\n<meta name=\"ad_metrics_view_count\" content=\"1\">\\n<meta http-equiv=\"Content-Type\" content=\"text&#x2F;html&#x3B;&#x20;charset&#x3D;utf-8\">\\n<meta name=\"viewport\" content=\"width&#x3D;device-width,&#x20;initial-scale&#x3D;1.0\">\\n<meta name=\"X-UA-Compatible\" content=\"IE&#x3D;edge,chrome&#x3D;1\">\\n<meta name=\"asset-server\" content=\"https&#x3A;&#x2F;&#x2F;d3ds6z1w6yhmzj.cloudfront.net\">\\n<meta name=\"www-server\" content=\"https&#x3A;&#x2F;&#x2F;www.ispot.tv\">\\n<meta name=\"msvalidate.01\" content=\"5B62160EC07AC4393D41DCFD2DC1ED71\">\\n<meta name=\"google-site-verification\" content=\"A7RASS0s8OVkG79LnrDjcJVuBHJBG3vUmj19ukRlCLw\">\\t<!-- START: Head Property -->\\n\\t\\n<meta property=\"og:description\" content=\"RINVOQ is a prescription oral medication intended to treat those who suffer from moderate to severe rheumatoid arthritis when taken as directed. For those who have been financially impacted by the COVID-19 crisis, the pharmaceutical company may be able to provide assistance.\" />\\n<meta property=\"fb:admins\" content=\"509532273,744226061,723655901,687090086,100001358963598\" />\\n<meta property=\"og:title\" content=\"RINVOQ TV Commercial, &#039;Your Mission: Zip Line&#039;\" />\\n<meta property=\"og:type\" content=\"website\" />\\n<meta property=\"og:site_name\" content=\"iSpot.tv\" />\\n<meta property=\"og:image\" content=\"https://d2z1w4aiblvrwu.cloudfront.net/ad/nrhg/rinvoq-your-mission-zip-line-large-3.jpg\" />\\n<meta property=\"og:url\" content=\"http://www.ispot.tv/ad/nrhg/rinvoq-your-mission-zip-line\" />\\n\\t<!-- START: Links -->\\n\\t<link href=\"&#x2F;&#x2F;cdn.jsdelivr.net&#x2F;npm&#x2F;slick-carousel&#x40;1.8.1&#x2F;slick&#x2F;slick-theme.css\" media=\"all\" rel=\"stylesheet\" type=\"text&#x2F;css\" crossorigin=\"anonymous\">\\n<link href=\"&#x2F;&#x2F;cdn.jsdelivr.net&#x2F;npm&#x2F;slick-carousel&#x40;1.8.1&#x2F;slick&#x2F;slick.css\" media=\"all\" rel=\"stylesheet\" type=\"text&#x2F;css\" crossorigin=\"anonymous\">\\n<link href=\"https&#x3A;&#x2F;&#x2F;d3ds6z1w6yhmzj.cloudfront.net&#x2F;dist&#x2F;css&#x2F;www&#x2F;global.css&#x3F;v&#x3D;v6.04.001\" media=\"screen\" rel=\"stylesheet\" type=\"text&#x2F;css\">\\n<link href=\"https&#x3A;&#x2F;&#x2F;www.ispot.tv&#x2F;ad&#x2F;nrhg&#x2F;rinvoq-your-mission-zip-line\" rel=\"canonical\">\\n<link href=\"https&#x3A;&#x2F;&#x2F;d3ds6z1w6yhmzj.cloudfront.net&#x2F;img&#x2F;ico&#x2F;favicon.ico\" rel=\"shortcut&#x20;icon\" type=\"image&#x2F;vnd.microsoft.icon\">\\t<!-- START: Scripts -->\\n\\t<script type=\"text&#x2F;javascript\">\\n    //<!--\\n    //cdn.jsdelivr.net/npm/slick-carousel@1.8.1/slick/slick.min.js\\n    //-->\\n</script>\\n<script type=\"text&#x2F;javascript\">\\n    //<!--\\n    var facebook_app_id = 499973596692890,server_name = \"www.ispot.tv\";\\n    //-->\\n</script>\\t<!-- START: Styles -->\\n\\t\\t\\n    <script type=\"text/javascript\">\\n        //NOTE: this is passing the generated hhsid to Google Tag Manager through the dataLayer for use in the pixels\\n        window.dataLayer = window.dataLayer || [];\\n        window.dataLayer = [{\\n            \\'hhsid\\' : \\'09fc989be5d5e0cd6f0c31e1b5ab35d9828e7b45896315d390ea8ca850e86f27\\'\\n        }]\\n    </script>\\n\\n    <!-- Google Tag Manager -->\\n    <script>\\n        var gtmConfig = \\'\\';\\n        var debug = \\'\\';\\n\\n        //NOTE: if you need to debug Google Tag Manager in your local env.\\n        //uncomment out the debug variable\\n        \\n        (function(w,d,s,l,i) {\\n            w[l]=w[l]||[];\\n            w[l].push({\\n                \\'gtm.start\\':\\n                    new Date().getTime(),event:\\'gtm.js\\'\\n            });\\n\\n            var f=d.getElementsByTagName(s)[0],\\n                j=d.createElement(s),dl=l!=\\'dataLayer\\'?\\'&l=\\'+l:\\'\\';\\n            j.async=true;\\n            j.src=\\n                \\'https://www.googletagmanager.com/gtm.js?id=\\'+i+dl+gtmConfig+debug;\\n            f.parentNode.insertBefore(j,f);\\n        })(window,document,\\'script\\',\\'dataLayer\\',\\'GTM-PWQKWB5\\');\\n    </script>\\n    <!-- End Google Tag Manager -->\\n\\t\\n\\t<link rel=\"stylesheet\" type=\"text/css\" href=\"https://d3ds6z1w6yhmzj.cloudfront.net/lib/cookie-consent/cookie-consent.min.css?v=v6.04.001\" />\\n\\t<style>\\n\\t\\t.cc-revoke,\\n\\t\\t.cc-window {\\n\\t\\t\\tline-height: 1.2em;\\n            z-index: 10;\\n\\t\\t}\\n\\t\\t.cc-window.cc-banner {\\n\\t\\t\\tborder-top: 1px solid #5B7686;\\n\\t\\t\\tpadding: 0.6em 1.3rem;\\n\\t\\t}\\n\\t\\t.cc-btn {\\n\\t\\t\\tborder-radius: 0.25rem;\\n\\t\\t\\tborder-width: 1px;\\n\\t\\t}\\n\\t\\t.cc-window.cc-floating {\\n\\t\\t\\twidth: 100vw;\\n\\t\\t\\tmax-width: 100vw;\\n\\t\\t\\tflex-direction: row;\\n\\t\\t\\tleft: 0;\\n\\t\\t\\tright: 0;\\n\\t\\t\\tbottom: 0;\\n\\t\\t}\\n        .cc-banner .cc-message {\\n            flex: unset;\\n            -ms-flex: unset;\\n            margin-right: 50px;\\n        }\\n\\n\\t\\t.cc-floating .cc-message {\\n\\t\\t\\twidth: auto;\\n\\t\\t\\tmargin-bottom: 0px;\\n            margin-right: 3rem;\\n            display: inline;\\n\\t\\t}\\n\\t\\t.cc-window.cc-floating .cc-compliance {\\n\\t\\t\\tmargin-top: -5px;\\n            display: inline;\\n            float: left;\\n\\n\\t\\t}\\n\\t\\t.cc-link {\\n\\t\\t\\tpadding-left: 0px;\\n\\t\\t}\\n\\t\\t.cc-window.cc-floating .cc-compliance {\\n\\t\\t\\tmin-width: 100px;\\n\\t\\t}\\n\\t\\t.cc-bottom {\\n\\t\\t\\tbottom: 0;\\n\\t\\t}\\n        .cc-compliance .cc-btn.cc-dismiss {\\n            background-color: #212b32;\\n            border-color: transparent;\\n        }\\n        .cc-compliance .cc-btn.cc-dismiss:hover {\\n            background-color: #212b32;\\n            border-color: transparent;\\n        }\\n        .cc-compliance>.cc-btn,\\n        .cc-window.cc-floating .cc-compliance {\\n            -ms-flex: none;\\n            flex: none;\\n        }\\n\\n        @media screen and (max-width:414px) and (orientation:portrait),screen and (max-width:736px) and (orientation:landscape){\\n            .cc-window.cc-floating {\\n                flex-direction: column;\\n            }\\n            .cc-floating .cc-message {\\n                margin-bottom: 1em;\\n                margin-right: 0;\\n                text-align: center;\\n                line-height: 1.3;\\n            }\\n            .cc-window.cc-floating .cc-compliance {\\n                width: 50%;\\n                margin: auto;\\n            }\\n            .cc-banner .cc-message {\\n                flex: auto;\\n            }\\n        }\\n\\t</style>\\n\\t<script src=\"https://d3ds6z1w6yhmzj.cloudfront.net/lib/cookie-consent/cookie-consent.min.js?v=v6.04.001\"></script>\\n\\t<script>\\n\\n\\t    var host = document.querySelector(\"meta[name=\\'www-server\\']\");\\n\\t    var urlLink = (host ? host.getAttribute(\\'content\\') : \\'http://www.ispot.tv\\') + \"/agreements/cookie\";\\n\\n\\t    window.addEventListener(\"DOMContentLoaded\", function() {\\n\\n\\t        window.cookieconsent.initialise({\\n\\t            \"palette\": {\\n\\t                \"popup\": {\\n\\t                    \"background\": \"#465A66\",\\n\\t                    \"text\": \"#fff\"\\n\\t                },\\n\\t                \"button\": {\\n\\t                    \"background\": \"#78BB31\",\\n\\t                    \"text\": \"#fff\",\\n\\t                    \"border\": \"#fff\"\\n\\t                }\\n\\t            },\\n\\t            \"content\": {\\n\\t                \"href\": urlLink,\\n\\t                \"message\": \"The site uses cookies to provide a great user experience. By using iSpot.tv you accept our\",\\n                    \"link\": \"use of cookies.\",\\n                    \"dismiss\": \"Accept\"\\n\\t            }\\n\\t        });\\n\\n            var root = document.getElementsByTagName( \\'html\\' )[0];\\n            root.classList.add(\\'cookie-consent--open\\');\\n\\n\\t    });\\n\\n\\t</script>\\n\\n\\n\\n\\t<!-- START: Dynamically Added Below -->\\n</head>\\n<body class=\"mnav__ad\">\\n<!-- START: Dynamically Added Above -->\\n\\n    <!-- Google Tag Manager (noscript) -->\\n    <noscript><iframe src=\"https://www.googletagmanager.com/ns.html?id=GTM-PWQKWB5\"\\n                      height=\"0\" width=\"0\" style=\"display:none;visibility:hidden\"></iframe></noscript>\\n    <!-- End Google Tag Manager (noscript) -->\\n\\n<!-- START: Content -->\\n<div class=\"wrapper\">\\n\\t<header class=\"main\" id=\"mainHeader\">\\n    <nav id=\"navbar\" class=\"navbar navbar-expand-lg fixed-top\">\\n\\n        <button id=\"navbar-toggler\"\\n                class=\"mobile-icon navbar-toggler js-main-toggle\"\\n                type=\"button\"\\n                data-toggle=\"collapse\"\\n                data-target=\"#navbarMainContent\"\\n                aria-controls=\"navbarMainContent\"\\n                aria-expanded=\"false\"\\n                aria-label=\"Toggle navigation\">\\n            <i class=\"fas fa-bars\"></i>\\n        </button>\\n\\n        <a class=\"navbar-brand\" href=\"/\">\\n            <img class=\"d-inline-block align-top\"\\n                width=\"90\"\\n                height=\"25\"\\n                src=\"https://d3ds6z1w6yhmzj.cloudfront.net/img/ispot/logo-white.svg\"\\n                alt=\"iSpot.tv\" />\\n        </a>\\n\\n\\t    <button id=\"search-toggler\"\\n\\t            class=\"mobile-icon navbar-toggler js-search-toggle\"\\n\\t            type=\"button\"\\n\\t            data-toggle=\"collapse\"\\n\\t            data-target=\"#navbarSearchContent\"\\n\\t            aria-controls=\"navbarSearchContent\"\\n\\t            aria-expanded=\"false\"\\n\\t            aria-label=\"Toggle navigation\">\\n\\t\\t    <i class=\"far fa-search\"></i>\\n\\t    </button>\\n\\n        <div class=\"navbar-collapse collapse navbar-collapse--main\" id=\"navbarMainContent\">\\n\\t        <ul class=\"navbar-nav mb-0 mr-lg-auto\">\\n\\t<li class=\"nav-item dropdown\">\\n\\t\\t<a href=\"#\" class=\"nav-link dropdown-toggle\" id=\"navbarSolutions\" role=\"button\" data-toggle=\"dropdown\" aria-haspopup=\"true\" aria-expanded=\"false\">\\n\\t\\t\\tSolutions\\n\\t\\t</a>\\n\\t\\t<div class=\"dropdown-menu dropdown-menu-row\" aria-labelledby=\"navbarSolutions\">\\n\\t\\t\\t<div class=\"row\">\\n\\t\\t\\t\\t<div class=\"col\">\\n\\t\\t\\t\\t\\t<div class=\"dropdown-question\">How is iSpot helping partners disrupt their industries?</div>\\n\\t\\t\\t\\t</div>\\n\\t\\t\\t</div>\\n\\t\\t\\t<div class=\"row\">\\n\\t\\t\\t\\t<div class=\"col-sm-12 col-md-6\">\\n\\t\\t\\t\\t\\t<ul class=\"dropdown-menu-col\">\\n\\t\\t\\t\\t\\t\\t<li>\\n\\t\\t\\t\\t\\t\\t\\t<a class=\"nav-mediameasurement dropdown-item\" href=\"/media-measurement\">\\n\\t\\t\\t\\t\\t\\t\\t\\t<div class=\"row\">\\n\\t\\t\\t\\t\\t\\t\\t\\t\\t<div class=\"col-2 text-center pr-0\">\\n\\t\\t\\t\\t\\t\\t\\t\\t\\t\\t<img src=\"https://d3ds6z1w6yhmzj.cloudfront.net/img/solutions/media-measurement/media-measurement-icon.png\" width=\"40\" height=\"40\">\\n\\t\\t\\t\\t\\t\\t\\t\\t\\t</div>\\n\\t\\t\\t\\t\\t\\t\\t\\t\\t<div class=\"col-10\">\\n\\t\\t\\t\\t\\t\\t\\t\\t\\t\\t<h5>Media Measurement</h5>\\n\\t\\t\\t\\t\\t\\t\\t\\t\\t\\t<p>Be in the know of how your TV Ad is performing.</p>\\n\\t\\t\\t\\t\\t\\t\\t\\t\\t</div>\\n\\t\\t\\t\\t\\t\\t\\t\\t</div>\\n\\t\\t\\t\\t\\t\\t\\t</a>\\n\\t\\t\\t\\t\\t\\t</li>\\n\\t\\t\\t\\t\\t\\t<li>\\n\\t\\t\\t\\t\\t\\t\\t<a class=\"nav-attentionanalytics dropdown-item\" href=\"/tv-attribution\">\\n\\t\\t\\t\\t\\t\\t\\t\\t<div class=\"row\">\\n\\t\\t\\t\\t\\t\\t\\t\\t\\t<div class=\"col-2 text-center pr-0\">\\n\\t\\t\\t\\t\\t\\t\\t\\t\\t\\t<img src=\"https://d3ds6z1w6yhmzj.cloudfront.net/img/solutions/tv-attribution/tv-attribution-icon.png\" width=\"40\" height=\"40\">\\n\\t\\t\\t\\t\\t\\t\\t\\t\\t</div>\\n\\t\\t\\t\\t\\t\\t\\t\\t\\t<div class=\"col-10\">\\n\\t\\t\\t\\t\\t\\t\\t\\t\\t\\t<h5>TV Attribution</h5>\\n\\t\\t\\t\\t\\t\\t\\t\\t\\t\\t<p>Measure, optimize, and plan your TV against business outcomes</p>\\n\\t\\t\\t\\t\\t\\t\\t\\t\\t</div>\\n\\t\\t\\t\\t\\t\\t\\t\\t</div>\\n\\t\\t\\t\\t\\t\\t\\t</a>\\n\\t\\t\\t\\t\\t\\t</li>\\n\\t\\t\\t\\t\\t</ul>\\n\\t\\t\\t\\t</div>\\n\\t\\t\\t\\t<div class=\"col-sm-12 col-md-6\">\\n\\t\\t\\t\\t\\t<ul class=\"dropdown-menu-col\">\\n\\t\\t\\t\\t\\t\\t<li>\\n\\t\\t\\t\\t\\t\\t\\t<a class=\"nav-conversionanalytics dropdown-item\" href=\"/marketing-stack-integration\">\\n\\t\\t\\t\\t\\t\\t\\t\\t<div class=\"row\">\\n\\t\\t\\t\\t\\t\\t\\t\\t\\t<div class=\"col-2 text-center pr-0\">\\n\\t\\t\\t\\t\\t\\t\\t\\t\\t\\t<img src=\"https://d3ds6z1w6yhmzj.cloudfront.net/img/solutions/marketing-stack-integration/marketing-stack-integration-icon.png\" width=\"40\" height=\"40\">\\n\\t\\t\\t\\t\\t\\t\\t\\t\\t</div>\\n\\t\\t\\t\\t\\t\\t\\t\\t\\t<div class=\"col-10\">\\n\\t\\t\\t\\t\\t\\t\\t\\t\\t\\t<h5>Marketing Stack Integration</h5>\\n\\t\\t\\t\\t\\t\\t\\t\\t\\t\\t<p>TV marketing doesn\\'t need to be in a silo. Plug in TV to the rest of your data and marketing stack.</p>\\n\\t\\t\\t\\t\\t\\t\\t\\t\\t</div>\\n\\t\\t\\t\\t\\t\\t\\t\\t</div>\\n\\t\\t\\t\\t\\t\\t\\t</a>\\n\\t\\t\\t\\t\\t\\t</li>\\n\\t\\t\\t\\t\\t</ul>\\n\\t\\t\\t\\t</div>\\n\\t\\t\\t</div>\\n\\t\\t</div>\\n\\t</li>\\n\\t<li class=\"nav-item dropdown\">\\n\\t\\t<a href=\"#\" class=\"nav-link dropdown-toggle\" id=\"navbarInsights\" role=\"button\" data-toggle=\"dropdown\" aria-haspopup=\"true\" aria-expanded=\"false\">\\n\\t\\t\\tInsights\\n\\t\\t</a>\\n\\t\\t<div class=\"dropdown-menu dropdown-menu-row dropdown-menu-row--insights\" aria-labelledby=\"navbarSolutions\">\\n\\t\\t\\t<div class=\"row\">\\n\\t\\t\\t\\t<div class=\"col\">\\n\\t\\t\\t\\t\\t<div class=\"dropdown-question\">Analytics and insight reports about the TV advertising world</div>\\n\\t\\t\\t\\t</div>\\n\\t\\t\\t</div>\\n\\t\\t\\t<div class=\"row\">\\n\\t\\t\\t\\t<div class=\"col-sm-12 col-md-6\">\\n\\t\\t\\t\\t\\t<ul class=\"dropdown-menu-col\">\\n\\t\\t\\t\\t\\t\\t<li>\\n\\t\\t\\t\\t\\t\\t\\t<a class=\"nav-mediameasurement dropdown-item\" href=\"/most-engaging-tv-ads\">\\n\\t\\t\\t\\t\\t\\t\\t\\t<div class=\"row\">\\n\\t\\t\\t\\t\\t\\t\\t\\t\\t<div class=\"col-2 col-md-3 text-center pr-0\">\\n\\t\\t\\t\\t\\t\\t\\t\\t\\t\\t<img src=\"https://d3ds6z1w6yhmzj.cloudfront.net/img/nav-icons/Top-Ads.png\"width=\"40\" height=\"40\">\\n\\t\\t\\t\\t\\t\\t\\t\\t\\t</div>\\n\\t\\t\\t\\t\\t\\t\\t\\t\\t<div class=\"col-10 col-md-9\">\\n\\t\\t\\t\\t\\t\\t\\t\\t\\t\\t<h5 class=\"mt-2\">Top Ads</h5>\\n\\n\\t\\t\\t\\t\\t\\t\\t\\t\\t</div>\\n\\t\\t\\t\\t\\t\\t\\t\\t</div>\\n\\t\\t\\t\\t\\t\\t\\t</a>\\n\\t\\t\\t\\t\\t\\t</li>\\n\\t\\t\\t\\t\\t\\t<li>\\n\\t\\t\\t\\t\\t\\t\\t<a class=\"nav-attentionanalytics dropdown-item\" href=\"/top-spenders-tv-ads\">\\n\\t\\t\\t\\t\\t\\t\\t\\t<div class=\"row\">\\n\\t\\t\\t\\t\\t\\t\\t\\t\\t<div class=\"col-2 col-md-3 text-center pr-0\">\\n\\t\\t\\t\\t\\t\\t\\t\\t\\t\\t<img src=\"https://d3ds6z1w6yhmzj.cloudfront.net/img/nav-icons/Top-Spenders.png\"width=\"40\" height=\"40\">\\n\\t\\t\\t\\t\\t\\t\\t\\t\\t</div>\\n\\t\\t\\t\\t\\t\\t\\t\\t\\t<div class=\"col-10 col-md-9\">\\n\\t\\t\\t\\t\\t\\t\\t\\t\\t\\t<h5 class=\"mt-2\">Top Spenders</h5>\\n\\n\\t\\t\\t\\t\\t\\t\\t\\t\\t</div>\\n\\t\\t\\t\\t\\t\\t\\t\\t</div>\\n\\t\\t\\t\\t\\t\\t\\t</a>\\n\\t\\t\\t\\t\\t\\t</li>\\n\\t\\t\\t\\t\\t</ul>\\n\\t\\t\\t\\t</div>\\n\\t\\t\\t\\t<div class=\"col-sm-12 col-md-6\">\\n\\t\\t\\t\\t\\t<ul class=\"dropdown-menu-col\">\\n\\t\\t\\t\\t\\t\\t<li>\\n\\t\\t\\t\\t\\t\\t\\t<a class=\"nav-attentionanalytics dropdown-item\" href=\"https://www.ispot.tv/blog/free-reports/\">\\n\\t\\t\\t\\t\\t\\t\\t\\t<div class=\"row\">\\n\\t\\t\\t\\t\\t\\t\\t\\t\\t<div class=\"col-2 col-md-3 text-center pr-0\">\\n\\t\\t\\t\\t\\t\\t\\t\\t\\t\\t<img src=\"https://d3ds6z1w6yhmzj.cloudfront.net/img/nav-icons/Free-Reports.png\"width=\"40\" height=\"40\">\\n\\t\\t\\t\\t\\t\\t\\t\\t\\t</div>\\n\\t\\t\\t\\t\\t\\t\\t\\t\\t<div class=\"col-10 col-md-9\">\\n\\t\\t\\t\\t\\t\\t\\t\\t\\t\\t<h5 class=\"mt-2\">Free Reports</h5>\\n\\n\\t\\t\\t\\t\\t\\t\\t\\t\\t</div>\\n\\t\\t\\t\\t\\t\\t\\t\\t</div>\\n\\t\\t\\t\\t\\t\\t\\t</a>\\n\\t\\t\\t\\t\\t\\t</li>\\n\\t\\t\\t\\t\\t\\t<li>\\n\\t\\t\\t\\t\\t\\t\\t<a class=\"nav-conversionanalytics dropdown-item\" href=\"/alexa-skill\">\\n\\t\\t\\t\\t\\t\\t\\t\\t<div class=\"row\">\\n\\t\\t\\t\\t\\t\\t\\t\\t\\t<div class=\"col-2 col-md-3 text-center pr-0\">\\n\\t\\t\\t\\t\\t\\t\\t\\t\\t\\t<img src=\"https://d3ds6z1w6yhmzj.cloudfront.net/img/nav-icons/Alexa-Skills.png\"width=\"40\" height=\"40\">\\n\\t\\t\\t\\t\\t\\t\\t\\t\\t</div>\\n\\t\\t\\t\\t\\t\\t\\t\\t\\t<div class=\"col-10 col-md-9\">\\n\\t\\t\\t\\t\\t\\t\\t\\t\\t\\t<h5 class=\"mt-2\">Alexa Skill</h5>\\n\\n\\t\\t\\t\\t\\t\\t\\t\\t\\t</div>\\n\\t\\t\\t\\t\\t\\t\\t\\t</div>\\n\\t\\t\\t\\t\\t\\t\\t</a>\\n\\t\\t\\t\\t\\t\\t</li>\\n\\t\\t\\t\\t\\t</ul>\\n\\t\\t\\t\\t</div>\\n\\t\\t\\t</div>\\n\\t\\t</div>\\n\\t</li>\\n\\t<li class=\"nav-item dropdown\">\\n\\t\\t<a href=\"#\" class=\"nav-link dropdown-toggle\" id=\"navbarTheBuzz\" role=\"button\" data-toggle=\"dropdown\" aria-haspopup=\"true\" aria-expanded=\"false\">\\n\\t\\t\\tThe Buzz\\n\\t\\t</a>\\n\\t\\t<div class=\"dropdown-menu\" aria-labelledby=\"navbarTheBuzz\">\\n\\t\\t\\t<div class=\"row\">\\n\\t\\t\\t\\t<div class=\"col\">\\n\\t\\t\\t\\t\\t<div class=\"dropdown-question\">The buzz at iSpot.tv</div>\\n\\t\\t\\t\\t</div>\\n\\t\\t\\t</div>\\n\\t\\t\\t<div class=\"row\">\\n\\t\\t\\t\\t<div class=\"col-sm-12\">\\n\\t\\t\\t\\t\\t<ul class=\"dropdown-menu-col\">\\n\\t\\t\\t\\t\\t\\t<li>\\n\\t\\t\\t\\t\\t\\t\\t<a class=\"nav-mediameasurement dropdown-item\" href=\"https://www.ispot.tv/blog\">\\n\\t\\t\\t\\t\\t\\t\\t\\t<div class=\"row\">\\n\\t\\t\\t\\t\\t\\t\\t\\t\\t<div class=\"col-2 text-center pr-0\">\\n\\t\\t\\t\\t\\t\\t\\t\\t\\t\\t<img src=\"https://d3ds6z1w6yhmzj.cloudfront.net/img/nav-icons/News.png\"width=\"40\" height=\"40\">\\n\\t\\t\\t\\t\\t\\t\\t\\t\\t</div>\\n\\t\\t\\t\\t\\t\\t\\t\\t\\t<div class=\"col-10\">\\n\\t\\t\\t\\t\\t\\t\\t\\t\\t\\t<h5>News</h5>\\n\\t\\t\\t\\t\\t\\t\\t\\t\\t\\t<p>The latest thought leadership, blog posts, announcements and press mentions</p>\\n\\t\\t\\t\\t\\t\\t\\t\\t\\t</div>\\n\\t\\t\\t\\t\\t\\t\\t\\t</div>\\n\\t\\t\\t\\t\\t\\t\\t</a>\\n\\t\\t\\t\\t\\t\\t</li>\\n\\t\\t\\t\\t\\t\\t<li>\\n\\t\\t\\t\\t\\t\\t\\t<a class=\"nav-attentionanalytics dropdown-item\" href=\"https://www.ispot.tv/blog/events/\">\\n\\t\\t\\t\\t\\t\\t\\t\\t<div class=\"row\">\\n\\t\\t\\t\\t\\t\\t\\t\\t\\t<div class=\"col-2 text-center pr-0\">\\n\\t\\t\\t\\t\\t\\t\\t\\t\\t\\t<img src=\"https://d3ds6z1w6yhmzj.cloudfront.net/img/nav-icons/Events.png\"width=\"40\" height=\"40\">\\n\\t\\t\\t\\t\\t\\t\\t\\t\\t</div>\\n\\t\\t\\t\\t\\t\\t\\t\\t\\t<div class=\"col-10\">\\n\\t\\t\\t\\t\\t\\t\\t\\t\\t\\t<h5>Events</h5>\\n\\t\\t\\t\\t\\t\\t\\t\\t\\t\\t<p>Connect with iSpot.tv at these industry events</p>\\n\\t\\t\\t\\t\\t\\t\\t\\t\\t</div>\\n\\t\\t\\t\\t\\t\\t\\t\\t</div>\\n\\t\\t\\t\\t\\t\\t\\t</a>\\n\\t\\t\\t\\t\\t\\t</li>\\n\\t\\t\\t\\t\\t</ul>\\n\\t\\t\\t\\t</div>\\n\\t\\t\\t</div>\\n\\t\\t</div>\\n\\t</li>\\n\\t<li class=\"nav-item dropdown\">\\n\\t\\t<a href=\"#\" class=\"nav-link dropdown-toggle\" id=\"navbarAbout\" role=\"button\" data-toggle=\"dropdown\" aria-haspopup=\"true\" aria-expanded=\"false\">\\n\\t\\t\\tAbout Us\\n\\t\\t</a>\\n\\t\\t<div class=\"dropdown-menu\" aria-labelledby=\"navbarAbout\">\\n\\t\\t\\t<div class=\"row\">\\n\\t\\t\\t\\t<div class=\"col\">\\n\\t\\t\\t\\t\\t<div class=\"dropdown-question\">Learn more about us</div>\\n\\t\\t\\t\\t</div>\\n\\t\\t\\t</div>\\n\\t\\t\\t<div class=\"row\">\\n\\t\\t\\t\\t<div class=\"col-sm-12\">\\n\\t\\t\\t\\t\\t<ul class=\"dropdown-menu-col\">\\n\\t\\t\\t\\t\\t\\t<li>\\n\\t\\t\\t\\t\\t\\t\\t<a class=\"nav-mediameasurement dropdown-item\" href=\"/customers\">\\n\\t\\t\\t\\t\\t\\t\\t\\t<div class=\"row\">\\n\\t\\t\\t\\t\\t\\t\\t\\t\\t<div class=\"col-2 text-center pr-0\">\\n\\t\\t\\t\\t\\t\\t\\t\\t\\t\\t<img src=\"https://d3ds6z1w6yhmzj.cloudfront.net/img/nav-icons/Customers.png\"width=\"40\" height=\"40\">\\n\\t\\t\\t\\t\\t\\t\\t\\t\\t</div>\\n\\t\\t\\t\\t\\t\\t\\t\\t\\t<div class=\"col-10\">\\n\\t\\t\\t\\t\\t\\t\\t\\t\\t\\t<h5>Customers</h5>\\n\\t\\t\\t\\t\\t\\t\\t\\t\\t\\t<p>A sample of top brands we work with</p>\\n\\t\\t\\t\\t\\t\\t\\t\\t\\t</div>\\n\\t\\t\\t\\t\\t\\t\\t\\t</div>\\n\\t\\t\\t\\t\\t\\t\\t</a>\\n\\t\\t\\t\\t\\t\\t</li>\\n\\t\\t\\t\\t\\t\\t<li>\\n\\t\\t\\t\\t\\t\\t\\t<a class=\"nav-attentionanalytics dropdown-item\" href=\"/careers\">\\n\\t\\t\\t\\t\\t\\t\\t\\t<div class=\"row\">\\n\\t\\t\\t\\t\\t\\t\\t\\t\\t<div class=\"col-2 text-center pr-0\">\\n\\t\\t\\t\\t\\t\\t\\t\\t\\t\\t<img src=\"https://d3ds6z1w6yhmzj.cloudfront.net/img/nav-icons/Careers.png\"width=\"40\" height=\"40\">\\n\\t\\t\\t\\t\\t\\t\\t\\t\\t</div>\\n\\t\\t\\t\\t\\t\\t\\t\\t\\t<div class=\"col-10\">\\n\\t\\t\\t\\t\\t\\t\\t\\t\\t\\t<h5>Careers</h5>\\n\\t\\t\\t\\t\\t\\t\\t\\t\\t\\t<p>We\\xe2\\x80\\x99re hiring! Great pay, benefits, and culture. See the positions.</p>\\n\\t\\t\\t\\t\\t\\t\\t\\t\\t</div>\\n\\t\\t\\t\\t\\t\\t\\t\\t</div>\\n\\t\\t\\t\\t\\t\\t\\t</a>\\n\\t\\t\\t\\t\\t\\t</li>\\n\\t\\t\\t\\t\\t</ul>\\n\\t\\t\\t\\t</div>\\n\\t\\t\\t</div>\\n\\t\\t</div>\\n\\t</li>\\n\\t<li class=\"nav-item\">\\n\\t\\t<a class=\"nav-browsetvads nav-link\" href=\"https://www.ispot.tv/browse\">Browse TV Ads</a>\\n\\t</li>\\n\\t<li class=\"nav-item\">\\n\\t\\t<a class=\"nav-superbowl nav-link\"\\n\\t\\t   href=\"https://www.ispot.tv/blog/free-reports/covid-19-impact-on-tv-advertising/\">COVID-19 Reports</a>\\n\\t</li>\\n    <!-- TODO: Comment-out after Super Bowl -->\\n    <!--\\t<li class=\"nav-item\">-->\\n    <!--\\t\\t<a class=\"nav-superbowl nav-link\"-->\\n    <!--\\t\\t   href=\"https://--><!--/events/super-bowl-commercials\">Super Bowl 2020</a>-->\\n    <!--\\t</li>-->\\n</ul>\\n\\t        \\n<ul class=\"navbar-nav mt-0 my-lg-0\">\\n\\t<li class=\"nav-item d-none d-lg-inline-block\">\\n\\t\\t<a href=\"#\"\\n\\t        class=\"nav-link js-search-toggle\"\\n\\t        data-toggle=\"collapse\"\\n\\t        data-target=\"#navbarSearchContent\"\\n\\t        aria-controls=\"navbarSearchContent\"\\n\\t        aria-expanded=\"false\"\\n\\t        aria-label=\"Toggle navigation\">\\n            <span class=\"navbar-icon search-icon d-none d-lg-inline-block\">\\n                <i class=\"far fa-search\"></i>\\n            </span>\\n\\t\\t</a>\\n\\t</li>\\n\\t<li class=\"nav-item d-inline-block\">\\n\\t\\t<a class=\"nav-link\"\\n\\t\\t   href=\"https://analytics.ispot.tv/dashboard\"\\n\\t\\t   rel=\"nofollow\">\\n            <span class=\"navbar-icon account-icon d-none d-lg-inline-block\">\\n                <i class=\"fas fa-user\"></i>\\n            </span>\\n\\t\\t\\t<span class=\"d-lg-none\">My Account</span>\\n\\t\\t</a>\\n\\t</li>\\n\\t<li class=\"nav-item d-inline-block\">\\n                    <form action=\"/get-started/welcome\" id=\"unlock-metrics\" method=\"post\" autocomplete=\"off\">\\n                <input name=\"url\" type=\"hidden\" value=\"//www.ispot.tv/ad/nrhg/rinvoq-your-mission-zip-line\" />\\n                <input name=\"a_b_test\" type=\"hidden\" value=\"Nav - CTA - A\" />\\n                <button class=\"px-0 w-100 text-left btn nav-link d-lg-none border-0 cta-funnel cta-funnel--btn-header\" type=\"submit\">Free Trial</button>\\n                <button class=\"px-5 btn btn-primary btn-md d-none d-lg-inline-block px-lg-3 py-lg-1 cta-funnel cta-funnel--btn-header\" type=\"submit\">Free Trial</button>\\n            </form>\\n        \\n\\n    </li>\\n</ul>        </div>\\n\\n\\t    <div class=\"navbar-collapse collapse navbar-collapse--search\" id=\"navbarSearchContent\">\\n\\t\\t    <div class=\"navbar-collapse-sub\">\\n\\t\\t\\t\\t\\n<h4 class=\"modal-title text-center mt-4\" id=\"modalSearchLabel\">\\n\\tSearch Ads, Brands<span class=\"d-xs-none\">, Actors, Athletes</span> & More\\n</h4>\\n<form class=\"js-search-form\" action=\"/commercial-search/\" method=\"get\" autocomplete=\"off\">\\n\\t<div class=\"search-box js-ispotInput-search\">\\n\\t\\t<input class=\"search-box__input form-control typeahead\" type=\"text\" />\\n\\t\\t<a class=\"search-box__button js-searchInput-all\" href=\"#\">\\n\\t\\t\\t<i class=\"far fa-search\"></i>\\n\\t\\t</a>\\n\\t</div>\\n</form>\\n\\n<script id=\"template-ad-header\" type=\"text/x-handlebars-template\">\\n\\t<div class=\"row tt-title js_Ad clearfix mx-0\" style=\"display:none;\">\\n\\t\\t<div class=\"col float-left\">Spots</div>\\n\\t\\t<div class=\"col float-right text-right\">\\n\\t\\t\\t<strong><a href=\"#\" class=\"js-searchInput-spots\">more</a></strong>\\n\\t\\t</div>\\n\\t</div>\\n</script>\\n\\n<script id=\"template-ad-suggestion\" type=\"text/x-handlebars-template\">\\n\\t<div class=\"col-12 col-md-4 clearfix\">\\n\\t\\t<div class=\"row gutter-sm\">\\n\\t\\t\\t<div class=\"col-3 col-md-12\">\\n\\t\\t\\t\\t<a class=\"tt-image tt-image_ad d-inline-block\" href=\"/search?term={{term}}&path={{path}}\">\\n\\t\\t\\t\\t\\t<img class=\"js-AdsImage\"\\n\\t\\t\\t\\t\\t     src=\"https://d2z1w4aiblvrwu.cloudfront.net/ad/{{shortUrl}}/{{ispotUrl}}-small-{{#if thumbId}}{{thumbId}}{{else}}3{{/if}}.jpg\">\\n\\t\\t\\t\\t</a>\\n\\t\\t\\t</div>\\n\\t\\t\\t<div class=\"col-9 col-md-12\">\\n\\t\\t\\t\\t<a class=\"tt-desc\" href=\"/search?term={{term}}&path={{path}}\">{{title}}</a>\\n\\t\\t\\t</div>\\n\\t\\t</div>\\n\\t</div>\\n</script>\\n\\n<script id=\"template-ad-notFound\" type=\"text/x-handlebars-template\">\\n\\t<div class=\"row tt-no-matches js_Ad\" style=\"display:none;\">\\n\\t\\t<div class=\"col\">No matches found</div>\\n\\t</div>\\n</script>\\n\\n\\n<script id=\"template-advertiser-header\" type=\"text/x-handlebars-template\">\\n\\t<div class=\"row tt-title js_Advertiser clearfix mx-0\" style=\"display:none;\">\\n\\t\\t<div class=\"col float-left\">Brands</div>\\n\\t\\t<div class=\"col float-right text-right\">\\n\\t\\t\\t<strong><a href=\"#\" class=\"js-searchInput-brands\">more</a></strong>\\n\\t\\t</div>\\n\\t</div>\\n</script>\\n\\n<script id=\"template-advertiser-suggestion\" type=\"text/x-handlebars-template\">\\n\\t<div class=\"col-12 col-md-4 clearfix\">\\n\\t\\t<div class=\"row gutter-sm\">\\n\\t\\t\\t<div class=\"col-3\">\\n\\t\\t\\t\\t<a class=\"tt-image tt-image_advertiser\" href=\"{{path}}/\">\\n\\t\\t\\t\\t\\t<img src=\"{{image}}\">\\n\\t\\t\\t\\t</a>\\n\\t\\t\\t</div>\\n\\t\\t\\t<div class=\"col-9\">\\n\\t\\t\\t\\t<a class=\"tt-desc\" href=\"{{path}}\">{{name}}</a>\\n\\t\\t\\t</div>\\n\\t\\t</div>\\n\\t</div>\\n</script>\\n\\n<script id=\"template-advertiser-notFound\" type=\"text/x-handlebars-template\">\\n\\t<div class=\"row tt-no-matches js_Advertiser\" style=\"display:none;\">\\n\\t\\t<div class=\"col\">No matches found</div>\\n\\t</div>\\n</script>\\n\\n\\n<script id=\"template-actors-header\" type=\"text/x-handlebars-template\">\\n\\t<div class=\"row tt-title js_Celebrity clearfix mx-0\"  style=\"display:none;\">\\n\\t\\t<div class=\"col float-left\">Actors, Athletes & More</div>\\n\\t\\t<div class=\"col float-right text-right\">\\n\\t\\t\\t<strong><a href=\"#\" class=\"js-searchInput-actors\">more</a></strong>\\n\\t\\t</div>\\n\\t</div>\\n</script>\\n\\n<script id=\"template-actors-suggestion\" type=\"text/x-handlebars-template\">\\n\\t<div class=\"col-12 col-md-4 clearfix\">\\n\\t\\t<div class=\"row gutter-sm\">\\n\\t\\t\\t<div class=\"col-3\">\\n\\t\\t\\t\\t<a class=\"tt-image tt-image_actors\" href=\"{{path}}\">\\n\\t\\t\\t\\t\\t<img src=\"{{image}}\">\\n\\t\\t\\t\\t</a>\\n\\t\\t\\t</div>\\n\\t\\t\\t<div class=\"col-9\">\\n\\t\\t\\t\\t<a class=\"tt-desc\" href=\"{{path}}\">{{name}}</a>\\n\\t\\t\\t</div>\\n\\t\\t</div>\\n\\t</div>\\n</script>\\n\\n<script id=\"template-actors-notFound\" type=\"text/x-handlebars-template\">\\n\\t<div class=\"row tt-no-matches js_Celebrity\" style=\"display:none;\">\\n\\t\\t<div class=\"col\">No matches found</div>\\n\\t</div>\\n</script>\\t\\t    </div>\\n\\t    </div>\\n\\n    </nav>\\n</header>\\n\\t<main class=\"main-content\">\\n\\n\\t\\t<a name=\"top\" id=\"top\"></a>\\n\\n\\t\\t\\n<div class=\"js-data page--ad\" data-namespace=\"iSpot.ad\">\\n\\n    <div class=\"grid-container\">\\n\\n        <div class=\"grid-video\">\\n\\n            <ol class=\"breadcrumb\"><li class=\"breadcrumb-item\"><a href=\"/browse/7k/pharmaceutical-and-medical\">Pharmaceutical & Medical</a></li><li class=\"breadcrumb-item\"><a href=\"/browse/7k.7R/pharmaceutical-and-medical/rx-osteoporosis-and-arthritis\">Rx: Osteoporosis & Arthritis</a></li><li class=\"breadcrumb-item\"><a href=\"/brands/2Tm/rinvoq\">RINVOQ</a></li></ol>            \\n\\n\\n<div class=\"video\" itemprop=\"video\" itemscope itemtype=\"http://schema.org/VideoObject\">\\n\\n    <meta itemprop=\"name\" content=\"RINVOQ TV Commercial, &#039;Your Mission: Zip Line&#039; - Video\" />\\n<meta itemprop=\"description\" content=\"RINVOQ is a prescription oral medication intended to treat those who suffer from moderate to severe rheumatoid arthritis when taken as directed. For those who have been financially impacted by the COVID-19 crisis, the pharmaceutical company may be able to provide assistance.\" />\\n<meta itemprop=\"duration\" content=\"T1M0S\" />\\n<meta itemprop=\"uploadDate\" content=\"2020-07-07 11:50:41.000+08:00\" />\\n<meta itemprop=\"thumbnailUrl\" content=\"https://d2z1w4aiblvrwu.cloudfront.net/ad/nrhg/rinvoq-your-mission-zip-line-large-3.jpg\" />\\n<meta itemprop=\"width\" content=\"100%\" />\\n\\n    <div id=\"video_player\" class=\"video__player\">\\n        <div class=\"jwplayer\"\\n             id=\"my-video\"\\n             data-jwplayer\\n             data-cssid=\"my-video\"\\n             data-image=\"https://d2z1w4aiblvrwu.cloudfront.net/ad/nrhg/rinvoq-your-mission-zip-line-large-3.jpg\"\\n             data-hash=\"nrhg\"\\n             data-autostart=\"\"\\n             data-countplayback=\"1\"\\n             data-mp4=\"https://d3npuic909260z.cloudfront.net/002/884/856/nrhg.mp4\"\\n             data-params=\\'{\"hostname\":\"vpe-web-www-001.vpe.ispot.tv\",\"ip\":\"68.175.94.155\",\"timestamp\":\"Thu Jul 09 2020 17:05:14 GMT-0700 (PDT)\",\"advertiserId\":\"64878\",\"adId\":2884856,\"adHash\":\"nrhg\"}\\'>\\n        </div>\\n    </div>\\n\\n    \\n        <div id=\"video_end-screen\" class=\"video__end video__end-sm hidden\">\\n\\n            <div class=\"related-items\">\\n\\n                \\n                                                                                    <div class=\"related-item related-item--md related-item--sm\">\\n                            <a href=\"/ad/dEdZ/humira-body-of-proof\" title=\"HUMIRA TV Spot, \\'Body of Proof\\'\" >\\n                                <img class=\"img-event\" src=\"https://d2z1w4aiblvrwu.cloudfront.net/ad/dEdZ/humira-body-of-proof-small-5.jpg\" alt=\"HUMIRA TV Spot, \\'Body of Proof\\'\" />\\n                                <span>\\n                                    HUMIRA TV Spot, \\'Body of Proof\\'                                </span>\\n                            </a>\\n                        </div>\\n\\n                                                                                            <div class=\"related-item related-item--md related-item--sm\">\\n                            <a href=\"/ad/7nSu/xeljanz\" title=\"Xeljanz TV Spot\" >\\n                                <img class=\"img-event\" src=\"https://d2z1w4aiblvrwu.cloudfront.net/ad/7nSu/xeljanz-small-10.jpg\" alt=\"Xeljanz TV Spot\" />\\n                                <span>\\n                                    Xeljanz TV Spot                                </span>\\n                            </a>\\n                        </div>\\n\\n                                                                                            <div class=\"related-item related-item--md related-item--sm\">\\n                            <a href=\"/ad/wrWz/humira-food-drive\" title=\"HUMIRA TV Spot, \\'Food Drive\\'\" >\\n                                <img class=\"img-event\" src=\"https://d2z1w4aiblvrwu.cloudfront.net/ad/wrWz/humira-food-drive-small-3.jpg\" alt=\"HUMIRA TV Spot, \\'Food Drive\\'\" />\\n                                <span>\\n                                    HUMIRA TV Spot, \\'Food Drive\\'                                </span>\\n                            </a>\\n                        </div>\\n\\n                                                                                            <div class=\"related-item related-item--md related-item--sm\">\\n                            <a href=\"/ad/79d1/enbrel-everyday-activities-featuring-phil-mickelson\" title=\"Enbrel TV Spot \\'Everyday Activities\\' Featuring Phil Mickelson\" >\\n                                <img class=\"img-event\" src=\"https://d2z1w4aiblvrwu.cloudfront.net/ad/79d1/enbrel-everyday-activities-featuring-phil-mickelson-small-1.jpg\" alt=\"Enbrel TV Spot \\'Everyday Activities\\' Featuring Phil Mickelson\" />\\n                                <span>\\n                                    Enbrel TV Spot \\'Everyday Activities\\' Featuring Phil Mickelson                                </span>\\n                            </a>\\n                        </div>\\n\\n                                                                                            <div class=\"related-item related-item--md related-item--sm\">\\n                            <a href=\"/ad/7bJT/enbrel-calendar\" title=\"Enbrel TV Spot, \\'Calendar\\'\" >\\n                                <img class=\"img-event\" src=\"https://d2z1w4aiblvrwu.cloudfront.net/ad/7bJT/enbrel-calendar-small-3.jpg\" alt=\"Enbrel TV Spot, \\'Calendar\\'\" />\\n                                <span>\\n                                    Enbrel TV Spot, \\'Calendar\\'                                </span>\\n                            </a>\\n                        </div>\\n\\n                                                            \\n                                                                                    <div class=\"related-item related-item--md related-item--sm\">\\n                            <a href=\"/ad/nrhg/rinvoq-your-mission-zip-line\" title=\"RINVOQ TV Spot, \\'Your Mission: Zip Line\\'\" >\\n                                <img class=\"img-event\" src=\"https://d2z1w4aiblvrwu.cloudfront.net/ad/nrhg/rinvoq-your-mission-zip-line-small-3.jpg\" alt=\"RINVOQ TV Spot, \\'Your Mission: Zip Line\\'\" />\\n                                <span>\\n                                    RINVOQ TV Spot, \\'Your Mission: Zip Line\\'                                </span>\\n                            </a>\\n                        </div>\\n                                                                                            <div class=\"related-item related-item--md \">\\n                            <a href=\"/ad/ZJO7/rinvoq-your-mission\" title=\"RINVOQ TV Spot, \\'Your Mission\\'\" >\\n                                <img class=\"img-event\" src=\"https://d2z1w4aiblvrwu.cloudfront.net/ad/ZJO7/rinvoq-your-mission-small-4.jpg\" alt=\"RINVOQ TV Spot, \\'Your Mission\\'\" />\\n                                <span>\\n                                    RINVOQ TV Spot, \\'Your Mission\\'                                </span>\\n                            </a>\\n                        </div>\\n                                                                                            <div class=\"related-item related-item--md \">\\n                            <a href=\"/ad/nosi/rinvoq-covid-19-take-it-on\" title=\"RINVOQ TV Spot, \\'Your Mission: Paying for Your Medicine\\'\" >\\n                                <img class=\"img-event\" src=\"https://d2z1w4aiblvrwu.cloudfront.net/ad/nosi/rinvoq-covid-19-take-it-on-small-2.jpg\" alt=\"RINVOQ TV Spot, \\'Your Mission: Paying for Your Medicine\\'\" />\\n                                <span>\\n                                    RINVOQ TV Spot, \\'Your Mission: Paying for Your Medicine\\'                                </span>\\n                            </a>\\n                        </div>\\n                                                            \\n            </div>\\n\\n            <div class=\"btn-replay js-btn-replay\">\\n                <a class=\"js-btn-replay\" href=\"#\">\\n                    <i class=\"fas fa-undo\" aria-hidden=\"true\"></i> Replay\\n                </a>\\n            </div>\\n\\n        </div>\\n    \\n\\n</div>\\n            \\n<div class=\"video-bar__social\">\\n    <div class=\"social-bar row gutter-xs\">\\n        <div class=\"col-6 col-sm-6 text-left\">\\n\\n            <a class=\"video-bar__social-share\" data-toggle=\"modal\" data-target=\"#modal-share-ad\">\\n                <i class=\"fas fa-share-alt\"></i>\\n                <span class=\"video-bar__social-label\">Share</span>\\n            </a>\\n\\n        </div>\\n        <div class=\"col-6 col-sm-6 text-right\">\\n\\n            <div class=\"video-bar__social-vote\" data-vote-controls>\\n                <a data-vote=\"spoton\" data-adid=\"nrhg\">\\n                    <i class=\"fas fa-thumbs-up\"></i>\\n                </a>\\n                <a data-vote=\"boo\" data-adid=\"nrhg\">\\n                    <i class=\"fas fa-thumbs-down\"></i>\\n                </a>\\n            </div>\\n\\n            <div class=\"video-bar__social-rating hidden\" data-vote-results>\\n                <i class=\"fas fa-thumbs-up\"></i>\\n                <span class=\"video-bar__social-label\" data-vote-rating></span>\\n            </div>\\n\\n        </div>\\n    </div>\\n</div>\\n            <!-- TODO: Uncomment as we get close to Super Bowl to drive people to Ad Center -->\\n\\n<!--            --><!--                --><!--            -->\\n            <h1 class=\"pt-3 page--ad__title\">\\n                RINVOQ TV Commercial, \\'Your Mission: Zip Line\\'            </h1>\\n\\n            <div>\\n                \\n<div>\\n    Ad ID:<meta name=\"format-detection\" content=\"telephone=no\"> 2884856    &nbsp;&nbsp;\\n\\n            60s        &nbsp;&nbsp;\\n    \\n            2020    \\n            <small>(\\n            Active        )</small>\\n    </div>\\n<div class=\"d-block d-md-none pb-0 pt-3\">\\n    <a href=\"#meta-data\" class=\"js-in-page-nav\">SHOW MORE</a>\\n</div>\\n            </div>\\n\\n        </div>\\n\\n        <div class=\"grid-meta\" id=\"meta-data\">\\n\\n            \\n    <section class=\"description\">\\n        <p>RINVOQ is a prescription oral medication intended to treat those who suffer from moderate to severe rheumatoid arthritis when taken as directed. For those who have been financially impacted by the COVID-19 crisis, the pharmaceutical company may be able to provide assistance.</p>\\n    </section>\\n            \\n            \\n    <div class=\"col-12 mb-3 pl-0\">\\n        <div class=\"row\">\\n            <div class=\"col-md-3\">\\n                <strong>\\n                    Advertiser                </strong>\\n            </div>\\n            <div class=\"col-md-9\">\\n                <a href=\"/brands/2Tm/rinvoq\">\\n                    RINVOQ                </a>\\n            </div>\\n        </div>\\n    </div>\\n            \\n\\n\\n    <div class=\"col-12 mb-3 pl-0\">\\n        <div class=\"row\">\\n            <div class=\"col-md-3\">\\n                <strong>\\n                    Advertiser Profiles                </strong>\\n            </div>\\n            <div class=\"col-md-9\">\\n                <a href=\"https://www.facebook.com/RINVOQ\" target=\"_blank\" rel=\"nofollow\">Facebook</a>            </div>\\n        </div>\\n    </div>\\n\\n            \\n\\n\\n    \\n            <div class=\"col-12 mb-3 pl-0\">\\n            <div class=\"row\">\\n                <div class=\"col-md-3\">\\n                    <strong>\\n                        Products                    </strong>\\n                </div>\\n                <div class=\"col-md-9\">\\n                    <a href=\"/search?term=RINVOQ+RINVOQ\">RINVOQ</a>                </div>\\n            </div>\\n        </div>\\n    \\n\\n            \\n\\n    <div class=\"col-12 mb-3 pl-0\">\\n        <div class=\"row\">\\n            <div class=\"col-md-3\">\\n                <strong>\\n                    Promotions                </strong>\\n            </div>\\n            <div class=\"col-md-9\">\\n                Qualifying patients may pay as little as $5 per month                            </div>\\n        </div>\\n    </div>\\n\\n\\n            \\n\\n    <div class=\"col-12 mb-3 pl-0\">\\n        <div class=\"row\">\\n            <div class=\"col-md-3\">\\n                <strong>\\n                    Tagline                </strong>\\n            </div>\\n            <div class=\"col-md-9\">\\n                &#8220;Make It Your Mission&#8221;\\n            </div>\\n        </div>\\n    </div>\\n\\n            \\n<div class=\"col-12 mb-3 pl-0\">\\n    <div class=\"row\">\\n        <div class=\"col-md-3\">\\n            <strong>\\n                Songs            </strong>\\n            -\\n            <small>\\n                <a id=\"dropscience-songs\" href=\"#\">\\n                    <i class=\"far fa-plus-square\" aria-hidden=\"true\"></i>\\n                    Add                </a>\\n            </small>\\n        </div>\\n        <div class=\"col-md-9\">\\n                            <span class=\"text-muted\">\\n                None have been identified for this spot                </span>\\n                    </div>\\n    </div>\\n</div>\\n\\n            \\n\\n    <div class=\"col-12 mb-3 pl-0\">\\n        <div class=\"row\">\\n            <div class=\"col-md-3\">\\n                <strong>\\n                    Phone                </strong>\\n            </div>\\n            <div class=\"col-md-9\">\\n                1-800-2-RINVOQ            </div>\\n        </div>\\n    </div>\\n\\n            \\n    \\n    \\n    <div class=\"col-12 mb-3 pl-0\">\\n        <div class=\"row\">\\n            <div class=\"col-md-3\">\\n                <strong>\\n                    Ad URL                </strong>\\n            </div>\\n            <div class=\"col-md-9\">\\n                <a href=\"http://www.rinvoq.com\" rel=\"nofollow\" target=\"_blank\">\\n                    http://www.rinvoq.com                </a>\\n            </div>\\n        </div>\\n    </div>\\n    \\n            \\n\\n    <div class=\"col-12 mb-3 pl-0\">\\n        <div class=\"row\">\\n            <div class=\"col-md-3\">\\n                <strong>\\n                    Mood                </strong>\\n            </div>\\n            <div class=\"col-md-9\">\\n                Active            </div>\\n        </div>\\n    </div>\\n\\n            \\n            \\n            \\n\\n    \\n    <div class=\"col-12 mb-3 pl-0\">\\n        <div class=\"row\">\\n            <div class=\"col-md-3\">\\n                <strong>\\n                    Magazines                </strong>\\n            </div>\\n            <div class=\"col-md-9\">\\n                <a href=\"/search?term=Good Housekeeping\" style=\"display:inline-block;\">Good Housekeeping</a>            </div>\\n        </div>\\n    </div>\\n\\n            \\n            \\n            \\n            \\n            \\n            \\n            \\n            \\n\\n    <div class=\"col-12 mb-3 pl-0\">\\n        <div class=\"row\">\\n            <div class=\"col-md-3\">\\n                <strong>\\n                    Actors                </strong>\\n                -\\n                <small><a class=\"dropscience-actors\" href=\"#\"><i class=\"far fa-plus-square\" aria-hidden=\"true\"></i> Add</a></small>\\n            </div>\\n            <div class=\"col-md-9\">\\n\\n                \\n                    <span class=\"text-muted\">\\n                None have been identified for this spot            </span>\\n\\n                \\n            </div>\\n        </div>\\n    </div>\\n\\n\\n\\n            \\n\\n            \\n            \\n            \\n            \\n    <div class=\"row mt-5\">\\n        <div class=\"col-12\">\\n            <strong>Screenshots</strong>\\n            <div class=\"flexslider flexslider--thumbnails\">\\n                <ul class=\"flexslides slides\">\\n                                                                <li>\\n                            <a href=\"#sScreensModalID\" role=\"button\" data-toggle=\"modal\"\\n                               data-screen=\"item1\" class=\"item1\">\\n                                <img class=\"img-16x9\" src=\"https://d2z1w4aiblvrwu.cloudfront.net/ad/nrhg/rinvoq-your-mission-zip-line-small-1.jpg\"\\n                                     alt=\"RINVOQ TV Spot, \\'Your Mission: Zip Line\\' - Thumbnail 1\"\\n                                     width=\"80\">\\n                            </a>\\n                        </li>\\n                                                                    <li>\\n                            <a href=\"#sScreensModalID\" role=\"button\" data-toggle=\"modal\"\\n                               data-screen=\"item2\" class=\"item2\">\\n                                <img class=\"img-16x9\" src=\"https://d2z1w4aiblvrwu.cloudfront.net/ad/nrhg/rinvoq-your-mission-zip-line-small-2.jpg\"\\n                                     alt=\"RINVOQ TV Spot, \\'Your Mission: Zip Line\\' - Thumbnail 2\"\\n                                     width=\"80\">\\n                            </a>\\n                        </li>\\n                                                                    <li>\\n                            <a href=\"#sScreensModalID\" role=\"button\" data-toggle=\"modal\"\\n                               data-screen=\"item3\" class=\"item3\">\\n                                <img class=\"img-16x9\" src=\"https://d2z1w4aiblvrwu.cloudfront.net/ad/nrhg/rinvoq-your-mission-zip-line-small-3.jpg\"\\n                                     alt=\"RINVOQ TV Spot, \\'Your Mission: Zip Line\\' - Thumbnail 3\"\\n                                     width=\"80\">\\n                            </a>\\n                        </li>\\n                                                                    <li>\\n                            <a href=\"#sScreensModalID\" role=\"button\" data-toggle=\"modal\"\\n                               data-screen=\"item4\" class=\"item4\">\\n                                <img class=\"img-16x9\" src=\"https://d2z1w4aiblvrwu.cloudfront.net/ad/nrhg/rinvoq-your-mission-zip-line-small-4.jpg\"\\n                                     alt=\"RINVOQ TV Spot, \\'Your Mission: Zip Line\\' - Thumbnail 4\"\\n                                     width=\"80\">\\n                            </a>\\n                        </li>\\n                                                                    <li>\\n                            <a href=\"#sScreensModalID\" role=\"button\" data-toggle=\"modal\"\\n                               data-screen=\"item5\" class=\"item5\">\\n                                <img class=\"img-16x9\" src=\"https://d2z1w4aiblvrwu.cloudfront.net/ad/nrhg/rinvoq-your-mission-zip-line-small-5.jpg\"\\n                                     alt=\"RINVOQ TV Spot, \\'Your Mission: Zip Line\\' - Thumbnail 5\"\\n                                     width=\"80\">\\n                            </a>\\n                        </li>\\n                                                                    <li>\\n                            <a href=\"#sScreensModalID\" role=\"button\" data-toggle=\"modal\"\\n                               data-screen=\"item6\" class=\"item6\">\\n                                <img class=\"img-16x9\" src=\"https://d2z1w4aiblvrwu.cloudfront.net/ad/nrhg/rinvoq-your-mission-zip-line-small-6.jpg\"\\n                                     alt=\"RINVOQ TV Spot, \\'Your Mission: Zip Line\\' - Thumbnail 6\"\\n                                     width=\"80\">\\n                            </a>\\n                        </li>\\n                                                                    <li>\\n                            <a href=\"#sScreensModalID\" role=\"button\" data-toggle=\"modal\"\\n                               data-screen=\"item7\" class=\"item7\">\\n                                <img class=\"img-16x9\" src=\"https://d2z1w4aiblvrwu.cloudfront.net/ad/nrhg/rinvoq-your-mission-zip-line-small-7.jpg\"\\n                                     alt=\"RINVOQ TV Spot, \\'Your Mission: Zip Line\\' - Thumbnail 7\"\\n                                     width=\"80\">\\n                            </a>\\n                        </li>\\n                                                                    <li>\\n                            <a href=\"#sScreensModalID\" role=\"button\" data-toggle=\"modal\"\\n                               data-screen=\"item8\" class=\"item8\">\\n                                <img class=\"img-16x9\" src=\"https://d2z1w4aiblvrwu.cloudfront.net/ad/nrhg/rinvoq-your-mission-zip-line-small-8.jpg\"\\n                                     alt=\"RINVOQ TV Spot, \\'Your Mission: Zip Line\\' - Thumbnail 8\"\\n                                     width=\"80\">\\n                            </a>\\n                        </li>\\n                                                                    <li>\\n                            <a href=\"#sScreensModalID\" role=\"button\" data-toggle=\"modal\"\\n                               data-screen=\"item9\" class=\"item9\">\\n                                <img class=\"img-16x9\" src=\"https://d2z1w4aiblvrwu.cloudfront.net/ad/nrhg/rinvoq-your-mission-zip-line-small-9.jpg\"\\n                                     alt=\"RINVOQ TV Spot, \\'Your Mission: Zip Line\\' - Thumbnail 9\"\\n                                     width=\"80\">\\n                            </a>\\n                        </li>\\n                                                                    <li>\\n                            <a href=\"#sScreensModalID\" role=\"button\" data-toggle=\"modal\"\\n                               data-screen=\"item10\" class=\"item10\">\\n                                <img class=\"img-16x9\" src=\"https://d2z1w4aiblvrwu.cloudfront.net/ad/nrhg/rinvoq-your-mission-zip-line-small-10.jpg\"\\n                                     alt=\"RINVOQ TV Spot, \\'Your Mission: Zip Line\\' - Thumbnail 10\"\\n                                     width=\"80\">\\n                            </a>\\n                        </li>\\n                                                            </ul>\\n            </div>\\n        </div>\\n    </div>\\n\\n    <div class=\"modal fade sScreensModal\" id=\"sScreensModalID\" tabindex=\"-1\" role=\"dialog\"\\n         aria-labelledby=\"sScreensModalLabel\" aria-hidden=\"true\">\\n        <div class=\"modal-dialog modal-lg\">\\n            <div class=\"modal-content\">\\n                <div class=\"modal-header\">\\n                    <h3 id=\"sScreensModalLabel\">Screenshots</h3>\\n                    <button type=\"button\" class=\"close\" data-dismiss=\"modal\" aria-hidden=\"true\"><span\\n                            aria-hidden=\"true\">&times;</span><span class=\"sr-only\">Close</span></button>\\n                </div>\\n                <div class=\"modal-body\">\\n                    <div class=\"carousel slide\" id=\"sScreensCarouselID\">\\n                        <div class=\"carousel-inner\">\\n                                                                                        <div class=\"carousel-item item item1 \">\\n                                    <img class=\"img-full-width img-16x9\" src=\"\" data-src=\"https://d2z1w4aiblvrwu.cloudfront.net/ad/nrhg/rinvoq-your-mission-zip-line-large-1.jpg\"\\n                                         alt=\"RINVOQ TV Spot, \\'Your Mission: Zip Line\\' - Screenshot 1\"/>\\n                                </div>\\n                                                                                            <div class=\"carousel-item item item2 active\">\\n                                    <img class=\"img-full-width img-16x9\" src=\"\" data-src=\"https://d2z1w4aiblvrwu.cloudfront.net/ad/nrhg/rinvoq-your-mission-zip-line-large-2.jpg\"\\n                                         alt=\"RINVOQ TV Spot, \\'Your Mission: Zip Line\\' - Screenshot 2\"/>\\n                                </div>\\n                                                                                            <div class=\"carousel-item item item3 \">\\n                                    <img class=\"img-full-width img-16x9\" src=\"\" data-src=\"https://d2z1w4aiblvrwu.cloudfront.net/ad/nrhg/rinvoq-your-mission-zip-line-large-3.jpg\"\\n                                         alt=\"RINVOQ TV Spot, \\'Your Mission: Zip Line\\' - Screenshot 3\"/>\\n                                </div>\\n                                                                                            <div class=\"carousel-item item item4 \">\\n                                    <img class=\"img-full-width img-16x9\" src=\"\" data-src=\"https://d2z1w4aiblvrwu.cloudfront.net/ad/nrhg/rinvoq-your-mission-zip-line-large-4.jpg\"\\n                                         alt=\"RINVOQ TV Spot, \\'Your Mission: Zip Line\\' - Screenshot 4\"/>\\n                                </div>\\n                                                                                            <div class=\"carousel-item item item5 \">\\n                                    <img class=\"img-full-width img-16x9\" src=\"\" data-src=\"https://d2z1w4aiblvrwu.cloudfront.net/ad/nrhg/rinvoq-your-mission-zip-line-large-5.jpg\"\\n                                         alt=\"RINVOQ TV Spot, \\'Your Mission: Zip Line\\' - Screenshot 5\"/>\\n                                </div>\\n                                                                                            <div class=\"carousel-item item item6 \">\\n                                    <img class=\"img-full-width img-16x9\" src=\"\" data-src=\"https://d2z1w4aiblvrwu.cloudfront.net/ad/nrhg/rinvoq-your-mission-zip-line-large-6.jpg\"\\n                                         alt=\"RINVOQ TV Spot, \\'Your Mission: Zip Line\\' - Screenshot 6\"/>\\n                                </div>\\n                                                                                            <div class=\"carousel-item item item7 \">\\n                                    <img class=\"img-full-width img-16x9\" src=\"\" data-src=\"https://d2z1w4aiblvrwu.cloudfront.net/ad/nrhg/rinvoq-your-mission-zip-line-large-7.jpg\"\\n                                         alt=\"RINVOQ TV Spot, \\'Your Mission: Zip Line\\' - Screenshot 7\"/>\\n                                </div>\\n                                                                                            <div class=\"carousel-item item item8 \">\\n                                    <img class=\"img-full-width img-16x9\" src=\"\" data-src=\"https://d2z1w4aiblvrwu.cloudfront.net/ad/nrhg/rinvoq-your-mission-zip-line-large-8.jpg\"\\n                                         alt=\"RINVOQ TV Spot, \\'Your Mission: Zip Line\\' - Screenshot 8\"/>\\n                                </div>\\n                                                                                            <div class=\"carousel-item item item9 \">\\n                                    <img class=\"img-full-width img-16x9\" src=\"\" data-src=\"https://d2z1w4aiblvrwu.cloudfront.net/ad/nrhg/rinvoq-your-mission-zip-line-large-9.jpg\"\\n                                         alt=\"RINVOQ TV Spot, \\'Your Mission: Zip Line\\' - Screenshot 9\"/>\\n                                </div>\\n                                                                                            <div class=\"carousel-item item item10 \">\\n                                    <img class=\"img-full-width img-16x9\" src=\"\" data-src=\"https://d2z1w4aiblvrwu.cloudfront.net/ad/nrhg/rinvoq-your-mission-zip-line-large-10.jpg\"\\n                                         alt=\"RINVOQ TV Spot, \\'Your Mission: Zip Line\\' - Screenshot 10\"/>\\n                                </div>\\n                                                                                    </div>\\n                        <a class=\"carousel-control carousel-control-prev left alternate\" href=\"#sScreensCarouselID\" role=\"button\"\\n                           data-slide=\"prev\"><span class=\"fal fa-angle-left\"></span></a>\\n                        <a class=\"carousel-control carousel-control-next right alternate\" href=\"#sScreensCarouselID\" role=\"button\"\\n                           data-slide=\"next\"><span class=\"fal fa-angle-right\"></span></a>\\n                    </div>\\n                </div>\\n            </div>\\n        </div>\\n    </div>\\n\\n\\n\\n\\n\\n\\n\\n\\n            <hr class=\"my-5\">\\n\\n            \\n    <div class=\"font-weight-bold mb-0 pl-0\">More RINVOQ Commercials</div>\\n    <div class=\"row mb-5\">\\n                                        \\n            <div class=\"col-6 col-lg-3 mb-3\">\\n                <a class=\"media-thumb\"  href=\"/ad/ZJO7/rinvoq-your-mission\" title=\"RINVOQ TV Spot, \\\\\\'Your Mission\\\\\\'\">\\n                    <img class=\"media-thumb__image img-event\" src=\"https://d2z1w4aiblvrwu.cloudfront.net/ad/ZJO7/rinvoq-your-mission-small-4.jpg\" alt=\"RINVOQ TV Spot, \\\\\\'Your Mission\\\\\\'\" />\\n                    <span class=\"media-thumb__caption\">\\n                        RINVOQ TV Spot, \\'Your Mission\\'                    </span>\\n                </a>\\n            </div>\\n\\n                        \\n                    \\n            <div class=\"col-6 col-lg-3 mb-3\">\\n                <a class=\"media-thumb\"  href=\"/ad/nosi/rinvoq-covid-19-take-it-on\" title=\"RINVOQ TV Spot, \\\\\\'Your Mission: Paying for Your Medicine\\\\\\'\">\\n                    <img class=\"media-thumb__image img-event\" src=\"https://d2z1w4aiblvrwu.cloudfront.net/ad/nosi/rinvoq-covid-19-take-it-on-small-2.jpg\" alt=\"RINVOQ TV Spot, \\\\\\'Your Mission: Paying for Your Medicine\\\\\\'\" />\\n                    <span class=\"media-thumb__caption\">\\n                        RINVOQ TV Spot, \\'Your Mission: Paying for Your Medicine\\'                    </span>\\n                </a>\\n            </div>\\n\\n                        \\n            </div>\\n            \\n    <div class=\"font-weight-bold mb-0 pl-0\">Related Commercials</div>\\n    <div class=\"row\">\\n\\n                                        <div class=\"col-6 col-lg-3 mb-3\">\\n                <a class=\"media-thumb\"  href=\"/ad/nrhg/rinvoq-your-mission-zip-line\" title=\"RINVOQ TV Spot, \\\\\\'Your Mission: Zip Line\\\\\\'\">\\n                    <img class=\"media-thumb__image img-event\" src=\"https://d2z1w4aiblvrwu.cloudfront.net/ad/nrhg/rinvoq-your-mission-zip-line-small-3.jpg\" alt=\"RINVOQ TV Spot, \\\\\\'Your Mission: Zip Line\\\\\\'\" />\\n            <span class=\"media-thumb__caption\">\\n                RINVOQ TV Spot, \\'Your Mission: Zip Line\\'            </span>\\n                </a>\\n            </div>\\n        \\n                                                <div class=\"col-6 col-lg-3 mb-3\">\\n                <a class=\"media-thumb\"  href=\"/ad/dEdZ/humira-body-of-proof\" title=\"HUMIRA TV Spot, \\'Body of Proof\\'\">\\n                    <img class=\"media-thumb__image img-16x9\" src=\"https://d2z1w4aiblvrwu.cloudfront.net/ad/dEdZ/humira-body-of-proof-small-5.jpg\" alt=\"HUMIRA TV Spot, \\'Body of Proof\\'\" />\\n                    <span class=\"media-thumb__caption\">\\n                        HUMIRA TV Spot, \\'Body of Proof\\'                    </span>\\n                </a>\\n            </div>\\n                                            <div class=\"col-6 col-lg-3 mb-3\">\\n                <a class=\"media-thumb\"  href=\"/ad/7nSu/xeljanz\" title=\"Xeljanz TV Spot\">\\n                    <img class=\"media-thumb__image img-16x9\" src=\"https://d2z1w4aiblvrwu.cloudfront.net/ad/7nSu/xeljanz-small-10.jpg\" alt=\"Xeljanz TV Spot\" />\\n                    <span class=\"media-thumb__caption\">\\n                        Xeljanz TV Spot                    </span>\\n                </a>\\n            </div>\\n                                            <div class=\"col-6 col-lg-3 mb-3\">\\n                <a class=\"media-thumb\"  href=\"/ad/wrWz/humira-food-drive\" title=\"HUMIRA TV Spot, \\'Food Drive\\'\">\\n                    <img class=\"media-thumb__image img-16x9\" src=\"https://d2z1w4aiblvrwu.cloudfront.net/ad/wrWz/humira-food-drive-small-3.jpg\" alt=\"HUMIRA TV Spot, \\'Food Drive\\'\" />\\n                    <span class=\"media-thumb__caption\">\\n                        HUMIRA TV Spot, \\'Food Drive\\'                    </span>\\n                </a>\\n            </div>\\n                    \\n    </div>\\n\\n\\n\\n\\n            <hr class=\"my-5\">\\n\\n            <div class=\"row mb-5\">\\n                                    \\n    <!-- TODO: Change to col-lg-4 near super bowl -->\\n    <div class=\"col-lg-6 mb-3\">\\n        <h2 class=\"mb-0 pl-0\">\\n            Related Advertisers        </h2>\\n                    <div>\\n                <a href=\"/brands/de2/humira-arthritis-psoriasis\">\\n                    HUMIRA [Arthritis | Psoriasis]                </a>\\n            </div>\\n                    <div>\\n                <a href=\"/brands/Iu9/xeljanz\">\\n                    Xeljanz                </a>\\n            </div>\\n                    <div>\\n                <a href=\"/brands/deM/enbrel\">\\n                    Enbrel                </a>\\n            </div>\\n                    <div>\\n                <a href=\"/brands/In6/orencia\">\\n                    Orencia                </a>\\n            </div>\\n                    <div>\\n                <a href=\"/brands/dEv/celebrex\">\\n                    Celebrex                </a>\\n            </div>\\n            </div>\\n                    \\n    <!-- TODO: Change to col-lg-4 near super bowl -->\\n    <div class=\"col-lg-6 mb-3\">\\n        <h2 class=\"mb-0 pl-0\">\\n            Related Products        </h2>\\n                    <div>\\n                <a href=\"/product/w6a\">\\n                     HUMIRA [Arthritis | Psoriasis] HUMIRA [Arthritis]                 </a>\\n            </div>\\n                    <div>\\n                <a href=\"/product/In_\">\\n                     Xeljanz XR                 </a>\\n            </div>\\n                    <div>\\n                <a href=\"/product/k1J\">\\n                      Enbrel                 </a>\\n            </div>\\n                    <div>\\n                <a href=\"/product/dCd\">\\n                      Xeljanz                 </a>\\n            </div>\\n                    <div>\\n                <a href=\"/product/nFf\">\\n                     JointFlex Arthritis Pain Relief Cream                 </a>\\n            </div>\\n            </div>\\n                                <!-- TODO: Uncomment this as we near super bowl for ad center tile -->\\n<!--                -->            </div>\\n\\n        </div>\\n\\n        <div class=\"grid-metrics\">\\n\\t\\t    \\n<div class=\"data-bar\">\\n            <h2 class=\"data-bar__metrics-main-title\">Get Full Metrics On This Ad</h2>\\n        <h3 class=\"data-bar__metrics-main-subtitle\">10 days of access across the site</h3>\\n        <div class=\"data-bar__cta mb-3 mt-4\">\\n                    <form action=\"/get-started/welcome\" id=\"unlock-metrics\" method=\"post\" enctype=\"multipart/form-data\" autocomplete=\"off\">\\n                <input name=\"url\" type=\"hidden\" value=\"//www.ispot.tv/ad/nrhg/rinvoq-your-mission-zip-line\" />\\n                <input name=\"a_b_test\" type=\"hidden\" value=\"Ad Page - CTA - A\" />\\n                <button class=\"px-5 btn btn-lg btn-primary btn-blue border-0 gtm-unlock-metrics-btn cta-funnel cta-funnel--btn-ad-page\" id=\"unlockButton\" type=\"submit\">Free Trial</button>\\n            </form>\\n            </div>\\n\\n    <h3 class=\"data-bar__metrics-title font-weight-bold mb-0 pb-0\">Media Measurement</h3>\\n\\n    <div class=\"data-bar__metrics-content\">\\n        <div class=\"row pb-1 pt-0\">\\n            <div class=\"col-6\">National Airings</div>\\n            <div class=\"col-6 panel-group__focus\">\\n                <a data-ajaxType=\"general\" data-ajaxDataPoint=\"airings\" data-format=\"number|0\"\\n                                            href=\"#\" data-click=\"unlockButton\" class=\"ajax gtm-metrics cta-funnel cta-funnel--lnk-ad-page\"\\n                                    >\\n                    <img src=\"https://d3ds6z1w6yhmzj.cloudfront.net/img/ispot/ajax-loader.gif\"/>\\n                </a>\\n            </div>\\n        </div>\\n        <div class=\"row pb-1 pt-0\">\\n            <div class=\"col-6\"><i class=\"fal fa-level-up fa-rotate-90 mr-1\"></i> First Airing</div>\\n            <div class=\"col-6 panel-group__focus\">\\n                <a data-ajaxType=\"general\" data-ajaxDataPoint=\"airingDateFirstEt\" data-format=\"date\"\\n                                            href=\"#\" data-click=\"unlockButton\" class=\"ajax gtm-metrics cta-funnel cta-funnel--lnk-ad-page\"\\n                                    >\\n                    <img src=\"https://d3ds6z1w6yhmzj.cloudfront.net/img/ispot/ajax-loader.gif\"/>\\n                </a>\\n            </div>\\n        </div>\\n        <div class=\"row pb-1 pt-0\">\\n            <div class=\"col-6\"><i class=\"fal fa-level-up fa-rotate-90 mr-1\"></i> Last Airing</div>\\n            <div class=\"col-6 panel-group__focus\">\\n                <a data-ajaxType=\"general\" data-ajaxDataPoint=\"airingDateLastEt\" data-format=\"date\"\\n                                            href=\"#\" data-click=\"unlockButton\" class=\"ajax gtm-metrics cta-funnel cta-funnel--lnk-ad-page\"\\n                                    >\\n                    <img src=\"https://d3ds6z1w6yhmzj.cloudfront.net/img/ispot/ajax-loader.gif\"/>\\n                </a>\\n                <!-- PUT TIME STAMP HERE, comment out Xm ago -->\\n            </div>\\n        </div>\\n        <div class=\"row pb-1 pt-0\">\\n            <div class=\"col-6\">Creatives</div>\\n            <div class=\"col-6 panel-group__focus\">\\n                <a data-ajaxType=\"general\" data-ajaxDataPoint=\"creatives\" data-format=\"number|0\"\\n                                            href=\"#\" data-click=\"unlockButton\" class=\"ajax gtm-metrics cta-funnel cta-funnel--lnk-ad-page\"\\n                                    >\\n                    <img src=\"https://d3ds6z1w6yhmzj.cloudfront.net/img/ispot/ajax-loader.gif\"/>\\n                </a>\\n            </div>\\n        </div>\\n        <div class=\"row pb-1 pt-0\">\\n            <div class=\"col-6\">Recently Aired On</div>\\n            <div class=\"col-6 panel-group__focus\">\\n                <a\\n                                            href=\"#\" data-click=\"unlockButton\" class=\"gtm-metrics cta-funnel cta-funnel--lnk-ad-page\"\\n                                    >\\n\\n                                            ABC World News Tonight With David Muir on ABC                    \\n                </a>\\n            </div>\\n        </div>\\n        <div class=\"row pb-1 pt-0\">\\n            <div class=\"col-6\">Est. Spend</div>\\n            <div class=\"col-6 panel-group__focus\">\\n                <a data-ajaxType=\"general\" data-ajaxDataPoint=\"spendEstimated\" data-format=\"currency|0\"\\n                                            href=\"#\" data-click=\"unlockButton\" class=\"ajax gtm-metrics cta-funnel cta-funnel--lnk-ad-page\"\\n                                    >\\n                    <img src=\"https://d3ds6z1w6yhmzj.cloudfront.net/img/ispot/ajax-loader.gif\"/>\\n                </a>\\n            </div>\\n        </div>\\n        <div class=\"row pb-1 pt-0\">\\n            <div class=\"col-6\">TV Impressions</div>\\n            <div class=\"col-6 panel-group__focus\">\\n                <a data-ajaxType=\"general\" data-ajaxDataPoint=\"impressions\" data-format=\"number|0\"\\n                                            href=\"#\" data-click=\"unlockButton\" class=\"ajax gtm-metrics cta-funnel cta-funnel--lnk-ad-page\"\\n                                    >\\n                    <img src=\"https://d3ds6z1w6yhmzj.cloudfront.net/img/ispot/ajax-loader.gif\"/>\\n                </a>\\n            </div>\\n        </div>\\n        <div class=\"row pb-1 pt-0\">\\n            <div class=\"col-6\"><i class=\"fal fa-level-up fa-rotate-90 mr-1\"></i> National</div>\\n            <div class=\"col-6 panel-group__focus\">\\n                <a data-ajaxType=\"general\" data-ajaxDataPoint=\"impressionsNationalLinear\" data-format=\"number|0\"\\n                                            href=\"#\" data-click=\"unlockButton\" class=\"ajax gtm-metrics cta-funnel cta-funnel--lnk-ad-page\"\\n                                    >\\n                    <img src=\"https://d3ds6z1w6yhmzj.cloudfront.net/img/ispot/ajax-loader.gif\"/>\\n                </a>\\n            </div>\\n        </div>\\n        <div class=\"row pb-1 pt-0\">\\n            <div class=\"col-6\"><i class=\"fal fa-level-up fa-rotate-90 mr-1\"></i> Local</div>\\n            <div class=\"col-6 panel-group__focus\">\\n                <a data-ajaxType=\"general\" data-ajaxDataPoint=\"impressionsLocal\" data-format=\"number|0\"\\n                                            href=\"#\" data-click=\"unlockButton\" class=\"ajax gtm-metrics cta-funnel cta-funnel--lnk-ad-page\"\\n                                    >\\n                    <img src=\"https://d3ds6z1w6yhmzj.cloudfront.net/img/ispot/ajax-loader.gif\"/>\\n                </a>\\n            </div>\\n        </div>\\n        <div class=\"row pb-1 pt-0\">\\n            <div class=\"col-6\"><i class=\"fal fa-level-up fa-rotate-90 mr-1\"></i> VOD/OTT</div>\\n            <div class=\"col-6 panel-group__focus\">\\n                <a data-ajaxType=\"general\" data-ajaxDataPoint=\"impressionsVod\" data-format=\"number|0\"\\n                                            href=\"#\" data-click=\"unlockButton\" class=\"ajax gtm-metrics cta-funnel cta-funnel--lnk-ad-page\"\\n                                    >\\n                    <img src=\"https://d3ds6z1w6yhmzj.cloudfront.net/img/ispot/ajax-loader.gif\"/>\\n                </a>\\n            </div>\\n        </div>\\n    </div>\\n    <h3 class=\"data-bar__metrics-title text-left-xs font-weight-bold mb-0 pb-0\">Attention &amp; Performance Analytics</h3>\\n    <div class=\"data-bar__metrics-content data-bar__metrics-content--attention pb-4\">\\n        <div class=\"row pb-1 pt-0\">\\n            <div class=\"col-6\">Attention Score</div>\\n            <div class=\"col-6 panel-group__focus\">\\n                <a data-ajaxType=\"general\" data-ajaxDataPoint=\"viewRateAverage\" data-format=\"number|1\"\\n                                            href=\"#\" data-click=\"unlockButton\" class=\"ajax gtm-metrics cta-funnel cta-funnel--lnk-ad-page\"\\n                                    >\\n                    <img src=\"https://d3ds6z1w6yhmzj.cloudfront.net/img/ispot/ajax-loader.gif\"/>\\n                </a>\\n            </div>\\n        </div>\\n        <div class=\"row pb-1 pt-0\">\\n            <div class=\"col-6\"><i class=\"fal fa-level-up fa-rotate-90 mr-1\"></i> Industry Avg.</div>\\n            <div class=\"col-6 panel-group__focus\">\\n                <a data-ajaxType=\"industry\" data-ajaxDataPoint=\"industryViewRate\" data-format=\"number|1\"\\n                                            href=\"#\" data-click=\"unlockButton\" class=\"ajax gtm-metrics cta-funnel cta-funnel--lnk-ad-page\"\\n                                    >\\n                    <img src=\"https://d3ds6z1w6yhmzj.cloudfront.net/img/ispot/ajax-loader.gif\"/>\\n                </a>\\n            </div>\\n        </div>\\n        <div class=\"row pb-1 pt-0\">\\n            <div class=\"col-6\">Earned Online Views</div>\\n            <div class=\"col-6 panel-group__focus\">\\n                <a data-ajaxType=\"general\" data-ajaxDataPoint=\"viewsEarned\" data-format=\"number|0\"\\n                                            href=\"#\" data-click=\"unlockButton\" class=\"ajax gtm-metrics cta-funnel cta-funnel--lnk-ad-page\"\\n                                    >\\n                    <img src=\"https://d3ds6z1w6yhmzj.cloudfront.net/img/ispot/ajax-loader.gif\"/>\\n                </a>\\n            </div>\\n        </div>\\n        <div class=\"row pb-1 pt-0\">\\n            <div class=\"col-6\">Social Impressions</div>\\n            <div class=\"col-6 panel-group__focus\">\\n                <a data-ajaxType=\"general\" data-ajaxDataPoint=\"socialImpressions\" data-format=\"number|0\"\\n                                            href=\"#\" data-click=\"unlockButton\" class=\"ajax gtm-metrics cta-funnel cta-funnel--lnk-ad-page\"\\n                                    >\\n                    <img src=\"https://d3ds6z1w6yhmzj.cloudfront.net/img/ispot/ajax-loader.gif\"/>\\n                </a>\\n            </div>\\n        </div>\\n        <div class=\"row pb-1 pt-0\">\\n            <div class=\"col-6\">Sentiment</div>\\n            <div class=\"col-6 panel-group__focus\">\\n                <a data-ajaxType=\"general\" data-ajaxDataPoint=\"sentimentPositive\" data-format=\"percent|0\"\\n                                            href=\"#\" data-click=\"unlockButton\" class=\"ajax gtm-metrics cta-funnel cta-funnel--lnk-ad-page\"\\n                                    >\\n                    <img src=\"https://d3ds6z1w6yhmzj.cloudfront.net/img/ispot/ajax-loader.gif\"/>\\n                </a>\\n            </div>\\n        </div>\\n        <div class=\"row pb-1 pt-0\">\\n            <div class=\"col-6\">Engagement Rating</div>\\n            <div class=\"col-6 panel-group__focus\">\\n                <a data-ajaxType=\"general\" data-ajaxDataPoint=\"engagementScore\"\\n                                            href=\"#\" data-click=\"unlockButton\" class=\"ajax gtm-metrics cta-funnel cta-funnel--lnk-ad-page\"\\n                                    >\\n                    <img src=\"https://d3ds6z1w6yhmzj.cloudfront.net/img/ispot/ajax-loader.gif\"/>\\n                </a>\\n            </div>\\n        </div>\\n        <div class=\"row pb-1 pt-0\">\\n            <div class=\"col-12\">Industry Share of Voice</div>\\n        </div>\\n        <div class=\"row pb-1 pt-0\">\\n            <div class=\"col-6\"><i class=\"fal fa-level-up fa-rotate-90 mr-1\"></i> Spend</div>\\n            <div class=\"col-6 panel-group__focus\">\\n                <a data-ajaxType=\"sov\" data-ajaxDataPoint=\"spendSov\" data-format=\"percent|1\"\\n                                            href=\"#\" data-click=\"unlockButton\" class=\"ajax gtm-metrics cta-funnel cta-funnel--lnk-ad-page\"\\n                                    >\\n                    <img src=\"https://d3ds6z1w6yhmzj.cloudfront.net/img/ispot/ajax-loader.gif\"/>\\n                </a>\\n            </div>\\n        </div>\\n        <div class=\"row pb-1 pt-0\">\\n            <div class=\"col-6\"><i class=\"fal fa-level-up fa-rotate-90 mr-1\"></i> Impressions</div>\\n            <div class=\"col-6 panel-group__focus\">\\n                <a data-ajaxType=\"impressionsSov\" data-ajaxDataPoint=\"impressionsSov\" data-format=\"percent|1\"\\n                                            href=\"#\" data-click=\"unlockButton\" class=\"ajax gtm-metrics cta-funnel cta-funnel--lnk-ad-page\"\\n                                    >\\n                    <img src=\"https://d3ds6z1w6yhmzj.cloudfront.net/img/ispot/ajax-loader.gif\"/>\\n                </a>\\n            </div>\\n        </div>\\n        <div class=\"row pb-1 pt-0\">\\n            <div class=\"col-6\"><i class=\"fal fa-level-up fa-rotate-90 mr-1\"></i> Engagement</div>\\n            <div class=\"col-6 panel-group__focus\">\\n                <a data-ajaxType=\"sov\" data-ajaxDataPoint=\"digitalSov\" data-format=\"percent|1\"\\n                                            href=\"#\" data-click=\"unlockButton\" class=\"ajax gtm-metrics cta-funnel cta-funnel--lnk-ad-page\"\\n                                    >\\n                    <img src=\"https://d3ds6z1w6yhmzj.cloudfront.net/img/ispot/ajax-loader.gif\"/>\\n                </a>\\n            </div>\\n        </div>\\n    </div>\\n\\n\\n</div>\\n        </div>\\n\\n    </div>\\n\\n</div>\\n\\n\\n\\n<!-- START: Captcha -->\\n<!-------------------------------------------->\\n<div style=\"display: none\" id=\"captcha\" data-sitekey=\"6LdCjBcTAAAAAH2GVZmEBVirKvUcEFtnJT6entlH\"></div>\\n\\n\\n<!-- START: Ad Modals -->\\n<!-------------------------------------------->\\n\\n<style type=\"text/css\">\\n    .error {border:1pt solid red;}\\n</style>\\n\\n<div class=\"modal fade\" id=\"modalActor\">\\n    <div class=\"modal-dialog\">\\n        <div class=\"modal-content\">\\n            <div class=\"modal-header\">\\n                <h4 class=\"modal-title\">Add an Actor/Actress to this spot!</h4>\\n                <button type=\"button\" class=\"close\" data-dismiss=\"modal\" aria-label=\"Close\"><span aria-hidden=\"true\">&times;</span></button>\\n\\n            </div>\\n            <div class=\"modal-body\" id=\"actor-body\">\\n                <p id=\"success\"></p>\\n                <p id=\"form-title\" class=\"hidden\"><strong>RINVOQ TV Spot, \\'Your Mission: Zip Line\\'</strong></p>\\n                <p id=\"cap-error-actor\" class=\"text-danger\" role=\"alert\"></p>\\n                <ul>\\n                    <li>Submissions should come only from the actors themselves, their parent/legal guardian or casting agency.</li>\\n                    <li>Please include at least one social/website link containing a recent photo of the actor. Submissions without photos may not be accepted. </li>\\n                    <li>Voice over actors: provide a link to your professional website containing your reel.</li>\\n                    <li>Submit ONCE per commercial, and allow 48 to 72 hours for your request to be processed.</li>\\n                </ul>\\n                <p><strong>Add Actor/Actress Details</strong></p>\\n                <form action=\"/ad/nrhg/rinvoq-your-mission-zip-line\" id=\"addactor\" method=\"post\" name=\"addactor\" role=\"form\">\\n                    <input type=\"hidden\" value=\"python-requests/2.20.0\" name=\"agent\" />\\n                    <input type=\"hidden\" value=\"-1\" name=\"actor_id\" id=\"actor_id\" />\\n                    <div class=\"form-group ui-front\">\\n                        <input class=\"form-control\" type=\"text\" name=\"actor_name\" id=\"actor_name\" placeholder=\"Actors Name\"/>\\n                        <p id=\"cap-error-actorName\" class=\"text-danger\" role=\"alert\"></p>\\n                    </div>\\n                    <div class=\"row\">\\n                        <div class=\"col-md-6 form-group\">\\n                            <select class=\"form-control\" id=\"actor_type\" name=\"actor_type\">\\n                                <option value=\"\">-- Type --</option>\\n                                <option value=\"AC\">Actor/Actress</option>\\n                                <option value=\"AT\">Athlete</option>\\n                                <option value=\"AU\">Author</option>\\n                                <option value=\"CO\">Coach</option>\\n                                <option value=\"CM\">Comedian</option>\\n                                <option value=\"DI\">Director</option>\\n                                <option value=\"EX\">Expert</option>\\n                                <option value=\"MO\">Model</option>\\n                                <option value=\"SI\">Musician</option>\\n                                <option value=\"PU\">Public Figure</option>\\n                                <option value=\"TV\">TV Personality</option>\\n                            </select>\\n                            <p id=\"cap-error-type\" class=\"text-danger\" role=\"alert\"></p>\\n                        </div>\\n                        <div class=\"col-md-6 form-group\">\\n                            <select class=\"form-control\" id=\"actor_role\" name=\"actor_role\">\\n                                <option value=\"\">-- Role --</option>\\n                                <option value=\"A\">Actor</option>\\n                                <option value=\"C\">Crew</option>\\n                                <option value=\"M\">Mention</option>\\n                                <option value=\"P\">Primary Actor</option>\\n                                <option value=\"V\">Voice</option>\\n                            </select>\\n                            <p id=\"cap-error-role\" class=\"text-danger\" role=\"alert\"></p>\\n                        </div>\\n                    </div>\\n                    <div class=\"form-group\" id=\"verification_plays\" style=\"display:none\">\\n                        <input class=\"form-control\" type=\"text\" id=\"actor_plays\" name=\"actor_plays\" maxlength=\"75\" placeholder=\"Plays (i.e. guy in yellow hat, girl in blue dress...)\" />\\n                        <p id=\"cap-error-plays\" class=\"text-danger\" role=\"alert\"></p>\\n                    </div>\\n                    <div id=\"verification_links\" style=\"display:none;\">\\n                        <div class=\"row\">\\n                            <div class=\"col-md-6 form-group\">\\n                                <input class=\"form-control\" type=\"text\" id=\"actor_handle\" name=\"actor_handle\" maxlength=\"16\" placeholder=\"Twitter Handle @myhandle\"/>\\n                            </div>\\n                           <div class=\"col-md-6 form-group\">\\n                                <input class=\"form-control\" type=\"text\" id=\"actor_imdb\" name=\"actor_imdb\" maxlength=\"200\" placeholder=\"IMDB Page\" />\\n                            </div>\\n                            <div class=\"col-md-6 form-group\">\\n                                <input class=\"form-control\" type=\"text\" id=\"actor_facebook\" name=\"actor_facebook\" maxlength=\"200\" placeholder=\"Facebook Page\"/>\\n                            </div>\\n                            <div class=\"col-md-6 form-group\">\\n                                <input class=\"form-control\" type=\"text\" id=\"actor_wiki\" name=\"actor_wiki\" maxlength=\"200\" placeholder=\"Wikipedia Page\" />\\n                            </div>\\n                        </div>\\n                        <div class=\"row\">\\n                            <div class=\"col-md-12 form-group\">\\n                                <input class=\"form-control\" type=\"text\" id=\"actor_personal\" name=\"actor_personal\" maxlength=\"200\" placeholder=\"Personal Website\" />\\n                            </div>\\n                        </div>\\n                        <p id=\"cap-error-links\" class=\"text-danger\" role=\"alert\"></p>\\n                    </div>\\n                   <div class=\"form-group\">\\n                        <input class=\"form-control\" type=\"text\" id=\"additionalreference_handle\" name=\"additionalreference_handle\" maxlength=\"16\" placeholder=\"Additional Resource\"/>\\n                    </div>\\n\\n                    <p><strong>Your Email (used for confirmation)</strong></p>\\n                    <div class=\"form-group\">\\n                        <input class=\"form-control\" type=\"text\" id=\"actor_email\" name=\"actor_email\" maxlength=\"100\" class=\"col-md-3\" placeholder=\"email address\"/>\\n                        <p id=\"cap-error-email\" class=\"text-danger\" role=\"alert\"></p>\\n                    </div>\\n\\n                    <div class=\"mb-3\" id=\"actor-captcha\"></div>\\n                    <p id=\"cap-error-captcha\" class=\"text-danger\" role=\"alert\"></p>\\n                    <button id=\"actor-submit\" class=\"btn btn-primary\" type=\"submit\">Add Actor</button>\\n                    <button class=\"btn btn-default\" data-dismiss=\"modal\">Cancel</button>\\n                    <input type=\"hidden\" name=\"form\" value=\"addactor\" />\\n                </form>\\n            </div>\\n        </div>\\n    </div>\\n</div><!-- BEGIN modal content -->\\n<div class=\"modal fade\" id=\"modalSong\">\\n\\n    <!-- BEGIN modal dialog -->\\n    <div class=\"modal-dialog\">\\n        <div class=\"modal-content\">\\n            <!-- BEGIN modal header -->\\n            <div class=\"modal-header\">\\n                <h4 class=\"modal-title\">Add a song to this spot!</h4>\\n                <button type=\"button\" class=\"close\" data-dismiss=\"modal\" aria-label=\"Close\"><span aria-hidden=\"true\">&times;</span></button>\\n\\n            </div>\\n            <!-- END modal header -->\\n\\n            <!--BEGIN modal body -->\\n            <div class=\"modal-body\" id=\"song-body\">\\n                <p class=\"success\"></p>\\n                <p class=\"form-title hidden\"><strong>RINVOQ TV Spot, \\'Your Mission: Zip Line\\'</strong></p>\\n                <p class=\"cap-error text-danger\" role=\"alert\"></p>\\n\\n                <p>\\n                    <strong>Add Song Details</strong>\\n                </p>\\n\\n                <!-- BEGIN form song -->\\n                <form action=\"/ad/nrhg/rinvoq-your-mission-zip-line\" id=\"addsong\" method=\"post\" name=\"addsong\" role=\"form\">\\n                    <input type=\"hidden\" name=\"form\" value=\"addsong\" />\\n                    <input type=\"hidden\" value=\"2884856\" name=\"ad_id\" />\\n                    <input type=\"hidden\" value=\"python-requests/2.20.0\" name=\"agent\" />\\n                    <input type=\"hidden\" value=\"-1\" name=\"artist_id\" />\\n\\n                    <!-- BEGIN song details -->\\n                    <div class=\"form-group ui-front\">\\n                        <input class=\"form-control\" type=\"text\" name=\"artist_name\" placeholder=\"Artist Name\" />\\n                        <p class=\"cap-error-artist text-danger\" role=\"alert\"></p>\\n                    </div>\\n\\n\\n                    <div class=\"form-group\">\\n                        <input class=\"form-control\" type=\"text\" name=\"song_name\" placeholder=\"Song Name\" />\\n                          <p class=\"cap-error-songName text-danger\" role=\"alert\"></p>\\n                    </div>\\n\\n                    <div class=\"form-group\">\\n                        <input class=\"form-control\" type=\"text\" name=\"composer_name\" placeholder=\"Composer Name (optional)\" />\\n                    </div>\\n                    <!-- END song details -->\\n\\n                    <p>\\n                        <strong>Your Email (used for confirmation)</strong>\\n                    </p>\\n\\n                    <div class=\"form-group\">\\n                        <input class=\"form-control\" type=\"text\" name=\"song_email\" placeholder=\"E-mail Address\" />\\n                        <p class=\"cap-error-email text-danger\" role=\"alert\"></p>\\n                    </div>\\n\\n\\n                    <!-- BEGIN captcha -->\\n                    <div class=\"mb-3\" id=\"song-captcha\"></div>\\n                    <p class=\"cap-error-captcha text-danger\" role=\"alert\"></p>\\n\\n                    <!-- END captcha -->\\n\\n                    <!-- BEGIN submit song -->\\n                    <button id=\"song-submit\" class=\"btn btn-primary\" type=\"submit\">Add Song</button>\\n                    <button  class=\"btn btn-default\" data-dismiss=\"modal\">Cancel</button>\\n                    <!-- END submit song -->\\n                </form>\\n                <!-- END form song -->\\n\\n            </div>\\n            <!-- END modal body -->\\n        </div>\\n    </div>\\n    <!-- END modal dialog -->\\n\\n</div>\\n<!-- END modal content -->\\n\\n<!-- MODAL: Share -->\\n<div class=\"modal fade\" id=\"modal-share-ad\" tabindex=\"-1\">\\n    <div class=\"modal-dialog\">\\n        <div class=\"modal-content\">\\n            <div class=\"modal-header\">\\n                <button type=\"button\" class=\"close\" data-dismiss=\"modal\"><span aria-hidden=\"true\">&times;</span></button>\\n                <h4 class=\"modal-title\"><i class=\"fas fa-share-alt\"></i> Share</h4>\\n            </div>\\n            <div class=\"modal-body\">\\n                <div><strong>Social</strong></div>\\n                <div class=\"text-left\">\\n                    <!--<div class=\"col-12 text-right\">-->\\n    <a href=\"#\" rel=\"nofollow\" id=\"fbshare\" class=\"btn-facebook\">\\n        <i class=\"fab fa-social fa-facebook-square\"></i>\\n    </a>\\n    <a href=\"#\" rel=\"nofollow\" id=\"tweets\" class=\"btn-twitter\">\\n        <i class=\"fab fa-social fa-twitter-square\"></i>\\n    </a>\\n    <a href=\"#\" rel=\"nofollow\" id=\"pinned\" class=\"btn-pinterest\">\\n        <i class=\"fab fa-social fa-pinterest-square\"></i>\\n    </a>\\n    <a href=\"#\" rel=\"nofollow\" id=\"linkedinshare\" class=\"btn-linkedin\">\\n        <i class=\"fab fa-social fa-linkedin\"></i>\\n    </a>\\n<!--</div>-->                </div>\\n                <div class=\"margin-top\"><strong>Link</strong></div>\\n                <div class=\"form-group\">\\n                    <input type=\"text\" id=\"ShortUrl\" class=\"form-control\" onclick=\"$(this).select()\" value=\"https://ispot.tv/a/nrhg\"/>\\n                </div>\\n\\n                <div><strong>Embed</strong></div>\\n\\n                <textarea id=\"embedResponsive\" class=\"form-control js-embed-responsive\" rows=\"5\">\\n                    <div style=\"position:relative;width:100%;padding-top:56.25%;padding-bottom:40px;\"><iframe style=\"position:absolute;top:0;right:0;left:0;bottom:0;width:100%;height:100%;\" src=\"https://www.ispot.tv/share/nrhg\" frameborder=\"0\" scrolling=\"no\" allowfullscreen=\"\"></iframe></div>\\n                </textarea>\\n\\n                <textarea id=\"embedStandard\" class=\"form-control js-embed-standard\" rows=\"3\">\\n                    <iframe width=\"500\" height=\"323\" src=\"https://www.ispot.tv/share/nrhg\" frameborder=\"0\" scrolling=\"no\" allowfullscreen></iframe>\\n                </textarea>\\n\\n                <form class=\"form-inline margin-top\" role=\"form\">\\n                    <select class=\"form-control input-sm js-embed-options mr-4\" id=\"embed-layout-options\"></select>\\n                    <span class=\"js-embed-custom\" style=\"display:none;\" id=\"share-embed-customize\">\\n                        width: <input class=\"form-control input-sm js-embed-size js-embed-width mr-2\" style=\"width:75px;\" type=\"text\" maxlength=\"4\" data-adjust=\"width\" data-name=\"jsSize\">\\n                        height: <input class=\"form-control input-sm js-embed-size js-embed-height mr-4\" style=\"width:75px;\" type=\"text\" maxlength=\"4\" data-adjust=\"height\" data-name=\"jsSize\">\\n                    </span>\\n                    <span class=\"checkbox input-sm\">\\n                        <label><input class=\"js-embed-autoplay mr-1\" type=\"checkbox\" data-name=\"autoplay\">Auto Play</label>\\n                    </span>\\n                </form>\\n\\n            </div>\\n        </div>\\n    </div>\\n</div>\\n\\n\\n\\n\\n\\n\\n\\n\\n\\n\\n\\t\\t<a href=\"#top\" class=\"back-to-top opacity-none js-in-page-nav\" id=\"backToTop\">\\n\\t\\t\\t<i class=\"fas fa-arrow-up\"></i>\\n\\t\\t\\t<span class=\"hover-text\">Back to top</span>\\n\\t\\t</a>\\n\\n\\t</main>\\n\\t<footer class=\"main\">\\n    <div class=\"container-fluid\">\\n\\n        <div class=\"row justify-content-center pl-md-3\">\\n            <div class=\"col-12 footer-navigation\">\\n                <div class=\"row\">\\n                    <div class=\"footer-links-holder col-12 col-md-3 px-3\">\\n                        <h3>Solutions</h3>\\n                        <ul class=\"footer-links\">\\n                            <li><a href=\"/media-measurement\">Media Measurement</a></li>\\n                            <li><a href=\"/tv-attribution\">TV Attribution</a></li>\\n                            <li><a href=\"/marketing-stack-integration\">Marketing Stack Integration</a></li>\\n                        </ul>\\n                    </div>\\n                    <div class=\"footer-links-holder col-12 col-md-2 px-3\">\\n                        <h3>Insights</h3>\\n                        <ul class=\"footer-links\">\\n                            <li><a href=\"/most-engaging-tv-ads\">Top Ads</a></li>\\n                            <li><a href=\"/top-spenders-tv-ads\">Top Spenders</a></li>\\n                            <li><a href=\"/free-reports\">Free Reports</a></li>\\n                            <li><a href=\"/alexa-skill\">Alexa Skills</a></li>\\n                        </ul>\\n                    </div>\\n                    <div class=\"footer-links-holder col-12 col-md-2 px-3\">\\n                        <h3>The Buzz</h3>\\n                        <ul class=\"footer-links\">\\n                            <li><a href=\"https://www.ispot.tv/blog\">News</a></li>\\n                            <li><a href=\"https://www.ispot.tv/blog/events/\">Events</a></li>\\n                        </ul>\\n                    </div>\\n                    <div class=\"footer-links-holder col-12 col-md-2 px-3\">\\n                        <h3>About Us</h3>\\n                        <ul class=\"footer-links\">\\n                            <li><a href=\"/customers\">Customers</a></li>\\n                            <li><a href=\"/careers\">Career</a></li>\\n                            <li><a href=\"/contact-us\">Contact Us</a></li>\\n                        </ul>\\n                    </div>\\n                    <div class=\"footer-links-holder col-12 col-md-3 px-3\">\\n                        <h3>Browse TV Ads</h3>\\n                        <ul class=\"footer-links\">\\n                            <li><a href=\"/browse\">Commercial Catalog</a></li>\\n                            <li><a href=\"/covid-19-minded-tv-ads\">COVID-19 Minded TV Ads</a></li>\\n                            <li><a href=\"/events/super-bowl-commercials\">Super Bowl Commercials</a></li>\\n                        </ul>\\n                    </div>\\n                </div>\\n            </div>\\n        </div>\\n\\n        <div class=\"row pt-4\">\\n            <div class=\"col-12 text-center\">\\n                <div class=\"footer-social\">\\n                    <a class=\"px-1 rounded-circle pt-2 text-center mx-1\"\\n                       href=\"https://www.linkedin.com/company/ispot-tv-inc-\"\\n                       target=\"_blank\">\\n                        <i class=\"fab fa-linkedin-in align-middle\"></i>\\n                    </a>\\n                    <a class=\"px-1 rounded-circle pt-2 text-center mx-1\"\\n                       href=\"https://twitter.com/ispottv\"\\n                       target=\"_blank\">\\n                        <i class=\"fab fa-twitter align-middle text-center\"></i>\\n                    </a>\\n                    <a class=\"px-1 rounded-circle pt-2 text-center mx-1\"\\n                       href=\"https://www.facebook.com/ispottv\"\\n                       target=\"_blank\">\\n                        <i class=\"fab fa-facebook-f align-middle text-center\"></i>\\n                    </a>\\n                    <a class=\"px-1 rounded-circle pt-2 text-center mx-1\"\\n                       href=\"https://www.youtube.com/channel/UCeMuA4L9qnyKOsoFqkEDNJA\"\\n                       target=\"_blank\">\\n                        <i class=\"fab fa-youtube align-middle text-center\"></i>\\n                    </a>\\n                </div>\\n            </div>\\n        </div>\\n\\n        <div class=\"row\">\\n            <div class=\"col-12 text-center \">\\n                <div class=\"footer-terms\">\\n                    <a href=\"/agreements/copyright\" rel=\"nofollow\">&copy; 2020 iSpot.tv, Inc.</a> &nbsp;\\n                    <a href=\"/agreements\" rel=\"nofollow\">Terms &amp; Privacy</a>\\n                </div>\\n            </div>\\n        </div>\\n    </div>\\n</footer>\\n</div>\\n\\n<!-- START: Being Used? -->\\n<div data-sitedata data-assetserver=\"https://d3ds6z1w6yhmzj.cloudfront.net\"></div>\\n<div id=\"fb-root\"></div>\\n\\n<!-- START: Modals --><style type=\"text/css\">.jwplayer {min-height:0 !important;}</style>\\n<div id=\"sModalPlayer\" class=\"sModal sModalPlayer modal fade\" tabindex=\"-1\" role=\"dialog\">\\n    <div class=\"modal-dialog\">\\n        <div class=\"modal-content\">\\n            <div class=\"modal-header\">\\n                <button type=\"button\" class=\"close\" data-dismiss=\"modal\"><span aria-hidden=\"true\">&times;</span><span class=\"sr-only\">Close</span></button>\\n                <h4 class=\"modal-title\" id=\"sModalPlayerLabel\">Spot Player</h4>\\n            </div>\\n            <div class=\"modal-body\">\\n                <div class=\"embed-responsive embed-responsive-16by9\">\\n                    <iframe class=\"sModalFrame embed-responsive-item\" scrolling=\"no\" frameborder=\"0\" seamless  allowfullscreen></iframe>\\n                </div>\\n            </div>\\n        </div>\\n    </div>\\n</div>\\n\\n<div id=\"vModalPlayer\" class=\"vModal vModalPlayer modal fade\" tabindex=\"-1\" role=\"dialog\">\\n    <div class=\"modal-dialog modal-dialog-centered\" role=\"document\">\\n        <div class=\"modal-content\">\\n            <button type=\"button\" class=\"close\" data-dismiss=\"modal\"><span aria-hidden=\"true\">&times;</span><span class=\"sr-only\">Close</span></button>\\n            <div class=\"modal-body\">\\n                <div class=\"embed-responsive embed-responsive-16by9\">\\n                    <iframe class=\"vModalFrame embed-responsive-item\" scrolling=\"no\" frameborder=\"0\" seamless  allowfullscreen></iframe>\\n                </div>\\n            </div>\\n        </div>\\n    </div>\\n</div>\\n\\n<div id=\"ucTextModal\" class=\"ucModal ucTextModal modal fade\" tabindex=\"-1\" role=\"dialog\">\\n    <div class=\"modal-dialog modal-dialog-centered\" role=\"document\">\\n        <div class=\"modal-content\">\\n            <button type=\"button\" class=\"close\" data-dismiss=\"modal\"><span aria-hidden=\"true\">&times;</span><span class=\"sr-only\">Close</span></button>\\n            <div class=\"modal-body px-3 py-3\">\\n                <div class=\"row\">\\n                    <div class=\"col-12 col-md-2 text-center my-auto\">\\n                        <img src=\"\" class=\"ucTextModal__image\">\\n                    </div>\\n                    <div class=\"col-12 col-md-10\">\\n                        <div class=\"ucTextModal__title\"></div>\\n                        <div class=\"ucTextModal__description pb-3\"></div>\\n                        <a class=\"ucTextModal__cta py-1 px-2\" href=\"\"></a>\\n                    </div>\\n                </div>\\n            </div>\\n        </div>\\n    </div>\\n</div>\\n\\n<div id=\"imgModal\" class=\"image--modal modal js-image--modal fade\" tabindex=\"-1\" role=\"dialog\">\\n    <div class=\"modal-dialog modal-dialog-centered\" role=\"document\">\\n        <div class=\"modal-content\">\\n            <button type=\"button\" class=\"close\" data-dismiss=\"modal\"><span aria-hidden=\"true\">&times;</span><span class=\"sr-only\">Close</span></button>\\n            <div class=\"modal-body\">\\n                <div class=\"embed-responsive embed-responsive-16by9\">\\n                    <img class=\"imgModalFrame js-image-modal--frame embed-responsive-item\">\\n                </div>\\n            </div>\\n        </div>\\n    </div>\\n</div><!-- START: Scripts --><script type=\"text&#x2F;javascript\" crossorigin=\"anonymous\" src=\"https&#x3A;&#x2F;&#x2F;d3ds6z1w6yhmzj.cloudfront.net&#x2F;lib&#x2F;jquery&#x2F;dist&#x2F;jquery.min.js&#x3F;v&#x3D;v6.04.001\"></script>\\n<script type=\"text&#x2F;javascript\" crossorigin=\"anonymous\" src=\"&#x2F;&#x2F;cdn.jsdelivr.net&#x2F;npm&#x2F;slick-carousel&#x40;1.8.1&#x2F;slick&#x2F;slick.min.js\"></script>\\n<script type=\"text&#x2F;javascript\" integrity=\"sha384-cs&#x2F;chFZiN24E4KMATLdqdvsezGxaGsi4hLGOzlXwp5UZB1LY&#x2F;&#x2F;20VyM2taTB4QvJ\" crossorigin=\"anonymous\" src=\"https&#x3A;&#x2F;&#x2F;cdnjs.cloudflare.com&#x2F;ajax&#x2F;libs&#x2F;popper.js&#x2F;1.14.0&#x2F;umd&#x2F;popper.min.js\"></script>\\n<script type=\"text&#x2F;javascript\" crossorigin=\"anonymous\" src=\"https&#x3A;&#x2F;&#x2F;d3ds6z1w6yhmzj.cloudfront.net&#x2F;lib&#x2F;bootstrap&#x2F;dist&#x2F;js&#x2F;bootstrap.min.js&#x3F;v&#x3D;v6.04.001\"></script>\\n<script type=\"text&#x2F;javascript\" src=\"https&#x3A;&#x2F;&#x2F;d3ds6z1w6yhmzj.cloudfront.net&#x2F;dist&#x2F;js&#x2F;www&#x2F;plugins.js&#x3F;v&#x3D;v6.04.001\"></script>\\n<script type=\"text&#x2F;javascript\" src=\"https&#x3A;&#x2F;&#x2F;d3ds6z1w6yhmzj.cloudfront.net&#x2F;dist&#x2F;js&#x2F;www&#x2F;global.js&#x3F;v&#x3D;v6.04.001\"></script>\\n<script type=\"text&#x2F;javascript\" src=\"https&#x3A;&#x2F;&#x2F;d3ds6z1w6yhmzj.cloudfront.net&#x2F;lib&#x2F;jwplayer-8&#x2F;jwplayer.js&#x3F;v&#x3D;v6.04.001\"></script>\\n<script type=\"text&#x2F;javascript\">\\n    //<!--\\n    jwplayer.key=\"Y2lPT2a71wmrRgN0cya7d6OyTxggZ71nunJS8vzgnZXIyxMh\"\\n    //-->\\n</script>\\n<script type=\"text&#x2F;javascript\" src=\"https&#x3A;&#x2F;&#x2F;d3ds6z1w6yhmzj.cloudfront.net&#x2F;dist&#x2F;js&#x2F;www&#x2F;client-service.js&#x3F;v&#x3D;v6.04.001\"></script>\\n<script type=\"text&#x2F;javascript\" src=\"https&#x3A;&#x2F;&#x2F;www.google.com&#x2F;recaptcha&#x2F;api.js&#x3F;render&#x3D;explicit\"></script>\\n<script type=\"text&#x2F;javascript\" src=\"https&#x3A;&#x2F;&#x2F;d3ds6z1w6yhmzj.cloudfront.net&#x2F;dist&#x2F;js&#x2F;www&#x2F;video-player&#x2F;large.js&#x3F;v&#x3D;v6.04.001\"></script><script type=\"text&#x2F;javascript\" src=\"https&#x3A;&#x2F;&#x2F;d3ds6z1w6yhmzj.cloudfront.net&#x2F;lib&#x2F;fontawesome-pro-5.0.8&#x2F;fontawesome-ispot.js\"></script>\\n<script type=\"text&#x2F;javascript\">\\n    //<!--\\n    //cdn.jsdelivr.net/npm/slick-carousel@1.8.1/slick/slick.min.js\\n    //-->\\n</script>\\n<script type=\"text&#x2F;javascript\">\\n    //<!--\\n    var facebook_app_id = 499973596692890,server_name = \"www.ispot.tv\";\\n    //-->\\n</script>\\n<!-- START: Dynamically Added Below -->\\n</body>\\n</html>\\n'"
      ]
     },
     "execution_count": 6,
     "metadata": {},
     "output_type": "execute_result"
    }
   ],
   "source": [
    "requests.get(test_ad).content"
   ]
  },
  {
   "cell_type": "code",
   "execution_count": 7,
   "metadata": {
    "ExecuteTime": {
     "end_time": "2020-07-10T00:05:31.811489Z",
     "start_time": "2020-07-10T00:05:30.264435Z"
    }
   },
   "outputs": [],
   "source": [
    "soup = BeautifulSoup(requests.get(test_ad).content, 'html.parser')"
   ]
  },
  {
   "cell_type": "code",
   "execution_count": 19,
   "metadata": {
    "ExecuteTime": {
     "end_time": "2020-07-10T00:10:05.498323Z",
     "start_time": "2020-07-10T00:10:05.484361Z"
    }
   },
   "outputs": [
    {
     "data": {
      "text/plain": [
       "<div class=\"jwplayer\" data-autostart=\"\" data-countplayback=\"1\" data-cssid=\"my-video\" data-hash=\"nrhg\" data-image=\"https://d2z1w4aiblvrwu.cloudfront.net/ad/nrhg/rinvoq-your-mission-zip-line-large-3.jpg\" data-jwplayer=\"\" data-mp4=\"https://d3npuic909260z.cloudfront.net/002/884/856/nrhg.mp4\" data-params='{\"hostname\":\"vpe-web-www-002.vpe.ispot.tv\",\"ip\":\"68.175.94.155\",\"timestamp\":\"Thu Jul 09 2020 17:05:31 GMT-0700 (PDT)\",\"advertiserId\":\"64878\",\"adId\":2884856,\"adHash\":\"nrhg\"}' id=\"my-video\">\n",
       "</div>"
      ]
     },
     "execution_count": 19,
     "metadata": {},
     "output_type": "execute_result"
    }
   ],
   "source": [
    "soup.select_one('#my-video')"
   ]
  },
  {
   "cell_type": "code",
   "execution_count": 20,
   "metadata": {
    "ExecuteTime": {
     "end_time": "2020-07-10T00:10:41.784775Z",
     "start_time": "2020-07-10T00:10:41.761837Z"
    }
   },
   "outputs": [],
   "source": [
    "soup.find('video')"
   ]
  },
  {
   "cell_type": "code",
   "execution_count": 14,
   "metadata": {
    "ExecuteTime": {
     "end_time": "2020-07-10T00:08:05.886256Z",
     "start_time": "2020-07-10T00:08:05.870333Z"
    }
   },
   "outputs": [
    {
     "name": "stdout",
     "output_type": "stream",
     "text": [
      "Active\n"
     ]
    }
   ],
   "source": [
    "for row in soup.select('div.row'):\n",
    "    cells = row.find_all('div')\n",
    "    if cells[0].text.strip().lower()=='mood':\n",
    "        print(cells[1].text.strip())"
   ]
  },
  {
   "cell_type": "code",
   "execution_count": 3,
   "metadata": {
    "ExecuteTime": {
     "end_time": "2020-07-10T00:04:19.061451Z",
     "start_time": "2020-07-10T00:04:19.042502Z"
    }
   },
   "outputs": [
    {
     "name": "stderr",
     "output_type": "stream",
     "text": [
      "C:\\ProgramData\\Anaconda3\\lib\\site-packages\\bs4\\__init__.py:282: UserWarning: \"https://www.ispot.tv/ad/nrhg/rinvoq-your-mission-zip-line\" looks like a URL. Beautiful Soup is not an HTTP client. You should probably use an HTTP client like requests to get the document behind the URL, and feed that document to Beautiful Soup.\n",
      "  ' that document to Beautiful Soup.' % decoded_markup\n"
     ]
    }
   ],
   "source": [
    "def get_info(ad_url):\n",
    "    soup = BeautifulSoup(ad_url, 'html.parser')\n",
    "    \n",
    "    \n",
    "get_info(test_ad)"
   ]
  },
  {
   "cell_type": "markdown",
   "metadata": {},
   "source": [
    "# Splinter"
   ]
  },
  {
   "cell_type": "markdown",
   "metadata": {},
   "source": [
    "## Workings"
   ]
  },
  {
   "cell_type": "code",
   "execution_count": 10,
   "metadata": {
    "ExecuteTime": {
     "end_time": "2020-07-10T02:23:33.141500Z",
     "start_time": "2020-07-10T02:23:27.257639Z"
    }
   },
   "outputs": [],
   "source": [
    "browser = Browser('chrome')"
   ]
  },
  {
   "cell_type": "code",
   "execution_count": 24,
   "metadata": {
    "ExecuteTime": {
     "end_time": "2020-07-10T00:12:27.219389Z",
     "start_time": "2020-07-10T00:12:21.760734Z"
    }
   },
   "outputs": [],
   "source": [
    "browser.visit(test_ad)"
   ]
  },
  {
   "cell_type": "code",
   "execution_count": 31,
   "metadata": {
    "ExecuteTime": {
     "end_time": "2020-07-10T00:14:20.188565Z",
     "start_time": "2020-07-10T00:14:20.171610Z"
    }
   },
   "outputs": [
    {
     "data": {
      "text/plain": [
       "'https://d3npuic909260z.cloudfront.net/002/884/856/nrhg.mp4'"
      ]
     },
     "execution_count": 31,
     "metadata": {},
     "output_type": "execute_result"
    }
   ],
   "source": [
    "video._element.get_attribute('src')"
   ]
  },
  {
   "cell_type": "code",
   "execution_count": 30,
   "metadata": {
    "ExecuteTime": {
     "end_time": "2020-07-10T00:13:35.403204Z",
     "start_time": "2020-07-10T00:13:35.376338Z"
    }
   },
   "outputs": [
    {
     "data": {
      "text/plain": [
       "'<video class=\"jw-video jw-reset\" tabindex=\"-1\" disableremoteplayback=\"\" webkit-playsinline=\"\" playsinline=\"\" preload=\"metadata\" src=\"https://d3npuic909260z.cloudfront.net/002/884/856/nrhg.mp4\"></video>'"
      ]
     },
     "execution_count": 30,
     "metadata": {},
     "output_type": "execute_result"
    }
   ],
   "source": [
    "video = browser.find_by_css('#my-video video')[0]\n",
    "video.outer_html"
   ]
  },
  {
   "cell_type": "code",
   "execution_count": 38,
   "metadata": {
    "ExecuteTime": {
     "end_time": "2020-07-10T00:18:07.241146Z",
     "start_time": "2020-07-10T00:18:06.236424Z"
    },
    "scrolled": true
   },
   "outputs": [
    {
     "name": "stdout",
     "output_type": "stream",
     "text": [
      "Active\n"
     ]
    }
   ],
   "source": [
    "for row in browser.find_by_css('#meta-data div.row'):\n",
    "    cells = row.find_by_tag('div')\n",
    "    if cells[0].text.strip() == 'Mood':\n",
    "        print(cells[1].text.strip())"
   ]
  },
  {
   "cell_type": "code",
   "execution_count": 46,
   "metadata": {
    "ExecuteTime": {
     "end_time": "2020-07-10T00:21:44.566898Z",
     "start_time": "2020-07-10T00:21:44.482061Z"
    }
   },
   "outputs": [
    {
     "data": {
      "text/plain": [
       "'Ad ID: 2884856    60s    2020 ( Active )'"
      ]
     },
     "execution_count": 46,
     "metadata": {},
     "output_type": "execute_result"
    }
   ],
   "source": [
    "subheading = browser.find_by_css('.grid-video')[0].find_by_tag('div')[-2].text\n",
    "subheading"
   ]
  },
  {
   "cell_type": "code",
   "execution_count": null,
   "metadata": {},
   "outputs": [],
   "source": []
  },
  {
   "cell_type": "code",
   "execution_count": 62,
   "metadata": {
    "ExecuteTime": {
     "end_time": "2020-07-10T00:26:48.796615Z",
     "start_time": "2020-07-10T00:26:48.788579Z"
    }
   },
   "outputs": [
    {
     "data": {
      "text/plain": [
       "{'id': '2884856', 'runtime': '60', 'year': '2020'}"
      ]
     },
     "execution_count": 62,
     "metadata": {},
     "output_type": "execute_result"
    }
   ],
   "source": [
    "re.search(r\"Ad ID: (?P<id>\\d+)\\s+(?P<runtime>\\d+)s \\s+ (?P<year>\\d{4})\", subheading).groupdict()"
   ]
  },
  {
   "cell_type": "markdown",
   "metadata": {},
   "source": [
    "## Get links"
   ]
  },
  {
   "cell_type": "code",
   "execution_count": 5,
   "metadata": {
    "ExecuteTime": {
     "end_time": "2020-07-10T01:34:05.978300Z",
     "start_time": "2020-07-10T01:34:05.969326Z"
    }
   },
   "outputs": [],
   "source": [
    "def get_links(url):\n",
    "    soup2 = BeautifulSoup(requests.get(url).content, 'html.parser')\n",
    "    links = [a['href'] for a in soup2.select(\"div.thumbnail-title a\")]\n",
    "    return links"
   ]
  },
  {
   "cell_type": "code",
   "execution_count": 97,
   "metadata": {
    "ExecuteTime": {
     "end_time": "2020-07-10T01:00:55.566295Z",
     "start_time": "2020-07-10T01:00:55.561307Z"
    }
   },
   "outputs": [],
   "source": [
    "covid = 'https://www.ispot.tv/covid-19-minded-tv-ads'"
   ]
  },
  {
   "cell_type": "code",
   "execution_count": 98,
   "metadata": {
    "ExecuteTime": {
     "end_time": "2020-07-10T01:01:03.320903Z",
     "start_time": "2020-07-10T01:01:00.649559Z"
    }
   },
   "outputs": [
    {
     "data": {
      "text/plain": [
       "['http://www.ispot.tv/a/nDAg',\n",
       " 'http://www.ispot.tv/a/nMZ2',\n",
       " 'http://www.ispot.tv/a/nMxG',\n",
       " 'http://www.ispot.tv/a/nf77',\n",
       " 'http://www.ispot.tv/a/nMJA',\n",
       " 'http://www.ispot.tv/a/nMIP',\n",
       " 'http://www.ispot.tv/a/nKDn',\n",
       " 'http://www.ispot.tv/a/nMMc',\n",
       " 'http://www.ispot.tv/a/nMIv',\n",
       " 'http://www.ispot.tv/a/nMyP',\n",
       " 'http://www.ispot.tv/a/nMlZ',\n",
       " 'http://www.ispot.tv/a/nMlu',\n",
       " 'http://www.ispot.tv/a/nMym',\n",
       " 'http://www.ispot.tv/a/nMOl',\n",
       " 'http://www.ispot.tv/a/nMty',\n",
       " 'http://www.ispot.tv/a/nMdF',\n",
       " 'http://www.ispot.tv/a/nMmW',\n",
       " 'http://www.ispot.tv/a/nMob',\n",
       " 'http://www.ispot.tv/a/nr9O',\n",
       " 'http://www.ispot.tv/a/nrsa',\n",
       " 'http://www.ispot.tv/a/nrhd',\n",
       " 'http://www.ispot.tv/a/nr1g',\n",
       " 'http://www.ispot.tv/a/nrWG',\n",
       " 'http://www.ispot.tv/a/nrhg',\n",
       " 'http://www.ispot.tv/a/nrNP',\n",
       " 'http://www.ispot.tv/a/nruW',\n",
       " 'http://www.ispot.tv/a/nrMe',\n",
       " 'http://www.ispot.tv/a/nrEr',\n",
       " 'http://www.ispot.tv/a/nrC0',\n",
       " 'http://www.ispot.tv/a/nrzU',\n",
       " 'http://www.ispot.tv/a/nrze',\n",
       " 'http://www.ispot.tv/a/nr2B',\n",
       " 'http://www.ispot.tv/a/nr6Z',\n",
       " 'http://www.ispot.tv/a/nrBp',\n",
       " 'http://www.ispot.tv/a/nr0e',\n",
       " 'http://www.ispot.tv/a/nr1a',\n",
       " 'http://www.ispot.tv/a/nrTR',\n",
       " 'http://www.ispot.tv/a/nrj7',\n",
       " 'http://www.ispot.tv/a/nr6N',\n",
       " 'http://www.ispot.tv/a/nr54',\n",
       " 'http://www.ispot.tv/a/nr1n',\n",
       " 'http://www.ispot.tv/a/njLn',\n",
       " 'http://www.ispot.tv/a/nrnT',\n",
       " 'http://www.ispot.tv/a/nw2Z',\n",
       " 'http://www.ispot.tv/a/nRC1',\n",
       " 'http://www.ispot.tv/a/nrGl',\n",
       " 'http://www.ispot.tv/a/nMfY',\n",
       " 'http://www.ispot.tv/a/nrIj',\n",
       " 'http://www.ispot.tv/a/ntQR',\n",
       " 'http://www.ispot.tv/a/nMZR',\n",
       " 'http://www.ispot.tv/a/nj9Q',\n",
       " 'http://www.ispot.tv/a/nj9L',\n",
       " 'http://www.ispot.tv/a/nr6y',\n",
       " 'http://www.ispot.tv/a/njFY',\n",
       " 'http://www.ispot.tv/a/njvW',\n",
       " 'http://www.ispot.tv/a/nrIW',\n",
       " 'http://www.ispot.tv/a/nrjp',\n",
       " 'http://www.ispot.tv/a/njuv',\n",
       " 'http://www.ispot.tv/a/njvZ',\n",
       " 'http://www.ispot.tv/a/nr2s',\n",
       " 'http://www.ispot.tv/a/nd4s',\n",
       " 'http://www.ispot.tv/a/nMNw',\n",
       " 'http://www.ispot.tv/a/njyU',\n",
       " 'http://www.ispot.tv/a/nrDs',\n",
       " 'http://www.ispot.tv/a/njiR',\n",
       " 'http://www.ispot.tv/a/nrQB',\n",
       " 'http://www.ispot.tv/a/njm2',\n",
       " 'http://www.ispot.tv/a/njhk',\n",
       " 'http://www.ispot.tv/a/nMoN',\n",
       " 'http://www.ispot.tv/a/njmw',\n",
       " 'http://www.ispot.tv/a/nja0',\n",
       " 'http://www.ispot.tv/a/njWo',\n",
       " 'http://www.ispot.tv/a/njKs',\n",
       " 'http://www.ispot.tv/a/nRzi',\n",
       " 'http://www.ispot.tv/a/njgv',\n",
       " 'http://www.ispot.tv/a/njVN',\n",
       " 'http://www.ispot.tv/a/nys9',\n",
       " 'http://www.ispot.tv/a/nSGz',\n",
       " 'http://www.ispot.tv/a/nrK1',\n",
       " 'http://www.ispot.tv/a/nR4B',\n",
       " 'http://www.ispot.tv/a/nRcA',\n",
       " 'http://www.ispot.tv/a/njnR',\n",
       " 'http://www.ispot.tv/a/n5H0',\n",
       " 'http://www.ispot.tv/a/nRTy',\n",
       " 'http://www.ispot.tv/a/nRpB',\n",
       " 'http://www.ispot.tv/a/nRNk',\n",
       " 'http://www.ispot.tv/a/nRej',\n",
       " 'http://www.ispot.tv/a/nywd',\n",
       " 'http://www.ispot.tv/a/nRMs',\n",
       " 'http://www.ispot.tv/a/nRNp',\n",
       " 'http://www.ispot.tv/a/nRQE',\n",
       " 'http://www.ispot.tv/a/njTK',\n",
       " 'http://www.ispot.tv/a/nR3r',\n",
       " 'http://www.ispot.tv/a/nRlC',\n",
       " 'http://www.ispot.tv/a/nR_N',\n",
       " 'http://www.ispot.tv/a/nR81',\n",
       " 'http://www.ispot.tv/a/nRMd',\n",
       " 'http://www.ispot.tv/a/nRCe',\n",
       " 'http://www.ispot.tv/a/nRKX',\n",
       " 'http://www.ispot.tv/a/nr2U',\n",
       " 'http://www.ispot.tv/a/nRfz',\n",
       " 'http://www.ispot.tv/a/nRtd',\n",
       " 'http://www.ispot.tv/a/nRCk',\n",
       " 'http://www.ispot.tv/a/nRMF',\n",
       " 'http://www.ispot.tv/a/nRpz',\n",
       " 'http://www.ispot.tv/a/nRCN',\n",
       " 'http://www.ispot.tv/a/nRby',\n",
       " 'http://www.ispot.tv/a/nR3e',\n",
       " 'http://www.ispot.tv/a/nyaA',\n",
       " 'http://www.ispot.tv/a/nyai',\n",
       " 'http://www.ispot.tv/a/nROx',\n",
       " 'http://www.ispot.tv/a/nMj0',\n",
       " 'http://www.ispot.tv/a/nRXP',\n",
       " 'http://www.ispot.tv/a/nyO3',\n",
       " 'http://www.ispot.tv/a/nRbV',\n",
       " 'http://www.ispot.tv/a/nR1B',\n",
       " 'http://www.ispot.tv/a/nlPa',\n",
       " 'http://www.ispot.tv/a/nM5Y',\n",
       " 'http://www.ispot.tv/a/nR6q',\n",
       " 'http://www.ispot.tv/a/nlUg',\n",
       " 'http://www.ispot.tv/a/nl9y',\n",
       " 'http://www.ispot.tv/a/nM6C',\n",
       " 'http://www.ispot.tv/a/nR9G',\n",
       " 'http://www.ispot.tv/a/nRIh',\n",
       " 'http://www.ispot.tv/a/nlU3',\n",
       " 'http://www.ispot.tv/a/nlHO',\n",
       " 'http://www.ispot.tv/a/nrIs',\n",
       " 'http://www.ispot.tv/a/nR0e',\n",
       " 'http://www.ispot.tv/a/np4C',\n",
       " 'http://www.ispot.tv/a/ny3c',\n",
       " 'http://www.ispot.tv/a/nGUB',\n",
       " 'http://www.ispot.tv/a/nRfO',\n",
       " 'http://www.ispot.tv/a/nlkN',\n",
       " 'http://www.ispot.tv/a/nleZ',\n",
       " 'http://www.ispot.tv/a/nlFn',\n",
       " 'http://www.ispot.tv/a/nlst',\n",
       " 'http://www.ispot.tv/a/njus',\n",
       " 'http://www.ispot.tv/a/nGs0',\n",
       " 'http://www.ispot.tv/a/nluv',\n",
       " 'http://www.ispot.tv/a/nlQZ',\n",
       " 'http://www.ispot.tv/a/nycO',\n",
       " 'http://www.ispot.tv/a/nlKr',\n",
       " 'http://www.ispot.tv/a/nyyg',\n",
       " 'http://www.ispot.tv/a/nylU',\n",
       " 'http://www.ispot.tv/a/nyfr',\n",
       " 'http://www.ispot.tv/a/nlOJ',\n",
       " 'http://www.ispot.tv/a/ny4j',\n",
       " 'http://www.ispot.tv/a/nyeS',\n",
       " 'http://www.ispot.tv/a/nylY',\n",
       " 'http://www.ispot.tv/a/nylK',\n",
       " 'http://www.ispot.tv/a/nylx',\n",
       " 'http://www.ispot.tv/a/nyy3',\n",
       " 'http://www.ispot.tv/a/npmG',\n",
       " 'http://www.ispot.tv/a/nyXJ',\n",
       " 'http://www.ispot.tv/a/nlIh',\n",
       " 'http://www.ispot.tv/a/npRA',\n",
       " 'http://www.ispot.tv/a/njyr',\n",
       " 'http://www.ispot.tv/a/nyt_',\n",
       " 'http://www.ispot.tv/a/nyIH',\n",
       " 'http://www.ispot.tv/a/nlt0',\n",
       " 'http://www.ispot.tv/a/nD3e',\n",
       " 'http://www.ispot.tv/a/nyTl',\n",
       " 'http://www.ispot.tv/a/nDeU',\n",
       " 'http://www.ispot.tv/a/nDeQ',\n",
       " 'http://www.ispot.tv/a/nDeJ',\n",
       " 'http://www.ispot.tv/a/nDeE',\n",
       " 'http://www.ispot.tv/a/nynl',\n",
       " 'http://www.ispot.tv/a/nyA5',\n",
       " 'http://www.ispot.tv/a/nDel',\n",
       " 'http://www.ispot.tv/a/ny7m',\n",
       " 'http://www.ispot.tv/a/nD3q',\n",
       " 'http://www.ispot.tv/a/nDiH',\n",
       " 'http://www.ispot.tv/a/nDi2',\n",
       " 'http://www.ispot.tv/a/nD8w',\n",
       " 'http://www.ispot.tv/a/nlye',\n",
       " 'http://www.ispot.tv/a/ny7p',\n",
       " 'http://www.ispot.tv/a/nD3C',\n",
       " 'http://www.ispot.tv/a/nDzR',\n",
       " 'http://www.ispot.tv/a/ngNy',\n",
       " 'http://www.ispot.tv/a/nDzj',\n",
       " 'http://www.ispot.tv/a/nD9z',\n",
       " 'http://www.ispot.tv/a/nMp5',\n",
       " 'http://www.ispot.tv/a/nKia',\n",
       " 'http://www.ispot.tv/a/nOq5',\n",
       " 'http://www.ispot.tv/a/nyJD',\n",
       " 'http://www.ispot.tv/a/nDNG',\n",
       " 'http://www.ispot.tv/a/nDNt',\n",
       " 'http://www.ispot.tv/a/nDrz',\n",
       " 'http://www.ispot.tv/a/nD29',\n",
       " 'http://www.ispot.tv/a/nDyV',\n",
       " 'http://www.ispot.tv/a/nD67',\n",
       " 'http://www.ispot.tv/a/nDZ3',\n",
       " 'http://www.ispot.tv/a/nKkg',\n",
       " 'http://www.ispot.tv/a/ny7W',\n",
       " 'http://www.ispot.tv/a/nlta',\n",
       " 'http://www.ispot.tv/a/nlbj',\n",
       " 'http://www.ispot.tv/a/nK2U',\n",
       " 'http://www.ispot.tv/a/nyQ8',\n",
       " 'http://www.ispot.tv/a/nDnJ',\n",
       " 'http://www.ispot.tv/a/nDLt',\n",
       " 'http://www.ispot.tv/a/nDWT',\n",
       " 'http://www.ispot.tv/a/npRe',\n",
       " 'http://www.ispot.tv/a/nDbm',\n",
       " 'http://www.ispot.tv/a/npUi',\n",
       " 'http://www.ispot.tv/a/npJi',\n",
       " 'http://www.ispot.tv/a/nK2N',\n",
       " 'http://www.ispot.tv/a/nppR',\n",
       " 'http://www.ispot.tv/a/nya2',\n",
       " 'http://www.ispot.tv/a/nyah',\n",
       " 'http://www.ispot.tv/a/nDLn',\n",
       " 'http://www.ispot.tv/a/nDsC',\n",
       " 'http://www.ispot.tv/a/nDYY',\n",
       " 'http://www.ispot.tv/a/ny84',\n",
       " 'http://www.ispot.tv/a/npRk',\n",
       " 'http://www.ispot.tv/a/npyU',\n",
       " 'http://www.ispot.tv/a/nR3F',\n",
       " 'http://www.ispot.tv/a/npfg',\n",
       " 'http://www.ispot.tv/a/nlO2',\n",
       " 'http://www.ispot.tv/a/npGn',\n",
       " 'http://www.ispot.tv/a/np4r',\n",
       " 'http://www.ispot.tv/a/npMT',\n",
       " 'http://www.ispot.tv/a/npL1',\n",
       " 'http://www.ispot.tv/a/nMpG',\n",
       " 'http://www.ispot.tv/a/nDDr',\n",
       " 'http://www.ispot.tv/a/npWE',\n",
       " 'http://www.ispot.tv/a/npky',\n",
       " 'http://www.ispot.tv/a/npRV',\n",
       " 'http://www.ispot.tv/a/nlk0',\n",
       " 'http://www.ispot.tv/a/np31',\n",
       " 'http://www.ispot.tv/a/np70',\n",
       " 'http://www.ispot.tv/a/nKHl',\n",
       " 'http://www.ispot.tv/a/nppc',\n",
       " 'http://www.ispot.tv/a/nlCj',\n",
       " 'http://www.ispot.tv/a/nD7c',\n",
       " 'http://www.ispot.tv/a/nKa7',\n",
       " 'http://www.ispot.tv/a/nK3z',\n",
       " 'http://www.ispot.tv/a/npn4',\n",
       " 'http://www.ispot.tv/a/np8g',\n",
       " 'http://www.ispot.tv/a/npDP',\n",
       " 'http://www.ispot.tv/a/nKQi',\n",
       " 'http://www.ispot.tv/a/npVs',\n",
       " 'http://www.ispot.tv/a/nKPy',\n",
       " 'http://www.ispot.tv/a/nK3W',\n",
       " 'http://www.ispot.tv/a/nKJX',\n",
       " 'http://www.ispot.tv/a/no46',\n",
       " 'http://www.ispot.tv/a/nDzb',\n",
       " 'http://www.ispot.tv/a/nK3L',\n",
       " 'http://www.ispot.tv/a/npkp',\n",
       " 'http://www.ispot.tv/a/nlEl',\n",
       " 'http://www.ispot.tv/a/nKEh',\n",
       " 'http://www.ispot.tv/a/nKl_',\n",
       " 'http://www.ispot.tv/a/np_t',\n",
       " 'http://www.ispot.tv/a/nyGW',\n",
       " 'http://www.ispot.tv/a/nD1U',\n",
       " 'http://www.ispot.tv/a/nlCv',\n",
       " 'http://www.ispot.tv/a/npnq',\n",
       " 'http://www.ispot.tv/a/nINh',\n",
       " 'http://www.ispot.tv/a/nKMt',\n",
       " 'http://www.ispot.tv/a/nOOv',\n",
       " 'http://www.ispot.tv/a/nKDQ',\n",
       " 'http://www.ispot.tv/a/nlND',\n",
       " 'http://www.ispot.tv/a/np8R',\n",
       " 'http://www.ispot.tv/a/nlNS',\n",
       " 'http://www.ispot.tv/a/nG8A',\n",
       " 'http://www.ispot.tv/a/nSxz',\n",
       " 'http://www.ispot.tv/a/nKMK',\n",
       " 'http://www.ispot.tv/a/nKMG',\n",
       " 'http://www.ispot.tv/a/nrDT',\n",
       " 'http://www.ispot.tv/a/nDXJ',\n",
       " 'http://www.ispot.tv/a/nGmJ',\n",
       " 'http://www.ispot.tv/a/npeH',\n",
       " 'http://www.ispot.tv/a/nGx9',\n",
       " 'http://www.ispot.tv/a/nBws',\n",
       " 'http://www.ispot.tv/a/nGms',\n",
       " 'http://www.ispot.tv/a/nKYs',\n",
       " 'http://www.ispot.tv/a/nS_P',\n",
       " 'http://www.ispot.tv/a/nK2l',\n",
       " 'http://www.ispot.tv/a/nKkk',\n",
       " 'http://www.ispot.tv/a/nG8y',\n",
       " 'http://www.ispot.tv/a/nGOj',\n",
       " 'http://www.ispot.tv/a/nSxv',\n",
       " 'http://www.ispot.tv/a/nKd6',\n",
       " 'http://www.ispot.tv/a/nKZh',\n",
       " 'http://www.ispot.tv/a/nG8Y',\n",
       " 'http://www.ispot.tv/a/nGOB',\n",
       " 'http://www.ispot.tv/a/nGu6',\n",
       " 'http://www.ispot.tv/a/nGDa',\n",
       " 'http://www.ispot.tv/a/nGg0',\n",
       " 'http://www.ispot.tv/a/nRG9',\n",
       " 'http://www.ispot.tv/a/nGz1',\n",
       " 'http://www.ispot.tv/a/nDeY',\n",
       " 'http://www.ispot.tv/a/nGJB',\n",
       " 'http://www.ispot.tv/a/nGWA',\n",
       " 'http://www.ispot.tv/a/nS4V',\n",
       " 'http://www.ispot.tv/a/nGKn',\n",
       " 'http://www.ispot.tv/a/nDXQ',\n",
       " 'http://www.ispot.tv/a/nydP',\n",
       " 'http://www.ispot.tv/a/nG8N',\n",
       " 'http://www.ispot.tv/a/nKSy',\n",
       " 'http://www.ispot.tv/a/nfgY',\n",
       " 'http://www.ispot.tv/a/nKCk',\n",
       " 'http://www.ispot.tv/a/nGS0',\n",
       " 'http://www.ispot.tv/a/nGJJ',\n",
       " 'http://www.ispot.tv/a/nG8S',\n",
       " 'http://www.ispot.tv/a/nSPc',\n",
       " 'http://www.ispot.tv/a/nSCT',\n",
       " 'http://www.ispot.tv/a/nGFw',\n",
       " 'http://www.ispot.tv/a/nGK8',\n",
       " 'http://www.ispot.tv/a/nGBv',\n",
       " 'http://www.ispot.tv/a/nGKG',\n",
       " 'http://www.ispot.tv/a/nB7U',\n",
       " 'http://www.ispot.tv/a/nSP5',\n",
       " 'http://www.ispot.tv/a/nGf8',\n",
       " 'http://www.ispot.tv/a/nSP8',\n",
       " 'http://www.ispot.tv/a/nSXE',\n",
       " 'http://www.ispot.tv/a/nGa7',\n",
       " 'http://www.ispot.tv/a/nSXN',\n",
       " 'http://www.ispot.tv/a/nS3F',\n",
       " 'http://www.ispot.tv/a/nScp',\n",
       " 'http://www.ispot.tv/a/nSPa',\n",
       " 'http://www.ispot.tv/a/nScd',\n",
       " 'http://www.ispot.tv/a/nS3V',\n",
       " 'http://www.ispot.tv/a/nSQM',\n",
       " 'http://www.ispot.tv/a/nSP3',\n",
       " 'http://www.ispot.tv/a/nS3W',\n",
       " 'http://www.ispot.tv/a/nGO0',\n",
       " 'http://www.ispot.tv/a/nSPw',\n",
       " 'http://www.ispot.tv/a/nS4k',\n",
       " 'http://www.ispot.tv/a/nS3X',\n",
       " 'http://www.ispot.tv/a/nG_h',\n",
       " 'http://www.ispot.tv/a/nS33',\n",
       " 'http://www.ispot.tv/a/nMNO',\n",
       " 'http://www.ispot.tv/a/nZm9',\n",
       " 'http://www.ispot.tv/a/nS3l',\n",
       " 'http://www.ispot.tv/a/nS4q',\n",
       " 'http://www.ispot.tv/a/nSzH',\n",
       " 'http://www.ispot.tv/a/nSut',\n",
       " 'http://www.ispot.tv/a/nGuc',\n",
       " 'http://www.ispot.tv/a/nS4I',\n",
       " 'http://www.ispot.tv/a/nSYs',\n",
       " 'http://www.ispot.tv/a/nSpT',\n",
       " 'http://www.ispot.tv/a/nSz_',\n",
       " 'http://www.ispot.tv/a/nSTq',\n",
       " 'http://www.ispot.tv/a/nSjv',\n",
       " 'http://www.ispot.tv/a/nSHl',\n",
       " 'http://www.ispot.tv/a/nq9_',\n",
       " 'http://www.ispot.tv/a/nSDq',\n",
       " 'http://www.ispot.tv/a/nSr8',\n",
       " 'http://www.ispot.tv/a/nG5U',\n",
       " 'http://www.ispot.tv/a/nKZr',\n",
       " 'http://www.ispot.tv/a/nSHv',\n",
       " 'http://www.ispot.tv/a/nSS6',\n",
       " 'http://www.ispot.tv/a/nGwH',\n",
       " 'http://www.ispot.tv/a/nlUI',\n",
       " 'http://www.ispot.tv/a/nSB9',\n",
       " 'http://www.ispot.tv/a/nKCY',\n",
       " 'http://www.ispot.tv/a/nKNJ',\n",
       " 'http://www.ispot.tv/a/nrDV',\n",
       " 'http://www.ispot.tv/a/nSxl',\n",
       " 'http://www.ispot.tv/a/np6v',\n",
       " 'http://www.ispot.tv/a/nSLl',\n",
       " 'http://www.ispot.tv/a/nStQ',\n",
       " 'http://www.ispot.tv/a/nKZi',\n",
       " 'http://www.ispot.tv/a/nB6C',\n",
       " 'http://www.ispot.tv/a/nSTf',\n",
       " 'http://www.ispot.tv/a/nSYU',\n",
       " 'http://www.ispot.tv/a/nSwB',\n",
       " 'http://www.ispot.tv/a/nGag',\n",
       " 'http://www.ispot.tv/a/nRDl',\n",
       " 'http://www.ispot.tv/a/nSGO',\n",
       " 'http://www.ispot.tv/a/nRWP',\n",
       " 'http://www.ispot.tv/a/nBrK',\n",
       " 'http://www.ispot.tv/a/nSoO',\n",
       " 'http://www.ispot.tv/a/ng31',\n",
       " 'http://www.ispot.tv/a/ngW_',\n",
       " 'http://www.ispot.tv/a/nSlh',\n",
       " 'http://www.ispot.tv/a/nSOy',\n",
       " 'http://www.ispot.tv/a/nSqN',\n",
       " 'http://www.ispot.tv/a/nTAF',\n",
       " 'http://www.ispot.tv/a/nSYj',\n",
       " 'http://www.ispot.tv/a/nSYw',\n",
       " 'http://www.ispot.tv/a/nSuU',\n",
       " 'http://www.ispot.tv/a/ngSt',\n",
       " 'http://www.ispot.tv/a/nDF0',\n",
       " 'http://www.ispot.tv/a/nSfu',\n",
       " 'http://www.ispot.tv/a/ngMO',\n",
       " 'http://www.ispot.tv/a/ngJg',\n",
       " 'http://www.ispot.tv/a/ngaQ',\n",
       " 'http://www.ispot.tv/a/ngvV',\n",
       " 'http://www.ispot.tv/a/nSfA',\n",
       " 'http://www.ispot.tv/a/ng4Z',\n",
       " 'http://www.ispot.tv/a/ng_Y',\n",
       " 'http://www.ispot.tv/a/ngRj',\n",
       " 'http://www.ispot.tv/a/ngBU',\n",
       " 'http://www.ispot.tv/a/ngRF',\n",
       " 'http://www.ispot.tv/a/ng_C',\n",
       " 'http://www.ispot.tv/a/ngBb',\n",
       " 'http://www.ispot.tv/a/nKpF',\n",
       " 'http://www.ispot.tv/a/ngTu',\n",
       " 'http://www.ispot.tv/a/ngRh',\n",
       " 'http://www.ispot.tv/a/ngMy',\n",
       " 'http://www.ispot.tv/a/nSK1',\n",
       " 'http://www.ispot.tv/a/nKZ4',\n",
       " 'http://www.ispot.tv/a/nSAT',\n",
       " 'http://www.ispot.tv/a/ngOq',\n",
       " 'http://www.ispot.tv/a/ngF9',\n",
       " 'http://www.ispot.tv/a/ngTt',\n",
       " 'http://www.ispot.tv/a/ngua',\n",
       " 'http://www.ispot.tv/a/ngbF',\n",
       " 'http://www.ispot.tv/a/ngnb',\n",
       " 'http://www.ispot.tv/a/ng2i',\n",
       " 'http://www.ispot.tv/a/ngbT',\n",
       " 'http://www.ispot.tv/a/ngw2',\n",
       " 'http://www.ispot.tv/a/ngTo',\n",
       " 'http://www.ispot.tv/a/ngwe',\n",
       " 'http://www.ispot.tv/a/nB09',\n",
       " 'http://www.ispot.tv/a/nBJt',\n",
       " 'http://www.ispot.tv/a/ngdc',\n",
       " 'http://www.ispot.tv/a/nDTj',\n",
       " 'http://www.ispot.tv/a/ng4T',\n",
       " 'http://www.ispot.tv/a/ngnx',\n",
       " 'http://www.ispot.tv/a/ngfx',\n",
       " 'http://www.ispot.tv/a/nBUC',\n",
       " 'http://www.ispot.tv/a/nTep',\n",
       " 'http://www.ispot.tv/a/ngBN',\n",
       " 'http://www.ispot.tv/a/npBM',\n",
       " 'http://www.ispot.tv/a/nBW1',\n",
       " 'http://www.ispot.tv/a/nBiv',\n",
       " 'http://www.ispot.tv/a/ngOD',\n",
       " 'http://www.ispot.tv/a/nSTO',\n",
       " 'http://www.ispot.tv/a/n1ol',\n",
       " 'http://www.ispot.tv/a/ngMX',\n",
       " 'http://www.ispot.tv/a/nyax',\n",
       " 'http://www.ispot.tv/a/nBHw',\n",
       " 'http://www.ispot.tv/a/nBFQ',\n",
       " 'http://www.ispot.tv/a/nBQk',\n",
       " 'http://www.ispot.tv/a/nBXj',\n",
       " 'http://www.ispot.tv/a/ngYY',\n",
       " 'http://www.ispot.tv/a/nB0E',\n",
       " 'http://www.ispot.tv/a/ngjw',\n",
       " 'http://www.ispot.tv/a/ngbI',\n",
       " 'http://www.ispot.tv/a/nTez',\n",
       " 'http://www.ispot.tv/a/nBuA',\n",
       " 'http://www.ispot.tv/a/nBzC',\n",
       " 'http://www.ispot.tv/a/nBhh',\n",
       " 'http://www.ispot.tv/a/nBct',\n",
       " 'http://www.ispot.tv/a/nBsJ',\n",
       " 'http://www.ispot.tv/a/nB33',\n",
       " 'http://www.ispot.tv/a/nKon',\n",
       " 'http://www.ispot.tv/a/nggY',\n",
       " 'http://www.ispot.tv/a/nBKr',\n",
       " 'http://www.ispot.tv/a/nBzR',\n",
       " 'http://www.ispot.tv/a/nBiQ',\n",
       " 'http://www.ispot.tv/a/nB1P',\n",
       " 'http://www.ispot.tv/a/nymT',\n",
       " 'http://www.ispot.tv/a/ng0Z',\n",
       " 'http://www.ispot.tv/a/nBpi',\n",
       " 'http://www.ispot.tv/a/nBRm',\n",
       " 'http://www.ispot.tv/a/nTTh',\n",
       " 'http://www.ispot.tv/a/nBGQ',\n",
       " 'http://www.ispot.tv/a/nBKB',\n",
       " 'http://www.ispot.tv/a/nBnD',\n",
       " 'http://www.ispot.tv/a/nBRx',\n",
       " 'http://www.ispot.tv/a/nBgo',\n",
       " 'http://www.ispot.tv/a/nBZH',\n",
       " 'http://www.ispot.tv/a/npKo',\n",
       " 'http://www.ispot.tv/a/nB1W',\n",
       " 'http://www.ispot.tv/a/nBBA',\n",
       " 'http://www.ispot.tv/a/nG45',\n",
       " 'http://www.ispot.tv/a/nfUb',\n",
       " 'http://www.ispot.tv/a/nBT2',\n",
       " 'http://www.ispot.tv/a/nB5B',\n",
       " 'http://www.ispot.tv/a/nBAI',\n",
       " 'http://www.ispot.tv/a/nGQ7',\n",
       " 'http://www.ispot.tv/a/nBwC',\n",
       " 'http://www.ispot.tv/a/nBdT',\n",
       " 'http://www.ispot.tv/a/n6pM',\n",
       " 'http://www.ispot.tv/a/nBdu',\n",
       " 'http://www.ispot.tv/a/nlmG',\n",
       " 'http://www.ispot.tv/a/npas',\n",
       " 'http://www.ispot.tv/a/nBk_',\n",
       " 'http://www.ispot.tv/a/nTxN',\n",
       " 'http://www.ispot.tv/a/nTmD',\n",
       " 'http://www.ispot.tv/a/nTei',\n",
       " 'http://www.ispot.tv/a/n1po',\n",
       " 'http://www.ispot.tv/a/nT6X',\n",
       " 'http://www.ispot.tv/a/nBLJ',\n",
       " 'http://www.ispot.tv/a/nBkN',\n",
       " 'http://www.ispot.tv/a/nDi0',\n",
       " 'http://www.ispot.tv/a/nj8v',\n",
       " 'http://www.ispot.tv/a/nTuZ',\n",
       " 'http://www.ispot.tv/a/nTHb',\n",
       " 'http://www.ispot.tv/a/nT7X',\n",
       " 'http://www.ispot.tv/a/nfcl',\n",
       " 'http://www.ispot.tv/a/nTue',\n",
       " 'http://www.ispot.tv/a/nTT1',\n",
       " 'http://www.ispot.tv/a/nTB6',\n",
       " 'http://www.ispot.tv/a/nTfw',\n",
       " 'http://www.ispot.tv/a/nfvy',\n",
       " 'http://www.ispot.tv/a/nTYr',\n",
       " 'http://www.ispot.tv/a/nf05',\n",
       " 'http://www.ispot.tv/a/nf4K',\n",
       " 'http://www.ispot.tv/a/nTKz',\n",
       " 'http://www.ispot.tv/a/n5ua',\n",
       " 'http://www.ispot.tv/a/nTog',\n",
       " 'http://www.ispot.tv/a/nTIc',\n",
       " 'http://www.ispot.tv/a/nf4N',\n",
       " 'http://www.ispot.tv/a/nfPR',\n",
       " 'http://www.ispot.tv/a/nTGU',\n",
       " 'http://www.ispot.tv/a/nTzL',\n",
       " 'http://www.ispot.tv/a/n5E4',\n",
       " 'http://www.ispot.tv/a/nfPc',\n",
       " 'http://www.ispot.tv/a/nf8W',\n",
       " 'http://www.ispot.tv/a/nf0P',\n",
       " 'http://www.ispot.tv/a/nfQ0',\n",
       " 'http://www.ispot.tv/a/n1NI',\n",
       " 'http://www.ispot.tv/a/nfPX',\n",
       " 'http://www.ispot.tv/a/nfex',\n",
       " 'http://www.ispot.tv/a/nfHE',\n",
       " 'http://www.ispot.tv/a/nfXN',\n",
       " 'http://www.ispot.tv/a/npvc',\n",
       " 'http://www.ispot.tv/a/n5LL',\n",
       " 'http://www.ispot.tv/a/nfE3',\n",
       " 'http://www.ispot.tv/a/nfEG',\n",
       " 'http://www.ispot.tv/a/nfQR',\n",
       " 'http://www.ispot.tv/a/nfWq',\n",
       " 'http://www.ispot.tv/a/nfEe',\n",
       " 'http://www.ispot.tv/a/nBpg',\n",
       " 'http://www.ispot.tv/a/nlXJ',\n",
       " 'http://www.ispot.tv/a/nqiY',\n",
       " 'http://www.ispot.tv/a/nfym',\n",
       " 'http://www.ispot.tv/a/nfyQ',\n",
       " 'http://www.ispot.tv/a/nfl0',\n",
       " 'http://www.ispot.tv/a/nft9',\n",
       " 'http://www.ispot.tv/a/nfcZ',\n",
       " 'http://www.ispot.tv/a/nfKP',\n",
       " 'http://www.ispot.tv/a/nS7M',\n",
       " 'http://www.ispot.tv/a/nfHP',\n",
       " 'http://www.ispot.tv/a/nThY',\n",
       " 'http://www.ispot.tv/a/nfE6',\n",
       " 'http://www.ispot.tv/a/nfvJ',\n",
       " 'http://www.ispot.tv/a/nfy9',\n",
       " 'http://www.ispot.tv/a/nyYJ',\n",
       " 'http://www.ispot.tv/a/nfjD',\n",
       " 'http://www.ispot.tv/a/nfkn',\n",
       " 'http://www.ispot.tv/a/nfjX',\n",
       " 'http://www.ispot.tv/a/n7hk',\n",
       " 'http://www.ispot.tv/a/nfs5',\n",
       " 'http://www.ispot.tv/a/nfmj',\n",
       " 'http://www.ispot.tv/a/nfeo',\n",
       " 'http://www.ispot.tv/a/n6Yx',\n",
       " 'http://www.ispot.tv/a/nBfo',\n",
       " 'http://www.ispot.tv/a/nTaY',\n",
       " 'http://www.ispot.tv/a/n6mi',\n",
       " 'http://www.ispot.tv/a/nft8',\n",
       " 'http://www.ispot.tv/a/nftz',\n",
       " 'http://www.ispot.tv/a/n6Nk',\n",
       " 'http://www.ispot.tv/a/nfYH',\n",
       " 'http://www.ispot.tv/a/nfbt',\n",
       " 'http://www.ispot.tv/a/nfbf',\n",
       " 'http://www.ispot.tv/a/nfOZ',\n",
       " 'http://www.ispot.tv/a/nf7W',\n",
       " 'http://www.ispot.tv/a/nfIA',\n",
       " 'http://www.ispot.tv/a/nTJK',\n",
       " 'http://www.ispot.tv/a/nf7v',\n",
       " 'http://www.ispot.tv/a/nfKy',\n",
       " 'http://www.ispot.tv/a/nBIv',\n",
       " 'http://www.ispot.tv/a/n6vB',\n",
       " 'http://www.ispot.tv/a/nftF',\n",
       " 'http://www.ispot.tv/a/n14s',\n",
       " 'http://www.ispot.tv/a/n68T',\n",
       " 'http://www.ispot.tv/a/nBKM',\n",
       " 'http://www.ispot.tv/a/n6Pj',\n",
       " 'http://www.ispot.tv/a/n6fp',\n",
       " 'http://www.ispot.tv/a/n6m4',\n",
       " 'http://www.ispot.tv/a/n6zW',\n",
       " 'http://www.ispot.tv/a/n592',\n",
       " 'http://www.ispot.tv/a/n5MW',\n",
       " 'http://www.ispot.tv/a/n6Rs',\n",
       " 'http://www.ispot.tv/a/nfW2',\n",
       " 'http://www.ispot.tv/a/n6PN',\n",
       " 'http://www.ispot.tv/a/n6DI',\n",
       " 'http://www.ispot.tv/a/n6kq',\n",
       " 'http://www.ispot.tv/a/n5zs',\n",
       " 'http://www.ispot.tv/a/n6ro',\n",
       " 'http://www.ispot.tv/a/n59Q',\n",
       " 'http://www.ispot.tv/a/n5qS',\n",
       " 'http://www.ispot.tv/a/nfe7',\n",
       " 'http://www.ispot.tv/a/n6Qs',\n",
       " 'http://www.ispot.tv/a/nfwS',\n",
       " 'http://www.ispot.tv/a/nfAX',\n",
       " 'http://www.ispot.tv/a/nfY2',\n",
       " 'http://www.ispot.tv/a/n65e',\n",
       " 'http://www.ispot.tv/a/n5vW',\n",
       " 'http://www.ispot.tv/a/n5FJ',\n",
       " 'http://www.ispot.tv/a/nfPG',\n",
       " 'http://www.ispot.tv/a/n6sH',\n",
       " 'http://www.ispot.tv/a/n5sd',\n",
       " 'http://www.ispot.tv/a/n6eH',\n",
       " 'http://www.ispot.tv/a/nlCm',\n",
       " 'http://www.ispot.tv/a/nBkm',\n",
       " 'http://www.ispot.tv/a/n5Ho',\n",
       " 'http://www.ispot.tv/a/n6k0',\n",
       " 'http://www.ispot.tv/a/n5Bz',\n",
       " 'http://www.ispot.tv/a/n66Q',\n",
       " 'http://www.ispot.tv/a/n5WP',\n",
       " 'http://www.ispot.tv/a/n6YE',\n",
       " 'http://www.ispot.tv/a/n5_N',\n",
       " 'http://www.ispot.tv/a/n5Ma',\n",
       " 'http://www.ispot.tv/a/n6gW',\n",
       " 'http://www.ispot.tv/a/n6Ar',\n",
       " 'http://www.ispot.tv/a/n6pV',\n",
       " 'http://www.ispot.tv/a/n5VK',\n",
       " 'http://www.ispot.tv/a/n1q_',\n",
       " 'http://www.ispot.tv/a/n6NB',\n",
       " 'http://www.ispot.tv/a/n6AS',\n",
       " 'http://www.ispot.tv/a/n5ud',\n",
       " 'http://www.ispot.tv/a/n5Rj',\n",
       " 'http://www.ispot.tv/a/n5zf',\n",
       " 'http://www.ispot.tv/a/n6Vn',\n",
       " 'http://www.ispot.tv/a/n5fa',\n",
       " 'http://www.ispot.tv/a/n5ff',\n",
       " 'http://www.ispot.tv/a/n5Tf',\n",
       " 'http://www.ispot.tv/a/n6Yq',\n",
       " 'http://www.ispot.tv/a/n5bY',\n",
       " 'http://www.ispot.tv/a/n5zw',\n",
       " 'http://www.ispot.tv/a/n5Nw',\n",
       " 'http://www.ispot.tv/a/ntTH',\n",
       " 'http://www.ispot.tv/a/n6KG',\n",
       " 'http://www.ispot.tv/a/n5Nx',\n",
       " 'http://www.ispot.tv/a/n5vP',\n",
       " 'http://www.ispot.tv/a/n5Ty',\n",
       " 'http://www.ispot.tv/a/n5vc',\n",
       " 'http://www.ispot.tv/a/n5TI',\n",
       " 'http://www.ispot.tv/a/n6qy',\n",
       " 'http://www.ispot.tv/a/n5C0',\n",
       " 'http://www.ispot.tv/a/n5fh',\n",
       " 'http://www.ispot.tv/a/n5SY',\n",
       " 'http://www.ispot.tv/a/n5T3',\n",
       " 'http://www.ispot.tv/a/nyBm',\n",
       " 'http://www.ispot.tv/a/n5RW',\n",
       " 'http://www.ispot.tv/a/nBVj',\n",
       " 'http://www.ispot.tv/a/n5NQ',\n",
       " 'http://www.ispot.tv/a/n5bM',\n",
       " 'http://www.ispot.tv/a/n5UC',\n",
       " 'http://www.ispot.tv/a/n5TO',\n",
       " 'http://www.ispot.tv/a/n5Bh',\n",
       " 'http://www.ispot.tv/a/n5Bw',\n",
       " 'http://www.ispot.tv/a/njY0',\n",
       " 'http://www.ispot.tv/a/n5j7',\n",
       " 'http://www.ispot.tv/a/n51q',\n",
       " 'http://www.ispot.tv/a/nj2T',\n",
       " 'http://www.ispot.tv/a/nBLh',\n",
       " 'http://www.ispot.tv/a/n1Wd',\n",
       " 'http://www.ispot.tv/a/n5ZW',\n",
       " 'http://www.ispot.tv/a/n5o3',\n",
       " 'http://www.ispot.tv/a/n5Oa',\n",
       " 'http://www.ispot.tv/a/n6MX',\n",
       " 'http://www.ispot.tv/a/ngq2',\n",
       " 'http://www.ispot.tv/a/n5yj',\n",
       " 'http://www.ispot.tv/a/n5yy',\n",
       " 'http://www.ispot.tv/a/n5y1',\n",
       " 'http://www.ispot.tv/a/n5os',\n",
       " 'http://www.ispot.tv/a/n5IU',\n",
       " 'http://www.ispot.tv/a/n5ot',\n",
       " 'http://www.ispot.tv/a/n5q5',\n",
       " 'http://www.ispot.tv/a/n5Zl',\n",
       " 'http://www.ispot.tv/a/n5DA',\n",
       " 'http://www.ispot.tv/a/nOR1',\n",
       " 'http://www.ispot.tv/a/n5od',\n",
       " 'http://www.ispot.tv/a/n5vr',\n",
       " 'http://www.ispot.tv/a/n5u2',\n",
       " 'http://www.ispot.tv/a/n5kq',\n",
       " 'http://www.ispot.tv/a/n5L_',\n",
       " 'http://www.ispot.tv/a/n5oR',\n",
       " 'http://www.ispot.tv/a/nKo7',\n",
       " 'http://www.ispot.tv/a/nYHa',\n",
       " 'http://www.ispot.tv/a/n1Us',\n",
       " 'http://www.ispot.tv/a/nf3P',\n",
       " 'http://www.ispot.tv/a/n5L1',\n",
       " 'http://www.ispot.tv/a/n1aE',\n",
       " 'http://www.ispot.tv/a/n63w',\n",
       " 'http://www.ispot.tv/a/n68u',\n",
       " 'http://www.ispot.tv/a/n5mA',\n",
       " 'http://www.ispot.tv/a/nTTe',\n",
       " 'http://www.ispot.tv/a/n5Jy',\n",
       " 'http://www.ispot.tv/a/n5_t',\n",
       " 'http://www.ispot.tv/a/n5Ym',\n",
       " 'http://www.ispot.tv/a/n5LA',\n",
       " 'http://www.ispot.tv/a/n5q2',\n",
       " 'http://www.ispot.tv/a/n1Yr',\n",
       " 'http://www.ispot.tv/a/nfN1',\n",
       " 'http://www.ispot.tv/a/nfNo',\n",
       " 'http://www.ispot.tv/a/n5VQ',\n",
       " 'http://www.ispot.tv/a/ngFb',\n",
       " 'http://www.ispot.tv/a/nfDi',\n",
       " 'http://www.ispot.tv/a/n57Y',\n",
       " 'http://www.ispot.tv/a/nBYJ',\n",
       " 'http://www.ispot.tv/a/ngOZ',\n",
       " 'http://www.ispot.tv/a/n1mc',\n",
       " 'http://www.ispot.tv/a/n1Xn',\n",
       " 'http://www.ispot.tv/a/n1F_',\n",
       " 'http://www.ispot.tv/a/nyFt',\n",
       " 'http://www.ispot.tv/a/n5kV',\n",
       " 'http://www.ispot.tv/a/n5Vn',\n",
       " 'http://www.ispot.tv/a/n10G',\n",
       " 'http://www.ispot.tv/a/n1k4',\n",
       " 'http://www.ispot.tv/a/n1EY',\n",
       " 'http://www.ispot.tv/a/n6YB',\n",
       " 'http://www.ispot.tv/a/n1xE',\n",
       " 'http://www.ispot.tv/a/n2_0',\n",
       " 'http://www.ispot.tv/a/n1zz',\n",
       " 'http://www.ispot.tv/a/nKah',\n",
       " 'http://www.ispot.tv/a/novm',\n",
       " 'http://www.ispot.tv/a/n5AA',\n",
       " 'http://www.ispot.tv/a/n1uP',\n",
       " 'http://www.ispot.tv/a/n1WE',\n",
       " 'http://www.ispot.tv/a/n63L',\n",
       " 'http://www.ispot.tv/a/n1Y0',\n",
       " 'http://www.ispot.tv/a/n1cU',\n",
       " 'http://www.ispot.tv/a/n12r',\n",
       " 'http://www.ispot.tv/a/n164',\n",
       " 'http://www.ispot.tv/a/n104',\n",
       " 'http://www.ispot.tv/a/n1uZ',\n",
       " 'http://www.ispot.tv/a/n1zW',\n",
       " 'http://www.ispot.tv/a/nTiT',\n",
       " 'http://www.ispot.tv/a/n1IG',\n",
       " 'http://www.ispot.tv/a/n1uc',\n",
       " 'http://www.ispot.tv/a/n1Gb',\n",
       " 'http://www.ispot.tv/a/n21d',\n",
       " 'http://www.ispot.tv/a/nTS0',\n",
       " 'http://www.ispot.tv/a/n1En',\n",
       " 'http://www.ispot.tv/a/n1YO',\n",
       " 'http://www.ispot.tv/a/n6R0',\n",
       " 'http://www.ispot.tv/a/nKZY',\n",
       " 'http://www.ispot.tv/a/n1oC',\n",
       " 'http://www.ispot.tv/a/n1rk',\n",
       " 'http://www.ispot.tv/a/nfVP',\n",
       " 'http://www.ispot.tv/a/n578',\n",
       " 'http://www.ispot.tv/a/n5Jh',\n",
       " 'http://www.ispot.tv/a/n1Ew',\n",
       " 'http://www.ispot.tv/a/nfBN',\n",
       " 'http://www.ispot.tv/a/n2kf',\n",
       " 'http://www.ispot.tv/a/n1IE',\n",
       " 'http://www.ispot.tv/a/nqMi',\n",
       " 'http://www.ispot.tv/a/nBJi',\n",
       " 'http://www.ispot.tv/a/nOS1',\n",
       " 'http://www.ispot.tv/a/n1hu',\n",
       " 'http://www.ispot.tv/a/n2UA',\n",
       " 'http://www.ispot.tv/a/nODC',\n",
       " 'http://www.ispot.tv/a/nq8j',\n",
       " 'http://www.ispot.tv/a/nRSS',\n",
       " 'http://www.ispot.tv/a/nGTL',\n",
       " 'http://www.ispot.tv/a/n2vE',\n",
       " 'http://www.ispot.tv/a/nZ2p',\n",
       " 'http://www.ispot.tv/a/n2NI',\n",
       " 'http://www.ispot.tv/a/nABL',\n",
       " 'http://www.ispot.tv/a/n5ko',\n",
       " 'http://www.ispot.tv/a/n1oM',\n",
       " 'http://www.ispot.tv/a/n2jm',\n",
       " 'http://www.ispot.tv/a/n22H',\n",
       " 'http://www.ispot.tv/a/n2NE',\n",
       " 'http://www.ispot.tv/a/nK8n',\n",
       " 'http://www.ispot.tv/a/n1RU',\n",
       " 'http://www.ispot.tv/a/n1VC',\n",
       " 'http://www.ispot.tv/a/n1N0',\n",
       " 'http://www.ispot.tv/a/n1_t',\n",
       " 'http://www.ispot.tv/a/n2PJ',\n",
       " 'http://www.ispot.tv/a/n2sW',\n",
       " 'http://www.ispot.tv/a/n2RB',\n",
       " 'http://www.ispot.tv/a/n6go',\n",
       " 'http://www.ispot.tv/a/n2I8',\n",
       " 'http://www.ispot.tv/a/n2OS',\n",
       " 'http://www.ispot.tv/a/n2di',\n",
       " 'http://www.ispot.tv/a/n1o9',\n",
       " 'http://www.ispot.tv/a/n2wU',\n",
       " 'http://www.ispot.tv/a/n1RJ',\n",
       " 'http://www.ispot.tv/a/n2mb',\n",
       " 'http://www.ispot.tv/a/n2ZK',\n",
       " 'http://www.ispot.tv/a/n2AC',\n",
       " 'http://www.ispot.tv/a/nbsG',\n",
       " 'http://www.ispot.tv/a/n2Az',\n",
       " 'http://www.ispot.tv/a/nbz4',\n",
       " 'http://www.ispot.tv/a/nb3i',\n",
       " 'http://www.ispot.tv/a/n2Io',\n",
       " 'http://www.ispot.tv/a/n2Z6',\n",
       " 'http://www.ispot.tv/a/nDYp',\n",
       " 'http://www.ispot.tv/a/n2d0',\n",
       " 'http://www.ispot.tv/a/n27g',\n",
       " 'http://www.ispot.tv/a/n2AP',\n",
       " 'http://www.ispot.tv/a/n2kq',\n",
       " 'http://www.ispot.tv/a/nGpJ',\n",
       " 'http://www.ispot.tv/a/n2Vt',\n",
       " 'http://www.ispot.tv/a/n2yu',\n",
       " 'http://www.ispot.tv/a/n2dJ',\n",
       " 'http://www.ispot.tv/a/nbsN',\n",
       " 'http://www.ispot.tv/a/nbs_',\n",
       " 'http://www.ispot.tv/a/nfBo',\n",
       " 'http://www.ispot.tv/a/n2YE',\n",
       " 'http://www.ispot.tv/a/n6Yr',\n",
       " 'http://www.ispot.tv/a/n2KS',\n",
       " 'http://www.ispot.tv/a/n1uj',\n",
       " 'http://www.ispot.tv/a/n2sQ',\n",
       " 'http://www.ispot.tv/a/nbWe',\n",
       " 'http://www.ispot.tv/a/nbW1',\n",
       " 'http://www.ispot.tv/a/nGbW',\n",
       " 'http://www.ispot.tv/a/n1uo',\n",
       " 'http://www.ispot.tv/a/nfV8',\n",
       " 'http://www.ispot.tv/a/nb_7',\n",
       " 'http://www.ispot.tv/a/n2Of',\n",
       " 'http://www.ispot.tv/a/nb8a',\n",
       " 'http://www.ispot.tv/a/nb6U',\n",
       " 'http://www.ispot.tv/a/nbM4',\n",
       " 'http://www.ispot.tv/a/nbNE',\n",
       " 'http://www.ispot.tv/a/nbMQ',\n",
       " 'http://www.ispot.tv/a/nbmW',\n",
       " 'http://www.ispot.tv/a/nbMh',\n",
       " 'http://www.ispot.tv/a/nbCT',\n",
       " 'http://www.ispot.tv/a/nbMr',\n",
       " 'http://www.ispot.tv/a/nbpf',\n",
       " 'http://www.ispot.tv/a/nbCn',\n",
       " 'http://www.ispot.tv/a/n2ca',\n",
       " 'http://www.ispot.tv/a/nbqv',\n",
       " 'http://www.ispot.tv/a/nO8P',\n",
       " 'http://www.ispot.tv/a/nbfn',\n",
       " 'http://www.ispot.tv/a/nb63',\n",
       " 'http://www.ispot.tv/a/nboG',\n",
       " 'http://www.ispot.tv/a/nbC7',\n",
       " 'http://www.ispot.tv/a/nbTr',\n",
       " 'http://www.ispot.tv/a/nq0C',\n",
       " 'http://www.ispot.tv/a/n1UR',\n",
       " 'http://www.ispot.tv/a/nbKE',\n",
       " 'http://www.ispot.tv/a/nbdZ',\n",
       " 'http://www.ispot.tv/a/nbON',\n",
       " 'http://www.ispot.tv/a/nqDm',\n",
       " 'http://www.ispot.tv/a/nbTo',\n",
       " 'http://www.ispot.tv/a/n2Ou',\n",
       " 'http://www.ispot.tv/a/nbS2',\n",
       " 'http://www.ispot.tv/a/nbTM',\n",
       " 'http://www.ispot.tv/a/nb_C',\n",
       " 'http://www.ispot.tv/a/nBEz',\n",
       " 'http://www.ispot.tv/a/nKnw',\n",
       " 'http://www.ispot.tv/a/nbht',\n",
       " 'http://www.ispot.tv/a/n2uA',\n",
       " 'http://www.ispot.tv/a/nbb6',\n",
       " 'http://www.ispot.tv/a/n1nJ',\n",
       " 'http://www.ispot.tv/a/ng8R',\n",
       " 'http://www.ispot.tv/a/nbKZ',\n",
       " 'http://www.ispot.tv/a/nqWz',\n",
       " 'http://www.ispot.tv/a/nGvr',\n",
       " 'http://www.ispot.tv/a/nq86',\n",
       " 'http://www.ispot.tv/a/nObA',\n",
       " 'http://www.ispot.tv/a/nwq2',\n",
       " 'http://www.ispot.tv/a/nb5g',\n",
       " 'http://www.ispot.tv/a/nqPs',\n",
       " 'http://www.ispot.tv/a/nbyo',\n",
       " 'http://www.ispot.tv/a/nbMS',\n",
       " 'http://www.ispot.tv/a/nqP8',\n",
       " 'http://www.ispot.tv/a/n50w',\n",
       " 'http://www.ispot.tv/a/n19w',\n",
       " 'http://www.ispot.tv/a/nbAr',\n",
       " 'http://www.ispot.tv/a/nbAB',\n",
       " 'http://www.ispot.tv/a/nqUq',\n",
       " 'http://www.ispot.tv/a/nbff',\n",
       " 'http://www.ispot.tv/a/n2VD',\n",
       " 'http://www.ispot.tv/a/nRJS',\n",
       " 'http://www.ispot.tv/a/nq4U',\n",
       " 'http://www.ispot.tv/a/nqsV',\n",
       " 'http://www.ispot.tv/a/nbAd',\n",
       " 'http://www.ispot.tv/a/nqPv',\n",
       " 'http://www.ispot.tv/a/nqRQ',\n",
       " 'http://www.ispot.tv/a/nqPf',\n",
       " 'http://www.ispot.tv/a/nqEp',\n",
       " 'http://www.ispot.tv/a/nqLy',\n",
       " 'http://www.ispot.tv/a/nqsr',\n",
       " 'http://www.ispot.tv/a/nqzF',\n",
       " 'http://www.ispot.tv/a/nBP8',\n",
       " 'http://www.ispot.tv/a/nqse',\n",
       " 'http://www.ispot.tv/a/n25q',\n",
       " 'http://www.ispot.tv/a/nqsc',\n",
       " 'http://www.ispot.tv/a/nq7S',\n",
       " 'http://www.ispot.tv/a/nOfB',\n",
       " 'http://www.ispot.tv/a/nqv5',\n",
       " 'http://www.ispot.tv/a/n2Z8',\n",
       " 'http://www.ispot.tv/a/nbkg',\n",
       " 'http://www.ispot.tv/a/nt33',\n",
       " 'http://www.ispot.tv/a/nqjP',\n",
       " 'http://www.ispot.tv/a/nqto',\n",
       " 'http://www.ispot.tv/a/nqo0',\n",
       " 'http://www.ispot.tv/a/nqpy',\n",
       " 'http://www.ispot.tv/a/nqzm',\n",
       " 'http://www.ispot.tv/a/nbAz',\n",
       " 'http://www.ispot.tv/a/nZPP',\n",
       " 'http://www.ispot.tv/a/nOC6',\n",
       " 'http://www.ispot.tv/a/nq2J',\n",
       " 'http://www.ispot.tv/a/njTH',\n",
       " 'http://www.ispot.tv/a/nqbR',\n",
       " 'http://www.ispot.tv/a/nb3T',\n",
       " 'http://www.ispot.tv/a/n5dd',\n",
       " 'http://www.ispot.tv/a/nqOC',\n",
       " 'http://www.ispot.tv/a/nq1V',\n",
       " 'http://www.ispot.tv/a/nOst',\n",
       " 'http://www.ispot.tv/a/nq2u',\n",
       " 'http://www.ispot.tv/a/nOhT',\n",
       " 'http://www.ispot.tv/a/nq2g',\n",
       " 'http://www.ispot.tv/a/nb6N',\n",
       " 'http://www.ispot.tv/a/nOL0',\n",
       " 'http://www.ispot.tv/a/nTJi',\n",
       " 'http://www.ispot.tv/a/nqKE',\n",
       " 'http://www.ispot.tv/a/nqtx',\n",
       " 'http://www.ispot.tv/a/nfHh',\n",
       " 'http://www.ispot.tv/a/ndce',\n",
       " 'http://www.ispot.tv/a/nfMI',\n",
       " 'http://www.ispot.tv/a/nbdV',\n",
       " 'http://www.ispot.tv/a/nqFx',\n",
       " 'http://www.ispot.tv/a/nOyh',\n",
       " 'http://www.ispot.tv/a/nqbm',\n",
       " 'http://www.ispot.tv/a/nqAC',\n",
       " 'http://www.ispot.tv/a/nqAg',\n",
       " 'http://www.ispot.tv/a/nqlp',\n",
       " 'http://www.ispot.tv/a/nO0z',\n",
       " 'http://www.ispot.tv/a/nZaT',\n",
       " 'http://www.ispot.tv/a/nqrK',\n",
       " 'http://www.ispot.tv/a/nqwt',\n",
       " 'http://www.ispot.tv/a/nTQ4',\n",
       " 'http://www.ispot.tv/a/nOip',\n",
       " 'http://www.ispot.tv/a/nqwH',\n",
       " 'http://www.ispot.tv/a/nONq',\n",
       " 'http://www.ispot.tv/a/ntZV',\n",
       " 'http://www.ispot.tv/a/nOub',\n",
       " 'http://www.ispot.tv/a/nqAX',\n",
       " 'http://www.ispot.tv/a/nqwv',\n",
       " 'http://www.ispot.tv/a/nrgd',\n",
       " 'http://www.ispot.tv/a/nON7',\n",
       " 'http://www.ispot.tv/a/nnnn',\n",
       " 'http://www.ispot.tv/a/nOM_',\n",
       " 'http://www.ispot.tv/a/nb5M',\n",
       " 'http://www.ispot.tv/a/nqi8',\n",
       " 'http://www.ispot.tv/a/nqE3',\n",
       " 'http://www.ispot.tv/a/n2lS',\n",
       " 'http://www.ispot.tv/a/nO35',\n",
       " 'http://www.ispot.tv/a/nORe',\n",
       " 'http://www.ispot.tv/a/nOjr',\n",
       " 'http://www.ispot.tv/a/nOnn',\n",
       " 'http://www.ispot.tv/a/nOcL',\n",
       " 'http://www.ispot.tv/a/nO22',\n",
       " 'http://www.ispot.tv/a/nYfd',\n",
       " 'http://www.ispot.tv/a/nOMI',\n",
       " 'http://www.ispot.tv/a/nqSi',\n",
       " 'http://www.ispot.tv/a/nOx5',\n",
       " 'http://www.ispot.tv/a/nONd',\n",
       " 'http://www.ispot.tv/a/nOMa',\n",
       " 'http://www.ispot.tv/a/nO6q',\n",
       " 'http://www.ispot.tv/a/nOjc',\n",
       " 'http://www.ispot.tv/a/nO1G',\n",
       " 'http://www.ispot.tv/a/nOXf',\n",
       " 'http://www.ispot.tv/a/nqKZ',\n",
       " 'http://www.ispot.tv/a/nOBz',\n",
       " 'http://www.ispot.tv/a/nI0i',\n",
       " 'http://www.ispot.tv/a/nOCu',\n",
       " 'http://www.ispot.tv/a/nOSs',\n",
       " 'http://www.ispot.tv/a/nObb',\n",
       " 'http://www.ispot.tv/a/nqq4',\n",
       " 'http://www.ispot.tv/a/nOuE',\n",
       " 'http://www.ispot.tv/a/nOOP',\n",
       " 'http://www.ispot.tv/a/nOSM',\n",
       " 'http://www.ispot.tv/a/nOOq',\n",
       " 'http://www.ispot.tv/a/nOtN',\n",
       " 'http://www.ispot.tv/a/nOo0',\n",
       " 'http://www.ispot.tv/a/nODV',\n",
       " 'http://www.ispot.tv/a/nOZq',\n",
       " 'http://www.ispot.tv/a/nLVZ',\n",
       " 'http://www.ispot.tv/a/nqA8',\n",
       " 'http://www.ispot.tv/a/nOnG',\n",
       " 'http://www.ispot.tv/a/nO34',\n",
       " 'http://www.ispot.tv/a/n2vZ',\n",
       " 'http://www.ispot.tv/a/nOSR',\n",
       " 'http://www.ispot.tv/a/n682',\n",
       " 'http://www.ispot.tv/a/n6pZ',\n",
       " 'http://www.ispot.tv/a/nOZA',\n",
       " 'http://www.ispot.tv/a/nt9N',\n",
       " 'http://www.ispot.tv/a/nOtc',\n",
       " 'http://www.ispot.tv/a/nODS',\n",
       " 'http://www.ispot.tv/a/nOLX',\n",
       " 'http://www.ispot.tv/a/nnPO',\n",
       " 'http://www.ispot.tv/a/nbKo',\n",
       " 'http://www.ispot.tv/a/nOAr',\n",
       " 'http://www.ispot.tv/a/n6Bx',\n",
       " 'http://www.ispot.tv/a/n6mU',\n",
       " 'http://www.ispot.tv/a/nt0j',\n",
       " 'http://www.ispot.tv/a/ntcE',\n",
       " 'http://www.ispot.tv/a/nOUX',\n",
       " 'http://www.ispot.tv/a/ntv9',\n",
       " 'http://www.ispot.tv/a/nOaT',\n",
       " 'http://www.ispot.tv/a/nt4I',\n",
       " 'http://www.ispot.tv/a/nt80',\n",
       " 'http://www.ispot.tv/a/ntRm',\n",
       " 'http://www.ispot.tv/a/ntUL',\n",
       " 'http://www.ispot.tv/a/n5On',\n",
       " 'http://www.ispot.tv/a/nOZM']"
      ]
     },
     "execution_count": 98,
     "metadata": {},
     "output_type": "execute_result"
    }
   ],
   "source": [
    "get_links(covid)"
   ]
  },
  {
   "cell_type": "code",
   "execution_count": null,
   "metadata": {},
   "outputs": [],
   "source": [
    "\n",
    "https://www.ispot.tv/browse/Y/business-and-legal"
   ]
  },
  {
   "cell_type": "code",
   "execution_count": 6,
   "metadata": {
    "ExecuteTime": {
     "end_time": "2020-07-10T01:34:13.193361Z",
     "start_time": "2020-07-10T01:34:11.923794Z"
    },
    "scrolled": true
   },
   "outputs": [
    {
     "name": "stdout",
     "output_type": "stream",
     "text": [
      "24\n"
     ]
    },
    {
     "data": {
      "text/plain": [
       "['/ad/nMMo/goldwater-law-firm-lawsuits-non-hodgkins-lymphoma',\n",
       " '/ad/nMtA/quicken-achieve-your-goals',\n",
       " '/ad/nMnZ/quicken-loans-millions-of-user-reviews',\n",
       " '/ad/nMAv/goldwater-law-firm-talcum-powder-ovarian-cancer',\n",
       " '/ad/nMAm/ava-law-group-inc-boy-scouts-of-america',\n",
       " '/ad/nMVQ/the-sentinel-group-trucking-accidents',\n",
       " '/ad/nrE1/guardian-legal-network-priority-update-baby-powder-users',\n",
       " '/ad/nrz0/thrivent-financial-what-are-you-invested-in',\n",
       " '/ad/nrft/zelle-fast-safe-easy-and-contact-free-birthday',\n",
       " '/ad/njvW/vistaprint-this-is-not-a-mask',\n",
       " '/ad/njvZ/bloomberg-lp-ready-for-anything',\n",
       " '/ad/njmG/goldwater-law-firm-atencin-linfoma-dos-minutos-spanish',\n",
       " '/ad/njWo/american-express-pequeo-es-spanish',\n",
       " '/ad/njGi/edelman-financial-low-turnover-funds',\n",
       " '/ad/njSV/careerbuilder-com-were-building-for-you',\n",
       " '/ad/njqK/sofi-sofi-members-get-their-student-debt-right-ashley',\n",
       " '/ad/njOU/sofi-sofi-members-get-their-student-debt-right-jamie',\n",
       " '/ad/nj7A/edelman-financial-stop-looking-at-the-investments',\n",
       " '/ad/nRUC/robinhood-financial-fractional-shares-tent',\n",
       " '/ad/nRU5/robinhood-financial-fractional-shares-football',\n",
       " '/ad/nRPt/laminack-pirtle-and-martines-llp-belviq-cancer',\n",
       " '/ad/nRhs/expressvpn-protect-your-online-privacy',\n",
       " '/ad/nR8O/us-bank-inspired-pursuits',\n",
       " '/ad/nRHw/adyen-make-purchasing-easier']"
      ]
     },
     "execution_count": 6,
     "metadata": {},
     "output_type": "execute_result"
    }
   ],
   "source": [
    "bus = 'https://www.ispot.tv/browse/Y/business-and-legal'\n",
    "bus_urls = get_links(bus)\n",
    "print(len(bus_urls))\n",
    "bus_urls"
   ]
  },
  {
   "cell_type": "markdown",
   "metadata": {},
   "source": [
    "## Get info"
   ]
  },
  {
   "cell_type": "code",
   "execution_count": 9,
   "metadata": {
    "ExecuteTime": {
     "end_time": "2020-07-10T02:23:22.746477Z",
     "start_time": "2020-07-10T02:23:22.577910Z"
    }
   },
   "outputs": [],
   "source": [
    "def get_adpage_info(ad_url, browser):\n",
    "    ''' Get the data from a single ad page'''\n",
    "    \n",
    "    def get_meta(fields, browser=browser):\n",
    "        ''' Get the mood from the page '''\n",
    "        meta={}\n",
    "        for row in browser.find_by_css('#meta-data div.row'):\n",
    "            cells = row.find_by_tag('div')\n",
    "            field = cells[0].text.strip().lower()\n",
    "            if field in fields:\n",
    "                meta[field] = cells[1].text.strip()\n",
    "        return meta\n",
    "    \n",
    "    def get_video(browser=browser):\n",
    "        ''' Get the video object'''\n",
    "        vlist = browser.find_by_css('#my-video video')\n",
    "        if len(vlist):\n",
    "            return vlist[0]\n",
    " \n",
    "    # Coerce url\n",
    "    if ad_url.startswith('/ad'):\n",
    "        ad_url = base_url+ad_url\n",
    "        \n",
    "    data = {}\n",
    "    browser.visit(ad_url)\n",
    "    \n",
    "    # Heading and subheading\n",
    "    heading = browser.find_by_css('.grid-video h1')[0]\n",
    "    data['title'] = heading.text\n",
    "    \n",
    "    subheading = browser.find_by_css('.grid-video')[0].find_by_tag('div')[-2].text\n",
    "    subheading_data = re.search(r\"Ad ID: (?P<id>\\d+)\\s+(?P<runtime>\\d+)s \\s+ (?P<year>\\d{4})\", subheading).groupdict()\n",
    "    \n",
    "    data.update(subheading_data)\n",
    "    \n",
    "    meta_fields = ['advertiser', 'mood', 'characters', 'animals', 'products']\n",
    "    data.update(get_meta(meta_fields))\n",
    "    \n",
    "    \n",
    "    video = get_video()\n",
    "    if not video:\n",
    "        time.sleep(3)\n",
    "        video = get_video()\n",
    "    data['video_url'] = video._element.get_attribute('src')\n",
    "    \n",
    "    return data\n",
    "    "
   ]
  },
  {
   "cell_type": "code",
   "execution_count": 116,
   "metadata": {
    "ExecuteTime": {
     "end_time": "2020-07-10T01:14:38.512616Z",
     "start_time": "2020-07-10T01:14:33.708176Z"
    },
    "scrolled": true
   },
   "outputs": [
    {
     "data": {
      "text/plain": [
       "{'advertiser': 'RINVOQ',\n",
       " 'id': '2884856',\n",
       " 'mood': 'Active',\n",
       " 'products': 'RINVOQ',\n",
       " 'runtime': '60',\n",
       " 'title': \"RINVOQ TV Commercial, 'Your Mission: Zip Line'\",\n",
       " 'video_url': 'https://d3npuic909260z.cloudfront.net/002/884/856/nrhg.mp4',\n",
       " 'year': '2020'}"
      ]
     },
     "execution_count": 116,
     "metadata": {},
     "output_type": "execute_result"
    }
   ],
   "source": [
    "get_adpage_info(test_ad, browser)"
   ]
  },
  {
   "cell_type": "code",
   "execution_count": 117,
   "metadata": {
    "ExecuteTime": {
     "end_time": "2020-07-10T01:14:48.334057Z",
     "start_time": "2020-07-10T01:14:43.219895Z"
    },
    "scrolled": true
   },
   "outputs": [
    {
     "data": {
      "text/plain": [
       "{'advertiser': 'Goldwater Law Firm',\n",
       " 'id': '2887614',\n",
       " 'mood': 'Informational',\n",
       " 'runtime': '30',\n",
       " 'title': \"Goldwater Law Firm TV Commercial, 'Lawsuits: Non-Hodgkin's Lymphoma'\",\n",
       " 'video_url': 'https://d3npuic909260z.cloudfront.net/002/887/614/nMMo.mp4',\n",
       " 'year': '2020'}"
      ]
     },
     "execution_count": 117,
     "metadata": {},
     "output_type": "execute_result"
    }
   ],
   "source": [
    "get_adpage_info(bus_urls[0], browser)"
   ]
  },
  {
   "cell_type": "code",
   "execution_count": 18,
   "metadata": {
    "ExecuteTime": {
     "end_time": "2020-07-10T02:36:11.705143Z",
     "start_time": "2020-07-10T02:36:07.048080Z"
    }
   },
   "outputs": [
    {
     "data": {
      "text/plain": [
       "{'advertiser': 'The Sentinel Group',\n",
       " 'id': '2885517',\n",
       " 'mood': 'Informational',\n",
       " 'runtime': '60',\n",
       " 'title': \"The Sentinel Group TV Commercial, 'Trucking Accidents'\",\n",
       " 'video_url': 'https://d3npuic909260z.cloudfront.net/002/885/517/nMVQ.mp4',\n",
       " 'year': '2020'}"
      ]
     },
     "execution_count": 18,
     "metadata": {},
     "output_type": "execute_result"
    }
   ],
   "source": [
    "get_adpage_info(bus_urls[5], browser)"
   ]
  },
  {
   "cell_type": "code",
   "execution_count": 16,
   "metadata": {
    "ExecuteTime": {
     "end_time": "2020-07-10T02:35:39.359603Z",
     "start_time": "2020-07-10T02:35:33.936304Z"
    }
   },
   "outputs": [],
   "source": [
    "browser = Browser('chrome', headless=True)"
   ]
  },
  {
   "cell_type": "markdown",
   "metadata": {},
   "source": [
    "# Scraper"
   ]
  },
  {
   "cell_type": "code",
   "execution_count": 7,
   "metadata": {
    "ExecuteTime": {
     "end_time": "2020-07-10T01:34:20.223533Z",
     "start_time": "2020-07-10T01:34:20.216551Z"
    }
   },
   "outputs": [
    {
     "data": {
      "text/plain": [
       "'/ad/nMMo/goldwater-law-firm-lawsuits-non-hodgkins-lymphoma'"
      ]
     },
     "execution_count": 7,
     "metadata": {},
     "output_type": "execute_result"
    }
   ],
   "source": [
    "bus_urls[0]"
   ]
  }
 ],
 "metadata": {
  "kernelspec": {
   "display_name": "Python 3",
   "language": "python",
   "name": "python3"
  },
  "language_info": {
   "codemirror_mode": {
    "name": "ipython",
    "version": 3
   },
   "file_extension": ".py",
   "mimetype": "text/x-python",
   "name": "python",
   "nbconvert_exporter": "python",
   "pygments_lexer": "ipython3",
   "version": "3.6.4"
  },
  "toc": {
   "base_numbering": 1,
   "nav_menu": {},
   "number_sections": true,
   "sideBar": true,
   "skip_h1_title": false,
   "title_cell": "Table of Contents",
   "title_sidebar": "Contents",
   "toc_cell": false,
   "toc_position": {},
   "toc_section_display": true,
   "toc_window_display": false
  }
 },
 "nbformat": 4,
 "nbformat_minor": 2
}
